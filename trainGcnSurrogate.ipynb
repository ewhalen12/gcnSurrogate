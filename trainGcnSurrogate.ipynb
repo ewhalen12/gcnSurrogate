{
 "cells": [
  {
   "cell_type": "markdown",
   "metadata": {},
   "source": [
    "# Intro to Gragh Convolutional Surrogate Models\n",
    "Eamon Whalen"
   ]
  },
  {
   "cell_type": "code",
   "execution_count": 1,
   "metadata": {},
   "outputs": [],
   "source": [
    "import sys\n",
    "import numpy as np\n",
    "import pandas as pd\n",
    "import altair as alt\n",
    "\n",
    "sys.path.append('/home/ewhalen/projects/caeSurrogateUtility')\n",
    "import caeUtility as cu\n",
    "\n",
    "sys.path.append('./models')\n",
    "from feastnetSurrogateModel import FeaStNet\n",
    "\n",
    "sys.path.append('./readers')\n",
    "from loadGhGraphs import loadGhGraphs\n",
    "\n",
    "sys.path.append('./visualization')\n",
    "from altTrussViz import plotTruss\n",
    "\n",
    "sys.path.append('./util')\n",
    "from gcnSurrogateUtil import *"
   ]
  },
  {
   "cell_type": "markdown",
   "metadata": {},
   "source": [
    "## 1. Load simulation data"
   ]
  },
  {
   "cell_type": "code",
   "execution_count": 2,
   "metadata": {},
   "outputs": [
    {
     "data": {
      "text/html": [
       "<div>\n",
       "<style scoped>\n",
       "    .dataframe tbody tr th:only-of-type {\n",
       "        vertical-align: middle;\n",
       "    }\n",
       "\n",
       "    .dataframe tbody tr th {\n",
       "        vertical-align: top;\n",
       "    }\n",
       "\n",
       "    .dataframe thead th {\n",
       "        text-align: right;\n",
       "    }\n",
       "</style>\n",
       "<table border=\"1\" class=\"dataframe\">\n",
       "  <thead>\n",
       "    <tr style=\"text-align: right;\">\n",
       "      <th></th>\n",
       "      <th>maxes</th>\n",
       "    </tr>\n",
       "  </thead>\n",
       "  <tbody>\n",
       "    <tr>\n",
       "      <th>count</th>\n",
       "      <td>1000.000000</td>\n",
       "    </tr>\n",
       "    <tr>\n",
       "      <th>mean</th>\n",
       "      <td>0.199516</td>\n",
       "    </tr>\n",
       "    <tr>\n",
       "      <th>std</th>\n",
       "      <td>2.524026</td>\n",
       "    </tr>\n",
       "    <tr>\n",
       "      <th>min</th>\n",
       "      <td>0.006570</td>\n",
       "    </tr>\n",
       "    <tr>\n",
       "      <th>25%</th>\n",
       "      <td>0.015425</td>\n",
       "    </tr>\n",
       "    <tr>\n",
       "      <th>50%</th>\n",
       "      <td>0.024334</td>\n",
       "    </tr>\n",
       "    <tr>\n",
       "      <th>75%</th>\n",
       "      <td>0.046981</td>\n",
       "    </tr>\n",
       "    <tr>\n",
       "      <th>max</th>\n",
       "      <td>67.325867</td>\n",
       "    </tr>\n",
       "  </tbody>\n",
       "</table>\n",
       "</div>"
      ],
      "text/plain": [
       "             maxes\n",
       "count  1000.000000\n",
       "mean      0.199516\n",
       "std       2.524026\n",
       "min       0.006570\n",
       "25%       0.015425\n",
       "50%       0.024334\n",
       "75%       0.046981\n",
       "max      67.325867"
      ]
     },
     "execution_count": 2,
     "metadata": {},
     "output_type": "execute_result"
    }
   ],
   "source": [
    "doeFile = \"/home/ewhalen/projects/data/trusses/2D_Truss_v1.3/design_7_N_1000.csv\"\n",
    "allGraphsUnfiltered = loadGhGraphs(doeFile, NUM_DV=5)\n",
    "\n",
    "maxes = [max(np.abs(graph.y.numpy().flatten())) for graph in allGraphsUnfiltered]\n",
    "source = pd.DataFrame(maxes, columns=['maxes'])\n",
    "source.describe()"
   ]
  },
  {
   "cell_type": "code",
   "execution_count": 3,
   "metadata": {},
   "outputs": [
    {
     "data": {
      "text/html": [
       "\n",
       "<div id=\"altair-viz-fecb77057cb14bd1ae47489f0ab1e20d\"></div>\n",
       "<script type=\"text/javascript\">\n",
       "  (function(spec, embedOpt){\n",
       "    let outputDiv = document.currentScript.previousElementSibling;\n",
       "    if (outputDiv.id !== \"altair-viz-fecb77057cb14bd1ae47489f0ab1e20d\") {\n",
       "      outputDiv = document.getElementById(\"altair-viz-fecb77057cb14bd1ae47489f0ab1e20d\");\n",
       "    }\n",
       "    const paths = {\n",
       "      \"vega\": \"https://cdn.jsdelivr.net/npm//vega@5?noext\",\n",
       "      \"vega-lib\": \"https://cdn.jsdelivr.net/npm//vega-lib?noext\",\n",
       "      \"vega-lite\": \"https://cdn.jsdelivr.net/npm//vega-lite@4.8.1?noext\",\n",
       "      \"vega-embed\": \"https://cdn.jsdelivr.net/npm//vega-embed@6?noext\",\n",
       "    };\n",
       "\n",
       "    function loadScript(lib) {\n",
       "      return new Promise(function(resolve, reject) {\n",
       "        var s = document.createElement('script');\n",
       "        s.src = paths[lib];\n",
       "        s.async = true;\n",
       "        s.onload = () => resolve(paths[lib]);\n",
       "        s.onerror = () => reject(`Error loading script: ${paths[lib]}`);\n",
       "        document.getElementsByTagName(\"head\")[0].appendChild(s);\n",
       "      });\n",
       "    }\n",
       "\n",
       "    function showError(err) {\n",
       "      outputDiv.innerHTML = `<div class=\"error\" style=\"color:red;\">${err}</div>`;\n",
       "      throw err;\n",
       "    }\n",
       "\n",
       "    function displayChart(vegaEmbed) {\n",
       "      vegaEmbed(outputDiv, spec, embedOpt)\n",
       "        .catch(err => showError(`Javascript Error: ${err.message}<br>This usually means there's a typo in your chart specification. See the javascript console for the full traceback.`));\n",
       "    }\n",
       "\n",
       "    if(typeof define === \"function\" && define.amd) {\n",
       "      requirejs.config({paths});\n",
       "      require([\"vega-embed\"], displayChart, err => showError(`Error loading script: ${err.message}`));\n",
       "    } else if (typeof vegaEmbed === \"function\") {\n",
       "      displayChart(vegaEmbed);\n",
       "    } else {\n",
       "      loadScript(\"vega\")\n",
       "        .then(() => loadScript(\"vega-lite\"))\n",
       "        .then(() => loadScript(\"vega-embed\"))\n",
       "        .catch(showError)\n",
       "        .then(() => displayChart(vegaEmbed));\n",
       "    }\n",
       "  })({\"config\": {\"view\": {\"continuousWidth\": 400, \"continuousHeight\": 300, \"strokeOpacity\": 0}}, \"layer\": [{\"data\": {\"name\": \"data-c54843a9bf5c15962e09005606697f04\"}, \"mark\": \"circle\", \"encoding\": {\"color\": {\"value\": \"#4C78A8\"}, \"opacity\": {\"value\": 0}, \"size\": {\"value\": 1}, \"x\": {\"type\": \"quantitative\", \"axis\": null, \"field\": \"x\", \"scale\": {\"domain\": [-5.000001907348633, 54.99999809265137]}}, \"y\": {\"type\": \"quantitative\", \"axis\": null, \"field\": \"y\", \"scale\": {\"domain\": [-21.01368474960327, 8.986315250396729]}}}}, {\"data\": {\"name\": \"data-4905735001ccef9b15d6b8ab6931b67b\"}, \"mark\": \"line\", \"encoding\": {\"color\": {\"value\": \"#4C78A8\"}, \"opacity\": {\"value\": 1.0}, \"size\": {\"value\": 2.0}, \"x\": {\"type\": \"quantitative\", \"field\": \"x\"}, \"y\": {\"type\": \"quantitative\", \"field\": \"y\"}}}, {\"data\": {\"name\": \"data-8b400ba0fcfc55a17aa8de6e589b5acd\"}, \"mark\": \"line\", \"encoding\": {\"color\": {\"value\": \"#4C78A8\"}, \"opacity\": {\"value\": 1.0}, \"size\": {\"value\": 2.0}, \"x\": {\"type\": \"quantitative\", \"field\": \"x\"}, \"y\": {\"type\": \"quantitative\", \"field\": \"y\"}}}, {\"data\": {\"name\": \"data-527886cc55d8a82c08429b02e0349b6d\"}, \"mark\": \"line\", \"encoding\": {\"color\": {\"value\": \"#4C78A8\"}, \"opacity\": {\"value\": 1.0}, \"size\": {\"value\": 2.0}, \"x\": {\"type\": \"quantitative\", \"field\": \"x\"}, \"y\": {\"type\": \"quantitative\", \"field\": \"y\"}}}, {\"data\": {\"name\": \"data-796a6588aeccfd64e0a95eb04d176a26\"}, \"mark\": \"line\", \"encoding\": {\"color\": {\"value\": \"#4C78A8\"}, \"opacity\": {\"value\": 1.0}, \"size\": {\"value\": 2.0}, \"x\": {\"type\": \"quantitative\", \"field\": \"x\"}, \"y\": {\"type\": \"quantitative\", \"field\": \"y\"}}}, {\"data\": {\"name\": \"data-1de376352550a0627b0ceea2fce4f25c\"}, \"mark\": \"line\", \"encoding\": {\"color\": {\"value\": \"#4C78A8\"}, \"opacity\": {\"value\": 1.0}, \"size\": {\"value\": 2.0}, \"x\": {\"type\": \"quantitative\", \"field\": \"x\"}, \"y\": {\"type\": \"quantitative\", \"field\": \"y\"}}}, {\"data\": {\"name\": \"data-515fc9bb58f1cae1e00fa8a1dc201630\"}, \"mark\": \"line\", \"encoding\": {\"color\": {\"value\": \"#4C78A8\"}, \"opacity\": {\"value\": 1.0}, \"size\": {\"value\": 2.0}, \"x\": {\"type\": \"quantitative\", \"field\": \"x\"}, \"y\": {\"type\": \"quantitative\", \"field\": \"y\"}}}, {\"data\": {\"name\": \"data-a138bbd12d8c2a2150beab748eb8c1c5\"}, \"mark\": \"line\", \"encoding\": {\"color\": {\"value\": \"#4C78A8\"}, \"opacity\": {\"value\": 1.0}, \"size\": {\"value\": 2.0}, \"x\": {\"type\": \"quantitative\", \"field\": \"x\"}, \"y\": {\"type\": \"quantitative\", \"field\": \"y\"}}}, {\"data\": {\"name\": \"data-05f02cf1ff9c1f020eaa5ad29cda3223\"}, \"mark\": \"line\", \"encoding\": {\"color\": {\"value\": \"#4C78A8\"}, \"opacity\": {\"value\": 1.0}, \"size\": {\"value\": 2.0}, \"x\": {\"type\": \"quantitative\", \"field\": \"x\"}, \"y\": {\"type\": \"quantitative\", \"field\": \"y\"}}}, {\"data\": {\"name\": \"data-40d29d3e692952458d9a1c6a761bcf45\"}, \"mark\": \"line\", \"encoding\": {\"color\": {\"value\": \"#4C78A8\"}, \"opacity\": {\"value\": 1.0}, \"size\": {\"value\": 2.0}, \"x\": {\"type\": \"quantitative\", \"field\": \"x\"}, \"y\": {\"type\": \"quantitative\", \"field\": \"y\"}}}, {\"data\": {\"name\": \"data-83a9a9a49c44b98d2247d6926da36461\"}, \"mark\": \"line\", \"encoding\": {\"color\": {\"value\": \"#4C78A8\"}, \"opacity\": {\"value\": 1.0}, \"size\": {\"value\": 2.0}, \"x\": {\"type\": \"quantitative\", \"field\": \"x\"}, \"y\": {\"type\": \"quantitative\", \"field\": \"y\"}}}, {\"data\": {\"name\": \"data-7a00bc7907b5f43b0ba3b4164145bd92\"}, \"mark\": \"line\", \"encoding\": {\"color\": {\"value\": \"#4C78A8\"}, \"opacity\": {\"value\": 1.0}, \"size\": {\"value\": 2.0}, \"x\": {\"type\": \"quantitative\", \"field\": \"x\"}, \"y\": {\"type\": \"quantitative\", \"field\": \"y\"}}}, {\"data\": {\"name\": \"data-22a7c53b39b322df4e19ec1eb5c41f0c\"}, \"mark\": \"line\", \"encoding\": {\"color\": {\"value\": \"#4C78A8\"}, \"opacity\": {\"value\": 1.0}, \"size\": {\"value\": 2.0}, \"x\": {\"type\": \"quantitative\", \"field\": \"x\"}, \"y\": {\"type\": \"quantitative\", \"field\": \"y\"}}}, {\"data\": {\"name\": \"data-a5f54abaf950aceb10af33ac0aae8af7\"}, \"mark\": \"line\", \"encoding\": {\"color\": {\"value\": \"#4C78A8\"}, \"opacity\": {\"value\": 1.0}, \"size\": {\"value\": 2.0}, \"x\": {\"type\": \"quantitative\", \"field\": \"x\"}, \"y\": {\"type\": \"quantitative\", \"field\": \"y\"}}}, {\"data\": {\"name\": \"data-a3bbe2f942d9a018fe94dbf3bf17c361\"}, \"mark\": \"line\", \"encoding\": {\"color\": {\"value\": \"#4C78A8\"}, \"opacity\": {\"value\": 1.0}, \"size\": {\"value\": 2.0}, \"x\": {\"type\": \"quantitative\", \"field\": \"x\"}, \"y\": {\"type\": \"quantitative\", \"field\": \"y\"}}}, {\"data\": {\"name\": \"data-bf2e7c29cf9b848a7b6a7c0718ca4bfa\"}, \"mark\": \"line\", \"encoding\": {\"color\": {\"value\": \"#4C78A8\"}, \"opacity\": {\"value\": 1.0}, \"size\": {\"value\": 2.0}, \"x\": {\"type\": \"quantitative\", \"field\": \"x\"}, \"y\": {\"type\": \"quantitative\", \"field\": \"y\"}}}, {\"data\": {\"name\": \"data-f50d695f135da468e6bcdb4177ef38e2\"}, \"mark\": \"line\", \"encoding\": {\"color\": {\"value\": \"#4C78A8\"}, \"opacity\": {\"value\": 1.0}, \"size\": {\"value\": 2.0}, \"x\": {\"type\": \"quantitative\", \"field\": \"x\"}, \"y\": {\"type\": \"quantitative\", \"field\": \"y\"}}}, {\"data\": {\"name\": \"data-58787370d19e48d194f5f640dbcebe12\"}, \"mark\": \"line\", \"encoding\": {\"color\": {\"value\": \"#4C78A8\"}, \"opacity\": {\"value\": 1.0}, \"size\": {\"value\": 2.0}, \"x\": {\"type\": \"quantitative\", \"field\": \"x\"}, \"y\": {\"type\": \"quantitative\", \"field\": \"y\"}}}, {\"data\": {\"name\": \"data-5725cc0e55d8831c744fb012b6a10822\"}, \"mark\": \"line\", \"encoding\": {\"color\": {\"value\": \"#4C78A8\"}, \"opacity\": {\"value\": 1.0}, \"size\": {\"value\": 2.0}, \"x\": {\"type\": \"quantitative\", \"field\": \"x\"}, \"y\": {\"type\": \"quantitative\", \"field\": \"y\"}}}, {\"data\": {\"name\": \"data-a5006c1171c47fba0be391a07f1f3fd4\"}, \"mark\": \"line\", \"encoding\": {\"color\": {\"value\": \"#4C78A8\"}, \"opacity\": {\"value\": 1.0}, \"size\": {\"value\": 2.0}, \"x\": {\"type\": \"quantitative\", \"field\": \"x\"}, \"y\": {\"type\": \"quantitative\", \"field\": \"y\"}}}, {\"data\": {\"name\": \"data-a9a107e75e330d6dd18d2932a3c34ad6\"}, \"mark\": \"line\", \"encoding\": {\"color\": {\"value\": \"#4C78A8\"}, \"opacity\": {\"value\": 1.0}, \"size\": {\"value\": 2.0}, \"x\": {\"type\": \"quantitative\", \"field\": \"x\"}, \"y\": {\"type\": \"quantitative\", \"field\": \"y\"}}}, {\"data\": {\"name\": \"data-1e7fcf51c2ebba8e57fd5dab5e156108\"}, \"mark\": \"line\", \"encoding\": {\"color\": {\"value\": \"#4C78A8\"}, \"opacity\": {\"value\": 1.0}, \"size\": {\"value\": 2.0}, \"x\": {\"type\": \"quantitative\", \"field\": \"x\"}, \"y\": {\"type\": \"quantitative\", \"field\": \"y\"}}}, {\"data\": {\"name\": \"data-5a6d941763adbe3f8b5f23ae62e0472d\"}, \"mark\": \"line\", \"encoding\": {\"color\": {\"value\": \"#4C78A8\"}, \"opacity\": {\"value\": 1.0}, \"size\": {\"value\": 2.0}, \"x\": {\"type\": \"quantitative\", \"field\": \"x\"}, \"y\": {\"type\": \"quantitative\", \"field\": \"y\"}}}, {\"data\": {\"name\": \"data-4fa8ed58fdadf570dccc64e262b0b800\"}, \"mark\": \"line\", \"encoding\": {\"color\": {\"value\": \"#4C78A8\"}, \"opacity\": {\"value\": 1.0}, \"size\": {\"value\": 2.0}, \"x\": {\"type\": \"quantitative\", \"field\": \"x\"}, \"y\": {\"type\": \"quantitative\", \"field\": \"y\"}}}, {\"data\": {\"name\": \"data-d721b0a525ad725f3a7df69db3fbbc7d\"}, \"mark\": \"line\", \"encoding\": {\"color\": {\"value\": \"#4C78A8\"}, \"opacity\": {\"value\": 1.0}, \"size\": {\"value\": 2.0}, \"x\": {\"type\": \"quantitative\", \"field\": \"x\"}, \"y\": {\"type\": \"quantitative\", \"field\": \"y\"}}}, {\"data\": {\"name\": \"data-c18cb48d67b0f2e3c33a91f8f069c9bd\"}, \"mark\": \"line\", \"encoding\": {\"color\": {\"value\": \"#4C78A8\"}, \"opacity\": {\"value\": 1.0}, \"size\": {\"value\": 2.0}, \"x\": {\"type\": \"quantitative\", \"field\": \"x\"}, \"y\": {\"type\": \"quantitative\", \"field\": \"y\"}}}, {\"data\": {\"name\": \"data-b4b5e6cc1eb26d5f4d69e0d3cb22d6c0\"}, \"mark\": \"line\", \"encoding\": {\"color\": {\"value\": \"#4C78A8\"}, \"opacity\": {\"value\": 1.0}, \"size\": {\"value\": 2.0}, \"x\": {\"type\": \"quantitative\", \"field\": \"x\"}, \"y\": {\"type\": \"quantitative\", \"field\": \"y\"}}}, {\"data\": {\"name\": \"data-171ca0c60e62f6b0e2a36f7a24d16954\"}, \"mark\": \"line\", \"encoding\": {\"color\": {\"value\": \"#4C78A8\"}, \"opacity\": {\"value\": 1.0}, \"size\": {\"value\": 2.0}, \"x\": {\"type\": \"quantitative\", \"field\": \"x\"}, \"y\": {\"type\": \"quantitative\", \"field\": \"y\"}}}], \"background\": \"white\", \"height\": 300, \"width\": 600, \"$schema\": \"https://vega.github.io/schema/vega-lite/v4.8.1.json\", \"datasets\": {\"data-c54843a9bf5c15962e09005606697f04\": [{\"x\": 0.0, \"y\": 0.0}, {\"x\": 6.245683670043945, \"y\": -9.555878639221191}, {\"x\": 7.142857074737549, \"y\": 0.0}, {\"x\": 10.99565315246582, \"y\": -20.01490020751953}, {\"x\": 14.285714149475098, \"y\": 0.0}, {\"x\": 17.834348678588867, \"y\": -13.115190505981445}, {\"x\": 21.428571701049805, \"y\": 0.0}, {\"x\": 25.0, \"y\": -4.833333492279053}, {\"x\": 28.571428298950195, \"y\": 0.0}, {\"x\": 32.1656494140625, \"y\": -13.115190505981445}, {\"x\": 35.71428680419922, \"y\": 0.0}, {\"x\": 39.00434494018555, \"y\": -20.01490020751953}, {\"x\": 42.85714340209961, \"y\": 0.0}, {\"x\": 43.75431442260742, \"y\": -9.555878639221191}, {\"x\": 50.0, \"y\": 0.0}], \"data-4905735001ccef9b15d6b8ab6931b67b\": [{\"x\": 0.0, \"y\": 0.0}, {\"x\": 6.245683670043945, \"y\": -9.555878639221191}], \"data-8b400ba0fcfc55a17aa8de6e589b5acd\": [{\"x\": 0.0, \"y\": 0.0}, {\"x\": 7.142857074737549, \"y\": 0.0}], \"data-527886cc55d8a82c08429b02e0349b6d\": [{\"x\": 6.245683670043945, \"y\": -9.555878639221191}, {\"x\": 7.142857074737549, \"y\": 0.0}], \"data-796a6588aeccfd64e0a95eb04d176a26\": [{\"x\": 6.245683670043945, \"y\": -9.555878639221191}, {\"x\": 10.99565315246582, \"y\": -20.01490020751953}], \"data-1de376352550a0627b0ceea2fce4f25c\": [{\"x\": 7.142857074737549, \"y\": 0.0}, {\"x\": 10.99565315246582, \"y\": -20.01490020751953}], \"data-515fc9bb58f1cae1e00fa8a1dc201630\": [{\"x\": 7.142857074737549, \"y\": 0.0}, {\"x\": 14.285714149475098, \"y\": 0.0}], \"data-a138bbd12d8c2a2150beab748eb8c1c5\": [{\"x\": 10.99565315246582, \"y\": -20.01490020751953}, {\"x\": 14.285714149475098, \"y\": 0.0}], \"data-05f02cf1ff9c1f020eaa5ad29cda3223\": [{\"x\": 10.99565315246582, \"y\": -20.01490020751953}, {\"x\": 17.834348678588867, \"y\": -13.115190505981445}], \"data-40d29d3e692952458d9a1c6a761bcf45\": [{\"x\": 14.285714149475098, \"y\": 0.0}, {\"x\": 17.834348678588867, \"y\": -13.115190505981445}], \"data-83a9a9a49c44b98d2247d6926da36461\": [{\"x\": 14.285714149475098, \"y\": 0.0}, {\"x\": 21.428571701049805, \"y\": 0.0}], \"data-7a00bc7907b5f43b0ba3b4164145bd92\": [{\"x\": 17.834348678588867, \"y\": -13.115190505981445}, {\"x\": 21.428571701049805, \"y\": 0.0}], \"data-22a7c53b39b322df4e19ec1eb5c41f0c\": [{\"x\": 17.834348678588867, \"y\": -13.115190505981445}, {\"x\": 25.0, \"y\": -4.833333492279053}], \"data-a5f54abaf950aceb10af33ac0aae8af7\": [{\"x\": 21.428571701049805, \"y\": 0.0}, {\"x\": 25.0, \"y\": -4.833333492279053}], \"data-a3bbe2f942d9a018fe94dbf3bf17c361\": [{\"x\": 21.428571701049805, \"y\": 0.0}, {\"x\": 28.571428298950195, \"y\": 0.0}], \"data-bf2e7c29cf9b848a7b6a7c0718ca4bfa\": [{\"x\": 25.0, \"y\": -4.833333492279053}, {\"x\": 28.571428298950195, \"y\": 0.0}], \"data-f50d695f135da468e6bcdb4177ef38e2\": [{\"x\": 25.0, \"y\": -4.833333492279053}, {\"x\": 32.1656494140625, \"y\": -13.115190505981445}], \"data-58787370d19e48d194f5f640dbcebe12\": [{\"x\": 28.571428298950195, \"y\": 0.0}, {\"x\": 32.1656494140625, \"y\": -13.115190505981445}], \"data-5725cc0e55d8831c744fb012b6a10822\": [{\"x\": 28.571428298950195, \"y\": 0.0}, {\"x\": 35.71428680419922, \"y\": 0.0}], \"data-a5006c1171c47fba0be391a07f1f3fd4\": [{\"x\": 32.1656494140625, \"y\": -13.115190505981445}, {\"x\": 35.71428680419922, \"y\": 0.0}], \"data-a9a107e75e330d6dd18d2932a3c34ad6\": [{\"x\": 32.1656494140625, \"y\": -13.115190505981445}, {\"x\": 39.00434494018555, \"y\": -20.01490020751953}], \"data-1e7fcf51c2ebba8e57fd5dab5e156108\": [{\"x\": 35.71428680419922, \"y\": 0.0}, {\"x\": 39.00434494018555, \"y\": -20.01490020751953}], \"data-5a6d941763adbe3f8b5f23ae62e0472d\": [{\"x\": 35.71428680419922, \"y\": 0.0}, {\"x\": 42.85714340209961, \"y\": 0.0}], \"data-4fa8ed58fdadf570dccc64e262b0b800\": [{\"x\": 39.00434494018555, \"y\": -20.01490020751953}, {\"x\": 42.85714340209961, \"y\": 0.0}], \"data-d721b0a525ad725f3a7df69db3fbbc7d\": [{\"x\": 39.00434494018555, \"y\": -20.01490020751953}, {\"x\": 43.75431442260742, \"y\": -9.555878639221191}], \"data-c18cb48d67b0f2e3c33a91f8f069c9bd\": [{\"x\": 42.85714340209961, \"y\": 0.0}, {\"x\": 43.75431442260742, \"y\": -9.555878639221191}], \"data-b4b5e6cc1eb26d5f4d69e0d3cb22d6c0\": [{\"x\": 42.85714340209961, \"y\": 0.0}, {\"x\": 50.0, \"y\": 0.0}], \"data-171ca0c60e62f6b0e2a36f7a24d16954\": [{\"x\": 43.75431442260742, \"y\": -9.555878639221191}, {\"x\": 50.0, \"y\": 0.0}]}}, {\"mode\": \"vega-lite\"});\n",
       "</script>"
      ],
      "text/plain": [
       "alt.LayerChart(...)"
      ]
     },
     "execution_count": 3,
     "metadata": {},
     "output_type": "execute_result"
    }
   ],
   "source": [
    "plotTruss(allGraphsUnfiltered[0])"
   ]
  },
  {
   "cell_type": "markdown",
   "metadata": {},
   "source": [
    "## 2. Filter and partition"
   ]
  },
  {
   "cell_type": "code",
   "execution_count": 4,
   "metadata": {},
   "outputs": [
    {
     "data": {
      "text/html": [
       "<div>\n",
       "<style scoped>\n",
       "    .dataframe tbody tr th:only-of-type {\n",
       "        vertical-align: middle;\n",
       "    }\n",
       "\n",
       "    .dataframe tbody tr th {\n",
       "        vertical-align: top;\n",
       "    }\n",
       "\n",
       "    .dataframe thead th {\n",
       "        text-align: right;\n",
       "    }\n",
       "</style>\n",
       "<table border=\"1\" class=\"dataframe\">\n",
       "  <thead>\n",
       "    <tr style=\"text-align: right;\">\n",
       "      <th></th>\n",
       "      <th>maxes</th>\n",
       "    </tr>\n",
       "  </thead>\n",
       "  <tbody>\n",
       "    <tr>\n",
       "      <th>count</th>\n",
       "      <td>900.000000</td>\n",
       "    </tr>\n",
       "    <tr>\n",
       "      <th>mean</th>\n",
       "      <td>0.028952</td>\n",
       "    </tr>\n",
       "    <tr>\n",
       "      <th>std</th>\n",
       "      <td>0.019071</td>\n",
       "    </tr>\n",
       "    <tr>\n",
       "      <th>min</th>\n",
       "      <td>0.006570</td>\n",
       "    </tr>\n",
       "    <tr>\n",
       "      <th>25%</th>\n",
       "      <td>0.014951</td>\n",
       "    </tr>\n",
       "    <tr>\n",
       "      <th>50%</th>\n",
       "      <td>0.021719</td>\n",
       "    </tr>\n",
       "    <tr>\n",
       "      <th>75%</th>\n",
       "      <td>0.038367</td>\n",
       "    </tr>\n",
       "    <tr>\n",
       "      <th>max</th>\n",
       "      <td>0.097861</td>\n",
       "    </tr>\n",
       "  </tbody>\n",
       "</table>\n",
       "</div>"
      ],
      "text/plain": [
       "            maxes\n",
       "count  900.000000\n",
       "mean     0.028952\n",
       "std      0.019071\n",
       "min      0.006570\n",
       "25%      0.014951\n",
       "50%      0.021719\n",
       "75%      0.038367\n",
       "max      0.097861"
      ]
     },
     "execution_count": 4,
     "metadata": {},
     "output_type": "execute_result"
    }
   ],
   "source": [
    "allGraphs = filterbyDisp(allGraphsUnfiltered, 0.9)\n",
    "trainData, valData, testData = partitionGraphList(allGraphs)\n",
    "\n",
    "maxes = [max(np.abs(graph.y.numpy().flatten())) for graph in allGraphs]\n",
    "source = pd.DataFrame(maxes, columns=['maxes'])\n",
    "source.describe()"
   ]
  },
  {
   "cell_type": "markdown",
   "metadata": {},
   "source": [
    "## 3. Train a GCN"
   ]
  },
  {
   "cell_type": "code",
   "execution_count": 5,
   "metadata": {},
   "outputs": [
    {
     "name": "stdout",
     "output_type": "stream",
     "text": [
      "epoch: 0   trainLoss: 9.6611e-01   valLoss:9.3734e-01  time: 1.32e+00\n",
      "epoch: 1   trainLoss: 8.6046e-01   valLoss:9.3652e-01  time: 1.01e+00\n",
      "loading checkpoint 1\n"
     ]
    },
    {
     "data": {
      "text/html": [
       "\n",
       "<div id=\"altair-viz-735c454c933644788e0d18a2342f47b8\"></div>\n",
       "<script type=\"text/javascript\">\n",
       "  (function(spec, embedOpt){\n",
       "    let outputDiv = document.currentScript.previousElementSibling;\n",
       "    if (outputDiv.id !== \"altair-viz-735c454c933644788e0d18a2342f47b8\") {\n",
       "      outputDiv = document.getElementById(\"altair-viz-735c454c933644788e0d18a2342f47b8\");\n",
       "    }\n",
       "    const paths = {\n",
       "      \"vega\": \"https://cdn.jsdelivr.net/npm//vega@5?noext\",\n",
       "      \"vega-lib\": \"https://cdn.jsdelivr.net/npm//vega-lib?noext\",\n",
       "      \"vega-lite\": \"https://cdn.jsdelivr.net/npm//vega-lite@4.8.1?noext\",\n",
       "      \"vega-embed\": \"https://cdn.jsdelivr.net/npm//vega-embed@6?noext\",\n",
       "    };\n",
       "\n",
       "    function loadScript(lib) {\n",
       "      return new Promise(function(resolve, reject) {\n",
       "        var s = document.createElement('script');\n",
       "        s.src = paths[lib];\n",
       "        s.async = true;\n",
       "        s.onload = () => resolve(paths[lib]);\n",
       "        s.onerror = () => reject(`Error loading script: ${paths[lib]}`);\n",
       "        document.getElementsByTagName(\"head\")[0].appendChild(s);\n",
       "      });\n",
       "    }\n",
       "\n",
       "    function showError(err) {\n",
       "      outputDiv.innerHTML = `<div class=\"error\" style=\"color:red;\">${err}</div>`;\n",
       "      throw err;\n",
       "    }\n",
       "\n",
       "    function displayChart(vegaEmbed) {\n",
       "      vegaEmbed(outputDiv, spec, embedOpt)\n",
       "        .catch(err => showError(`Javascript Error: ${err.message}<br>This usually means there's a typo in your chart specification. See the javascript console for the full traceback.`));\n",
       "    }\n",
       "\n",
       "    if(typeof define === \"function\" && define.amd) {\n",
       "      requirejs.config({paths});\n",
       "      require([\"vega-embed\"], displayChart, err => showError(`Error loading script: ${err.message}`));\n",
       "    } else if (typeof vegaEmbed === \"function\") {\n",
       "      displayChart(vegaEmbed);\n",
       "    } else {\n",
       "      loadScript(\"vega\")\n",
       "        .then(() => loadScript(\"vega-lite\"))\n",
       "        .then(() => loadScript(\"vega-embed\"))\n",
       "        .catch(showError)\n",
       "        .then(() => displayChart(vegaEmbed));\n",
       "    }\n",
       "  })({\"config\": {\"view\": {\"continuousWidth\": 400, \"continuousHeight\": 300}}, \"data\": {\"name\": \"data-ed44245e28d8c85a4b7d05e3856edf91\"}, \"mark\": \"line\", \"encoding\": {\"color\": {\"type\": \"nominal\", \"field\": \"metric\"}, \"tooltip\": [{\"type\": \"quantitative\", \"field\": \"epoch\"}, {\"type\": \"quantitative\", \"field\": \"value\"}], \"x\": {\"type\": \"quantitative\", \"field\": \"index\"}, \"y\": {\"type\": \"quantitative\", \"axis\": {\"title\": \"loss\"}, \"field\": \"value\"}}, \"height\": 200, \"transform\": [{\"fold\": [\"train\", \"val\"], \"as\": [\"metric\", \"value\"]}], \"width\": 400, \"$schema\": \"https://vega.github.io/schema/vega-lite/v4.8.1.json\", \"datasets\": {\"data-ed44245e28d8c85a4b7d05e3856edf91\": [{\"index\": 0, \"train\": 0.9661113619804382, \"val\": 0.9373425470872058}, {\"index\": 1, \"train\": 0.8604592283566793, \"val\": 0.9365156130106361}]}}, {\"mode\": \"vega-lite\"});\n",
       "</script>"
      ],
      "text/plain": [
       "alt.Chart(...)"
      ]
     },
     "execution_count": 5,
     "metadata": {},
     "output_type": "execute_result"
    }
   ],
   "source": [
    "gcn = FeaStNet()\n",
    "history = gcn.trainModel(trainData, valData, \n",
    "                     epochs=2, \n",
    "                     batch_size=256, \n",
    "                     flatten=True, \n",
    "                     logTrans=False, \n",
    "                     ssTrans=True, \n",
    "                     saveDir='./results/debugging/')\n",
    "\n",
    "plotHistory(history)"
   ]
  },
  {
   "cell_type": "markdown",
   "metadata": {},
   "source": [
    "## 4. Test the GCN"
   ]
  },
  {
   "cell_type": "code",
   "execution_count": 7,
   "metadata": {},
   "outputs": [
    {
     "data": {
      "text/html": [
       "<div>\n",
       "<style scoped>\n",
       "    .dataframe tbody tr th:only-of-type {\n",
       "        vertical-align: middle;\n",
       "    }\n",
       "\n",
       "    .dataframe tbody tr th {\n",
       "        vertical-align: top;\n",
       "    }\n",
       "\n",
       "    .dataframe thead th {\n",
       "        text-align: right;\n",
       "    }\n",
       "</style>\n",
       "<table border=\"1\" class=\"dataframe\">\n",
       "  <thead>\n",
       "    <tr style=\"text-align: right;\">\n",
       "      <th></th>\n",
       "      <th>mse</th>\n",
       "      <th>mae</th>\n",
       "      <th>mre</th>\n",
       "      <th>peakR2</th>\n",
       "      <th>maxAggR2</th>\n",
       "      <th>meanAggR2</th>\n",
       "      <th>minAggR2</th>\n",
       "    </tr>\n",
       "  </thead>\n",
       "  <tbody>\n",
       "    <tr>\n",
       "      <th>train</th>\n",
       "      <td>0.000210</td>\n",
       "      <td>0.009818</td>\n",
       "      <td>0.380382</td>\n",
       "      <td>-1.254488</td>\n",
       "      <td>0.000148</td>\n",
       "      <td>-8.402157</td>\n",
       "      <td>-122.915306</td>\n",
       "    </tr>\n",
       "    <tr>\n",
       "      <th>test</th>\n",
       "      <td>0.000168</td>\n",
       "      <td>0.008772</td>\n",
       "      <td>0.355522</td>\n",
       "      <td>-1.282059</td>\n",
       "      <td>-0.000016</td>\n",
       "      <td>-6.621093</td>\n",
       "      <td>-95.291252</td>\n",
       "    </tr>\n",
       "  </tbody>\n",
       "</table>\n",
       "</div>"
      ],
      "text/plain": [
       "            mse       mae       mre    peakR2  maxAggR2  meanAggR2    minAggR2\n",
       "train  0.000210  0.009818  0.380382 -1.254488  0.000148  -8.402157 -122.915306\n",
       "test   0.000168  0.008772  0.355522 -1.282059 -0.000016  -6.621093  -95.291252"
      ]
     },
     "execution_count": 7,
     "metadata": {},
     "output_type": "execute_result"
    }
   ],
   "source": [
    "trainRes = gcn.testModel(trainData)\n",
    "testRes = gcn.testModel(testData)\n",
    "pd.DataFrame([trainRes, testRes], index=['train', 'test'])"
   ]
  },
  {
   "cell_type": "markdown",
   "metadata": {},
   "source": [
    "## 5. Visualize some predictions"
   ]
  },
  {
   "cell_type": "code",
   "execution_count": null,
   "metadata": {},
   "outputs": [],
   "source": []
  }
 ],
 "metadata": {
  "kernelspec": {
   "display_name": "ptgeom",
   "language": "python",
   "name": "ptgeom"
  },
  "language_info": {
   "codemirror_mode": {
    "name": "ipython",
    "version": 3
   },
   "file_extension": ".py",
   "mimetype": "text/x-python",
   "name": "python",
   "nbconvert_exporter": "python",
   "pygments_lexer": "ipython3",
   "version": "3.7.7"
  }
 },
 "nbformat": 4,
 "nbformat_minor": 2
}
