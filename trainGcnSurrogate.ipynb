{
 "cells": [
  {
   "cell_type": "markdown",
   "metadata": {},
   "source": [
    "# Intro to gragh convolutional surrogate models\n",
    "Eamon Whalen"
   ]
  },
  {
   "cell_type": "code",
   "execution_count": 1,
   "metadata": {},
   "outputs": [],
   "source": [
    "import sys\n",
    "import os\n",
    "import numpy as np\n",
    "import pandas as pd\n",
    "import altair as alt\n",
    "\n",
    "from gcnSurrogate.models.feastnetSurrogateModel import FeaStNet\n",
    "from gcnSurrogate.readers.loadConmechGraphs import loadConmechGraphs\n",
    "from gcnSurrogate.visualization.altTrussViz import plotTruss, interactiveErrorPlot\n",
    "from gcnSurrogate.util.gcnSurrogateUtil import *"
   ]
  },
  {
   "cell_type": "markdown",
   "metadata": {},
   "source": [
    "## 1. Load simulation data"
   ]
  },
  {
   "cell_type": "code",
   "execution_count": 2,
   "metadata": {},
   "outputs": [
    {
     "data": {
      "text/html": [
       "<div>\n",
       "<style scoped>\n",
       "    .dataframe tbody tr th:only-of-type {\n",
       "        vertical-align: middle;\n",
       "    }\n",
       "\n",
       "    .dataframe tbody tr th {\n",
       "        vertical-align: top;\n",
       "    }\n",
       "\n",
       "    .dataframe thead th {\n",
       "        text-align: right;\n",
       "    }\n",
       "</style>\n",
       "<table border=\"1\" class=\"dataframe\">\n",
       "  <thead>\n",
       "    <tr style=\"text-align: right;\">\n",
       "      <th></th>\n",
       "      <th>maxes</th>\n",
       "    </tr>\n",
       "  </thead>\n",
       "  <tbody>\n",
       "    <tr>\n",
       "      <th>count</th>\n",
       "      <td>1000.000000</td>\n",
       "    </tr>\n",
       "    <tr>\n",
       "      <th>mean</th>\n",
       "      <td>0.137562</td>\n",
       "    </tr>\n",
       "    <tr>\n",
       "      <th>std</th>\n",
       "      <td>1.740254</td>\n",
       "    </tr>\n",
       "    <tr>\n",
       "      <th>min</th>\n",
       "      <td>0.004530</td>\n",
       "    </tr>\n",
       "    <tr>\n",
       "      <th>25%</th>\n",
       "      <td>0.010635</td>\n",
       "    </tr>\n",
       "    <tr>\n",
       "      <th>50%</th>\n",
       "      <td>0.016778</td>\n",
       "    </tr>\n",
       "    <tr>\n",
       "      <th>75%</th>\n",
       "      <td>0.032392</td>\n",
       "    </tr>\n",
       "    <tr>\n",
       "      <th>max</th>\n",
       "      <td>46.419552</td>\n",
       "    </tr>\n",
       "  </tbody>\n",
       "</table>\n",
       "</div>"
      ],
      "text/plain": [
       "             maxes\n",
       "count  1000.000000\n",
       "mean      0.137562\n",
       "std       1.740254\n",
       "min       0.004530\n",
       "25%       0.010635\n",
       "50%       0.016778\n",
       "75%       0.032392\n",
       "max      46.419552"
      ]
     },
     "execution_count": 2,
     "metadata": {},
     "output_type": "execute_result"
    }
   ],
   "source": [
    "dataDir = 'data/2D_Truss_v1.3/conmech/design_7_N_1000/'\n",
    "allGraphsUnfiltered = loadConmechGraphs(dataDir)\n",
    "\n",
    "maxes = [max(np.abs(graph.y.numpy().flatten())) for graph in allGraphsUnfiltered]\n",
    "source = pd.DataFrame(maxes, columns=['maxes'])\n",
    "source.describe()"
   ]
  },
  {
   "cell_type": "code",
   "execution_count": 3,
   "metadata": {},
   "outputs": [],
   "source": [
    "# plotTruss(allGraphsUnfiltered[0], showDeformed=True, defScale=10)"
   ]
  },
  {
   "cell_type": "markdown",
   "metadata": {},
   "source": [
    "## 2. Filter and partition"
   ]
  },
  {
   "cell_type": "code",
   "execution_count": 4,
   "metadata": {},
   "outputs": [
    {
     "data": {
      "text/html": [
       "<div>\n",
       "<style scoped>\n",
       "    .dataframe tbody tr th:only-of-type {\n",
       "        vertical-align: middle;\n",
       "    }\n",
       "\n",
       "    .dataframe tbody tr th {\n",
       "        vertical-align: top;\n",
       "    }\n",
       "\n",
       "    .dataframe thead th {\n",
       "        text-align: right;\n",
       "    }\n",
       "</style>\n",
       "<table border=\"1\" class=\"dataframe\">\n",
       "  <thead>\n",
       "    <tr style=\"text-align: right;\">\n",
       "      <th></th>\n",
       "      <th>maxes</th>\n",
       "    </tr>\n",
       "  </thead>\n",
       "  <tbody>\n",
       "    <tr>\n",
       "      <th>count</th>\n",
       "      <td>900.000000</td>\n",
       "    </tr>\n",
       "    <tr>\n",
       "      <th>mean</th>\n",
       "      <td>0.019962</td>\n",
       "    </tr>\n",
       "    <tr>\n",
       "      <th>std</th>\n",
       "      <td>0.013149</td>\n",
       "    </tr>\n",
       "    <tr>\n",
       "      <th>min</th>\n",
       "      <td>0.004530</td>\n",
       "    </tr>\n",
       "    <tr>\n",
       "      <th>25%</th>\n",
       "      <td>0.010309</td>\n",
       "    </tr>\n",
       "    <tr>\n",
       "      <th>50%</th>\n",
       "      <td>0.014975</td>\n",
       "    </tr>\n",
       "    <tr>\n",
       "      <th>75%</th>\n",
       "      <td>0.026453</td>\n",
       "    </tr>\n",
       "    <tr>\n",
       "      <th>max</th>\n",
       "      <td>0.067472</td>\n",
       "    </tr>\n",
       "  </tbody>\n",
       "</table>\n",
       "</div>"
      ],
      "text/plain": [
       "            maxes\n",
       "count  900.000000\n",
       "mean     0.019962\n",
       "std      0.013149\n",
       "min      0.004530\n",
       "25%      0.010309\n",
       "50%      0.014975\n",
       "75%      0.026453\n",
       "max      0.067472"
      ]
     },
     "execution_count": 4,
     "metadata": {},
     "output_type": "execute_result"
    }
   ],
   "source": [
    "allGraphs = filterbyDisp(allGraphsUnfiltered, 0.9)\n",
    "trainData, valData, testData = partitionGraphList(allGraphs)\n",
    "\n",
    "maxes = [max(np.abs(graph.y.numpy().flatten())) for graph in allGraphs]\n",
    "source = pd.DataFrame(maxes, columns=['maxes'])\n",
    "source.describe()"
   ]
  },
  {
   "cell_type": "markdown",
   "metadata": {},
   "source": [
    "## 3. Train a GCN"
   ]
  },
  {
   "cell_type": "code",
   "execution_count": 5,
   "metadata": {},
   "outputs": [
    {
     "name": "stdout",
     "output_type": "stream",
     "text": [
      "train model: flatten: True\n",
      "train model: self.flatten: True\n",
      "fitSS: self.flatten: True\n",
      "epoch: 0   trainLoss: 9.3707e-01   valLoss:9.6553e-01  time: 6.21e+00\n",
      "epoch: 1   trainLoss: 7.2877e-01   valLoss:9.5059e-01  time: 1.40e+00\n",
      "epoch: 2   trainLoss: 6.1796e-01   valLoss:1.0302e+00  time: 1.43e+00\n",
      "epoch: 3   trainLoss: 5.0096e-01   valLoss:1.3340e+00  time: 1.41e+00\n",
      "epoch: 4   trainLoss: 4.5089e-01   valLoss:1.1515e+00  time: 1.39e+00\n",
      "epoch: 5   trainLoss: 3.9906e-01   valLoss:1.1968e+00  time: 1.40e+00\n",
      "epoch: 6   trainLoss: 3.4878e-01   valLoss:1.5384e+00  time: 1.40e+00\n",
      "epoch: 7   trainLoss: 3.2077e-01   valLoss:1.3084e+00  time: 1.41e+00\n",
      "epoch: 8   trainLoss: 3.0518e-01   valLoss:1.4648e+00  time: 1.41e+00\n",
      "epoch: 9   trainLoss: 2.5161e-01   valLoss:2.5058e+00  time: 1.43e+00\n",
      "epoch: 10   trainLoss: 2.1811e-01   valLoss:1.9082e+00  time: 1.43e+00\n",
      "epoch: 11   trainLoss: 1.9170e-01   valLoss:3.4080e+00  time: 1.41e+00\n",
      "epoch: 12   trainLoss: 1.8146e-01   valLoss:1.5016e+00  time: 1.43e+00\n",
      "epoch: 13   trainLoss: 1.7423e-01   valLoss:1.8544e+00  time: 1.43e+00\n",
      "epoch: 14   trainLoss: 1.7671e-01   valLoss:1.9700e+00  time: 1.44e+00\n",
      "epoch: 15   trainLoss: 1.4297e-01   valLoss:2.2075e+00  time: 1.40e+00\n",
      "epoch: 16   trainLoss: 1.3489e-01   valLoss:2.2782e+00  time: 1.40e+00\n",
      "epoch: 17   trainLoss: 1.3489e-01   valLoss:1.2185e+00  time: 1.43e+00\n",
      "epoch: 18   trainLoss: 1.1660e-01   valLoss:1.1154e+00  time: 1.42e+00\n",
      "epoch: 19   trainLoss: 1.0917e-01   valLoss:1.0858e+00  time: 1.43e+00\n",
      "epoch: 20   trainLoss: 1.1057e-01   valLoss:1.2456e+00  time: 1.40e+00\n",
      "epoch: 21   trainLoss: 9.7064e-02   valLoss:8.4064e-01  time: 1.42e+00\n",
      "epoch: 22   trainLoss: 1.0985e-01   valLoss:7.8549e-01  time: 1.45e+00\n",
      "epoch: 23   trainLoss: 1.0050e-01   valLoss:1.3439e+00  time: 1.43e+00\n",
      "epoch: 24   trainLoss: 1.1556e-01   valLoss:9.6826e-01  time: 1.43e+00\n",
      "epoch: 25   trainLoss: 1.0982e-01   valLoss:1.1794e+00  time: 1.40e+00\n",
      "epoch: 26   trainLoss: 1.0214e-01   valLoss:7.3625e-01  time: 1.40e+00\n",
      "epoch: 27   trainLoss: 9.8285e-02   valLoss:6.9962e-01  time: 1.40e+00\n",
      "epoch: 28   trainLoss: 8.6105e-02   valLoss:7.3132e-01  time: 1.39e+00\n",
      "epoch: 29   trainLoss: 9.3957e-02   valLoss:5.7901e-01  time: 1.42e+00\n",
      "epoch: 30   trainLoss: 8.4113e-02   valLoss:8.0768e-01  time: 1.42e+00\n",
      "epoch: 31   trainLoss: 8.1786e-02   valLoss:1.0361e+00  time: 1.43e+00\n",
      "epoch: 32   trainLoss: 8.0264e-02   valLoss:5.3807e-01  time: 1.43e+00\n",
      "epoch: 33   trainLoss: 8.9122e-02   valLoss:3.9729e-01  time: 1.44e+00\n",
      "epoch: 34   trainLoss: 8.3557e-02   valLoss:3.0857e-01  time: 1.41e+00\n",
      "epoch: 35   trainLoss: 8.0071e-02   valLoss:7.9590e-01  time: 1.41e+00\n",
      "epoch: 36   trainLoss: 6.5384e-02   valLoss:5.2306e-01  time: 1.43e+00\n",
      "epoch: 37   trainLoss: 6.8789e-02   valLoss:4.2559e-01  time: 1.43e+00\n",
      "epoch: 38   trainLoss: 7.4279e-02   valLoss:6.3764e-01  time: 1.42e+00\n",
      "epoch: 39   trainLoss: 6.5158e-02   valLoss:3.7683e-01  time: 1.40e+00\n",
      "epoch: 40   trainLoss: 6.7823e-02   valLoss:4.3943e-01  time: 1.42e+00\n",
      "epoch: 41   trainLoss: 7.6906e-02   valLoss:3.3276e-01  time: 1.46e+00\n",
      "epoch: 42   trainLoss: 6.5020e-02   valLoss:4.6965e-01  time: 1.44e+00\n",
      "epoch: 43   trainLoss: 5.6590e-02   valLoss:2.7042e-01  time: 1.40e+00\n",
      "epoch: 44   trainLoss: 4.0364e-02   valLoss:2.6794e-01  time: 1.40e+00\n",
      "epoch: 45   trainLoss: 5.0932e-02   valLoss:3.2825e-01  time: 1.41e+00\n",
      "epoch: 46   trainLoss: 4.0959e-02   valLoss:1.9766e-01  time: 1.42e+00\n",
      "epoch: 47   trainLoss: 4.4664e-02   valLoss:2.8057e-01  time: 1.41e+00\n",
      "epoch: 48   trainLoss: 4.9233e-02   valLoss:2.8463e-01  time: 1.40e+00\n",
      "epoch: 49   trainLoss: 4.9710e-02   valLoss:1.6309e-01  time: 1.42e+00\n",
      "epoch: 50   trainLoss: 4.3114e-02   valLoss:2.0466e-01  time: 1.46e+00\n",
      "epoch: 51   trainLoss: 3.9776e-02   valLoss:3.7128e-01  time: 1.41e+00\n",
      "epoch: 52   trainLoss: 4.7248e-02   valLoss:2.8372e-01  time: 1.44e+00\n",
      "epoch: 53   trainLoss: 4.5727e-02   valLoss:1.6002e-01  time: 1.43e+00\n",
      "epoch: 54   trainLoss: 3.6321e-02   valLoss:3.8305e-01  time: 1.43e+00\n",
      "epoch: 55   trainLoss: 3.7749e-02   valLoss:1.0955e-01  time: 1.43e+00\n",
      "epoch: 56   trainLoss: 3.6472e-02   valLoss:1.0763e-01  time: 1.43e+00\n",
      "epoch: 57   trainLoss: 3.6835e-02   valLoss:1.2579e-01  time: 1.45e+00\n",
      "epoch: 58   trainLoss: 4.2556e-02   valLoss:1.4050e-01  time: 1.41e+00\n",
      "epoch: 59   trainLoss: 4.8967e-02   valLoss:1.8746e-01  time: 1.40e+00\n",
      "epoch: 60   trainLoss: 5.4601e-02   valLoss:1.9984e-01  time: 1.41e+00\n",
      "epoch: 61   trainLoss: 5.3410e-02   valLoss:1.2934e-01  time: 1.41e+00\n",
      "epoch: 62   trainLoss: 5.4018e-02   valLoss:1.0998e-01  time: 1.43e+00\n",
      "epoch: 63   trainLoss: 3.5991e-02   valLoss:2.5338e-01  time: 1.43e+00\n",
      "epoch: 64   trainLoss: 4.6445e-02   valLoss:1.1595e-01  time: 1.45e+00\n",
      "epoch: 65   trainLoss: 5.7873e-02   valLoss:2.3794e-01  time: 1.45e+00\n",
      "epoch: 66   trainLoss: 5.0947e-02   valLoss:5.2211e-01  time: 1.41e+00\n",
      "epoch: 67   trainLoss: 4.5815e-02   valLoss:1.5183e-01  time: 1.41e+00\n",
      "epoch: 68   trainLoss: 4.3008e-02   valLoss:2.2362e-01  time: 1.42e+00\n",
      "epoch: 69   trainLoss: 5.9301e-02   valLoss:3.6702e-01  time: 1.42e+00\n",
      "epoch: 70   trainLoss: 5.6298e-02   valLoss:1.1916e-01  time: 1.40e+00\n",
      "epoch: 71   trainLoss: 9.0315e-02   valLoss:3.5558e-01  time: 1.39e+00\n",
      "epoch: 72   trainLoss: 1.0079e-01   valLoss:3.8220e-01  time: 1.43e+00\n",
      "epoch: 73   trainLoss: 7.7291e-02   valLoss:1.8093e-01  time: 1.43e+00\n",
      "epoch: 74   trainLoss: 7.1968e-02   valLoss:1.9618e-01  time: 1.44e+00\n",
      "epoch: 75   trainLoss: 7.7226e-02   valLoss:1.0252e+00  time: 1.41e+00\n",
      "epoch: 76   trainLoss: 5.8699e-02   valLoss:1.0769e+00  time: 1.41e+00\n",
      "epoch: 77   trainLoss: 6.2586e-02   valLoss:1.2489e+00  time: 1.40e+00\n",
      "epoch: 78   trainLoss: 5.1475e-02   valLoss:4.0842e-01  time: 1.41e+00\n",
      "epoch: 79   trainLoss: 4.7204e-02   valLoss:1.9435e-01  time: 1.44e+00\n",
      "epoch: 80   trainLoss: 3.5348e-02   valLoss:1.0973e-01  time: 1.43e+00\n",
      "epoch: 81   trainLoss: 3.5608e-02   valLoss:9.9256e-02  time: 1.45e+00\n",
      "epoch: 82   trainLoss: 3.6915e-02   valLoss:1.3383e-01  time: 1.61e+00\n",
      "epoch: 83   trainLoss: 4.4073e-02   valLoss:1.2547e-01  time: 1.61e+00\n",
      "epoch: 84   trainLoss: 3.1485e-02   valLoss:1.6654e-01  time: 1.61e+00\n",
      "epoch: 85   trainLoss: 3.8244e-02   valLoss:9.6592e-02  time: 1.61e+00\n",
      "epoch: 86   trainLoss: 5.3466e-02   valLoss:4.6287e-01  time: 1.62e+00\n",
      "epoch: 87   trainLoss: 5.5709e-02   valLoss:4.5930e-01  time: 1.45e+00\n",
      "epoch: 88   trainLoss: 5.1047e-02   valLoss:2.3619e-01  time: 1.54e+00\n",
      "epoch: 89   trainLoss: 4.6955e-02   valLoss:9.3438e-02  time: 1.44e+00\n",
      "epoch: 90   trainLoss: 3.9252e-02   valLoss:1.6171e-01  time: 1.43e+00\n",
      "epoch: 91   trainLoss: 3.4462e-02   valLoss:1.0841e-01  time: 1.44e+00\n",
      "epoch: 92   trainLoss: 5.1955e-02   valLoss:2.6674e-01  time: 1.43e+00\n",
      "epoch: 93   trainLoss: 3.5484e-02   valLoss:1.0802e-01  time: 1.44e+00\n",
      "epoch: 94   trainLoss: 3.8210e-02   valLoss:8.1019e-02  time: 1.60e+00\n",
      "epoch: 95   trainLoss: 4.6000e-02   valLoss:2.2226e-01  time: 1.59e+00\n",
      "epoch: 96   trainLoss: 4.4064e-02   valLoss:1.6081e-01  time: 1.60e+00\n",
      "epoch: 97   trainLoss: 4.1133e-02   valLoss:1.7583e-01  time: 1.62e+00\n",
      "epoch: 98   trainLoss: 2.9727e-02   valLoss:2.4405e-01  time: 1.61e+00\n",
      "epoch: 99   trainLoss: 3.2698e-02   valLoss:1.2799e-01  time: 1.62e+00\n",
      "loading checkpoint 94\n"
     ]
    },
    {
     "data": {
      "text/html": [
       "\n",
       "<div id=\"altair-viz-a79faac7c0fe426a8f09e9a305efa399\"></div>\n",
       "<script type=\"text/javascript\">\n",
       "  (function(spec, embedOpt){\n",
       "    let outputDiv = document.currentScript.previousElementSibling;\n",
       "    if (outputDiv.id !== \"altair-viz-a79faac7c0fe426a8f09e9a305efa399\") {\n",
       "      outputDiv = document.getElementById(\"altair-viz-a79faac7c0fe426a8f09e9a305efa399\");\n",
       "    }\n",
       "    const paths = {\n",
       "      \"vega\": \"https://cdn.jsdelivr.net/npm//vega@5?noext\",\n",
       "      \"vega-lib\": \"https://cdn.jsdelivr.net/npm//vega-lib?noext\",\n",
       "      \"vega-lite\": \"https://cdn.jsdelivr.net/npm//vega-lite@4.8.1?noext\",\n",
       "      \"vega-embed\": \"https://cdn.jsdelivr.net/npm//vega-embed@6?noext\",\n",
       "    };\n",
       "\n",
       "    function loadScript(lib) {\n",
       "      return new Promise(function(resolve, reject) {\n",
       "        var s = document.createElement('script');\n",
       "        s.src = paths[lib];\n",
       "        s.async = true;\n",
       "        s.onload = () => resolve(paths[lib]);\n",
       "        s.onerror = () => reject(`Error loading script: ${paths[lib]}`);\n",
       "        document.getElementsByTagName(\"head\")[0].appendChild(s);\n",
       "      });\n",
       "    }\n",
       "\n",
       "    function showError(err) {\n",
       "      outputDiv.innerHTML = `<div class=\"error\" style=\"color:red;\">${err}</div>`;\n",
       "      throw err;\n",
       "    }\n",
       "\n",
       "    function displayChart(vegaEmbed) {\n",
       "      vegaEmbed(outputDiv, spec, embedOpt)\n",
       "        .catch(err => showError(`Javascript Error: ${err.message}<br>This usually means there's a typo in your chart specification. See the javascript console for the full traceback.`));\n",
       "    }\n",
       "\n",
       "    if(typeof define === \"function\" && define.amd) {\n",
       "      requirejs.config({paths});\n",
       "      require([\"vega-embed\"], displayChart, err => showError(`Error loading script: ${err.message}`));\n",
       "    } else if (typeof vegaEmbed === \"function\") {\n",
       "      displayChart(vegaEmbed);\n",
       "    } else {\n",
       "      loadScript(\"vega\")\n",
       "        .then(() => loadScript(\"vega-lite\"))\n",
       "        .then(() => loadScript(\"vega-embed\"))\n",
       "        .catch(showError)\n",
       "        .then(() => displayChart(vegaEmbed));\n",
       "    }\n",
       "  })({\"config\": {\"view\": {\"continuousWidth\": 400, \"continuousHeight\": 300}}, \"data\": {\"name\": \"data-71642853b74c3e4c5a2f629514ae2e5b\"}, \"mark\": \"line\", \"encoding\": {\"color\": {\"type\": \"nominal\", \"field\": \"set\"}, \"tooltip\": [{\"type\": \"quantitative\", \"field\": \"epoch\"}, {\"type\": \"quantitative\", \"field\": \"value\"}], \"x\": {\"type\": \"quantitative\", \"field\": \"epoch\"}, \"y\": {\"type\": \"quantitative\", \"axis\": {\"title\": \"loss\"}, \"field\": \"value\"}}, \"height\": 200, \"transform\": [{\"fold\": [\"train\", \"val\"], \"as\": [\"set\", \"value\"]}], \"width\": 400, \"$schema\": \"https://vega.github.io/schema/vega-lite/v4.8.1.json\", \"datasets\": {\"data-71642853b74c3e4c5a2f629514ae2e5b\": [{\"train\": 0.9370746413866679, \"val\": 0.9655338290526911, \"epoch\": 0}, {\"train\": 0.7287696599960327, \"val\": 0.9505888295394403, \"epoch\": 1}, {\"train\": 0.6179637710253397, \"val\": 1.0302243956399184, \"epoch\": 2}, {\"train\": 0.5009560883045197, \"val\": 1.3339872928681198, \"epoch\": 3}, {\"train\": 0.4508851269880931, \"val\": 1.15145633769808, \"epoch\": 4}, {\"train\": 0.3990551034609477, \"val\": 1.1968490580717723, \"epoch\": 5}, {\"train\": 0.34878400961558026, \"val\": 1.5383970665710944, \"epoch\": 6}, {\"train\": 0.3207734525203705, \"val\": 1.308433690280826, \"epoch\": 7}, {\"train\": 0.30518219868342084, \"val\": 1.4647933370261281, \"epoch\": 8}, {\"train\": 0.2516080190738042, \"val\": 2.5057859991987548, \"epoch\": 9}, {\"train\": 0.21810972690582275, \"val\": 1.9082259199133627, \"epoch\": 10}, {\"train\": 0.19169572492440543, \"val\": 3.4079824766765037, \"epoch\": 11}, {\"train\": 0.18145592013994852, \"val\": 1.501574912522402, \"epoch\": 12}, {\"train\": 0.17423089345296225, \"val\": 1.8544349234068283, \"epoch\": 13}, {\"train\": 0.17670637865861258, \"val\": 1.9700223961500105, \"epoch\": 14}, {\"train\": 0.14296680688858032, \"val\": 2.2075359280462616, \"epoch\": 15}, {\"train\": 0.13489376505215964, \"val\": 2.2782349065636045, \"epoch\": 16}, {\"train\": 0.13489223519961038, \"val\": 1.2184609623142966, \"epoch\": 17}, {\"train\": 0.11659793804089229, \"val\": 1.115376765322354, \"epoch\": 18}, {\"train\": 0.10917489727338155, \"val\": 1.0858422634364278, \"epoch\": 19}, {\"train\": 0.1105671375989914, \"val\": 1.2456261074101482, \"epoch\": 20}, {\"train\": 0.09706423183282216, \"val\": 0.8406435894193472, \"epoch\": 21}, {\"train\": 0.10985165586074193, \"val\": 0.7854946410559394, \"epoch\": 22}, {\"train\": 0.10049972931543986, \"val\": 1.3439222422462922, \"epoch\": 23}, {\"train\": 0.11555822938680649, \"val\": 0.9682611947258314, \"epoch\": 24}, {\"train\": 0.10982177406549454, \"val\": 1.1793918477164373, \"epoch\": 25}, {\"train\": 0.10213825603326161, \"val\": 0.7362522740537921, \"epoch\": 26}, {\"train\": 0.09828519821166992, \"val\": 0.6996189212357556, \"epoch\": 27}, {\"train\": 0.08610536406437556, \"val\": 0.7313166441464866, \"epoch\": 28}, {\"train\": 0.09395658473173778, \"val\": 0.5790138653031102, \"epoch\": 29}, {\"train\": 0.08411254982153575, \"val\": 0.8076839463923264, \"epoch\": 30}, {\"train\": 0.08178603028257687, \"val\": 1.0361189758060154, \"epoch\": 31}, {\"train\": 0.08026382078727086, \"val\": 0.538071814717518, \"epoch\": 32}, {\"train\": 0.08912221093972524, \"val\": 0.3972904900847762, \"epoch\": 33}, {\"train\": 0.08355723942319553, \"val\": 0.30856861270688196, \"epoch\": 34}, {\"train\": 0.08007067441940308, \"val\": 0.795903874595684, \"epoch\": 35}, {\"train\": 0.06538374722003937, \"val\": 0.5230571842510943, \"epoch\": 36}, {\"train\": 0.06878890345493953, \"val\": 0.42559075641825245, \"epoch\": 37}, {\"train\": 0.07427947223186493, \"val\": 0.6376426937920904, \"epoch\": 38}, {\"train\": 0.06515784313281377, \"val\": 0.3768262175532679, \"epoch\": 39}, {\"train\": 0.06782277052601178, \"val\": 0.43942731082508407, \"epoch\": 40}, {\"train\": 0.07690628245472908, \"val\": 0.33275643225621293, \"epoch\": 41}, {\"train\": 0.06501993412772815, \"val\": 0.46965101632048134, \"epoch\": 42}, {\"train\": 0.056590466449658074, \"val\": 0.27042344449674366, \"epoch\": 43}, {\"train\": 0.04036433373888334, \"val\": 0.26793633873091527, \"epoch\": 44}, {\"train\": 0.05093182250857353, \"val\": 0.32825385345387514, \"epoch\": 45}, {\"train\": 0.04095853865146637, \"val\": 0.19766115822346397, \"epoch\": 46}, {\"train\": 0.0446635310848554, \"val\": 0.28056866549714293, \"epoch\": 47}, {\"train\": 0.04923320313294729, \"val\": 0.28463082053457145, \"epoch\": 48}, {\"train\": 0.049710181852181755, \"val\": 0.16308805881999433, \"epoch\": 49}, {\"train\": 0.04311404128869375, \"val\": 0.20465612568444125, \"epoch\": 50}, {\"train\": 0.03977558761835098, \"val\": 0.37128380538585287, \"epoch\": 51}, {\"train\": 0.0472475861509641, \"val\": 0.28372432349284216, \"epoch\": 52}, {\"train\": 0.045726883535583816, \"val\": 0.1600233403776117, \"epoch\": 53}, {\"train\": 0.03632088998953501, \"val\": 0.38305244922499965, \"epoch\": 54}, {\"train\": 0.03774858762820562, \"val\": 0.10954749510037126, \"epoch\": 55}, {\"train\": 0.03647244721651077, \"val\": 0.10763101530675259, \"epoch\": 56}, {\"train\": 0.036834953973690666, \"val\": 0.12579079850197392, \"epoch\": 57}, {\"train\": 0.04255582640568415, \"val\": 0.14049967302923538, \"epoch\": 58}, {\"train\": 0.048966956014434494, \"val\": 0.18745790985067962, \"epoch\": 59}, {\"train\": 0.05460119619965553, \"val\": 0.19984140760196303, \"epoch\": 60}, {\"train\": 0.05340984960397085, \"val\": 0.12933679799876968, \"epoch\": 61}, {\"train\": 0.05401766672730446, \"val\": 0.109982345684397, \"epoch\": 62}, {\"train\": 0.035990570982297264, \"val\": 0.2533841179920947, \"epoch\": 63}, {\"train\": 0.04644497111439705, \"val\": 0.11594753068466498, \"epoch\": 64}, {\"train\": 0.05787253131469091, \"val\": 0.23793912322812336, \"epoch\": 65}, {\"train\": 0.05094723403453827, \"val\": 0.5221072850938611, \"epoch\": 66}, {\"train\": 0.04581465696295103, \"val\": 0.1518333276638899, \"epoch\": 67}, {\"train\": 0.04300794377923012, \"val\": 0.22361863830506248, \"epoch\": 68}, {\"train\": 0.05930081754922867, \"val\": 0.3670156459168841, \"epoch\": 69}, {\"train\": 0.05629801626006762, \"val\": 0.11915824585163069, \"epoch\": 70}, {\"train\": 0.09031473845243454, \"val\": 0.3555800275514937, \"epoch\": 71}, {\"train\": 0.1007934461037318, \"val\": 0.3821977392675493, \"epoch\": 72}, {\"train\": 0.07729081809520721, \"val\": 0.18093273223429504, \"epoch\": 73}, {\"train\": 0.0719681146244208, \"val\": 0.1961783359982763, \"epoch\": 74}, {\"train\": 0.07722623522082965, \"val\": 1.0252177575258192, \"epoch\": 75}, {\"train\": 0.058698620647192, \"val\": 1.0769019713797778, \"epoch\": 76}, {\"train\": 0.06258588532606761, \"val\": 1.248885207861248, \"epoch\": 77}, {\"train\": 0.05147497355937958, \"val\": 0.4084237804851943, \"epoch\": 78}, {\"train\": 0.047203859935204186, \"val\": 0.19434907972916132, \"epoch\": 79}, {\"train\": 0.03534796151022116, \"val\": 0.10972753761517298, \"epoch\": 80}, {\"train\": 0.03560753042499224, \"val\": 0.09925634494909362, \"epoch\": 81}, {\"train\": 0.03691495272020499, \"val\": 0.13383052758527575, \"epoch\": 82}, {\"train\": 0.044073051462570824, \"val\": 0.12546848816607423, \"epoch\": 83}, {\"train\": 0.03148500310877959, \"val\": 0.16654139287614575, \"epoch\": 84}, {\"train\": 0.03824396866063277, \"val\": 0.09659206067725015, \"epoch\": 85}, {\"train\": 0.05346626043319702, \"val\": 0.4628671767638513, \"epoch\": 86}, {\"train\": 0.055709327260653176, \"val\": 0.45929676779821793, \"epoch\": 87}, {\"train\": 0.05104742323358854, \"val\": 0.2361918098758906, \"epoch\": 88}, {\"train\": 0.0469547708829244, \"val\": 0.09343760735700252, \"epoch\": 89}, {\"train\": 0.03925223648548126, \"val\": 0.1617068019911164, \"epoch\": 90}, {\"train\": 0.03446155786514282, \"val\": 0.10840944454927619, \"epoch\": 91}, {\"train\": 0.05195509394009908, \"val\": 0.2667378936808004, \"epoch\": 92}, {\"train\": 0.03548445304234823, \"val\": 0.10801938208277095, \"epoch\": 93}, {\"train\": 0.038209592923521996, \"val\": 0.08101885021595215, \"epoch\": 94}, {\"train\": 0.04599985914925734, \"val\": 0.22226194567391994, \"epoch\": 95}, {\"train\": 0.04406443610787392, \"val\": 0.16081000076546506, \"epoch\": 96}, {\"train\": 0.041133287052313484, \"val\": 0.17582798788875895, \"epoch\": 97}, {\"train\": 0.029726960385839146, \"val\": 0.2440519517942987, \"epoch\": 98}, {\"train\": 0.03269758199652036, \"val\": 0.127994215851046, \"epoch\": 99}]}}, {\"mode\": \"vega-lite\"});\n",
       "</script>"
      ],
      "text/plain": [
       "alt.Chart(...)"
      ]
     },
     "execution_count": 5,
     "metadata": {},
     "output_type": "execute_result"
    }
   ],
   "source": [
    "gcn = FeaStNet()\n",
    "history = gcn.trainModel(trainData, valData, \n",
    "                         epochs=100,\n",
    "                         saveDir='results/gcn01/')\n",
    "\n",
    "plotHistory(history)"
   ]
  },
  {
   "cell_type": "code",
   "execution_count": 13,
   "metadata": {},
   "outputs": [
    {
     "data": {
      "text/html": [
       "<div>\n",
       "<style scoped>\n",
       "    .dataframe tbody tr th:only-of-type {\n",
       "        vertical-align: middle;\n",
       "    }\n",
       "\n",
       "    .dataframe tbody tr th {\n",
       "        vertical-align: top;\n",
       "    }\n",
       "\n",
       "    .dataframe thead th {\n",
       "        text-align: right;\n",
       "    }\n",
       "</style>\n",
       "<table border=\"1\" class=\"dataframe\">\n",
       "  <thead>\n",
       "    <tr style=\"text-align: right;\">\n",
       "      <th></th>\n",
       "      <th>mse</th>\n",
       "      <th>mae</th>\n",
       "      <th>mre</th>\n",
       "      <th>peakR2</th>\n",
       "      <th>maxAggR2</th>\n",
       "      <th>meanAggR2</th>\n",
       "      <th>minAggR2</th>\n",
       "    </tr>\n",
       "  </thead>\n",
       "  <tbody>\n",
       "    <tr>\n",
       "      <th>train</th>\n",
       "      <td>0.000004</td>\n",
       "      <td>0.001400</td>\n",
       "      <td>0.074304</td>\n",
       "      <td>0.942238</td>\n",
       "      <td>0.972997</td>\n",
       "      <td>0.847795</td>\n",
       "      <td>0.0</td>\n",
       "    </tr>\n",
       "    <tr>\n",
       "      <th>test</th>\n",
       "      <td>0.000007</td>\n",
       "      <td>0.001609</td>\n",
       "      <td>0.083742</td>\n",
       "      <td>0.841736</td>\n",
       "      <td>0.936382</td>\n",
       "      <td>0.804915</td>\n",
       "      <td>0.0</td>\n",
       "    </tr>\n",
       "  </tbody>\n",
       "</table>\n",
       "</div>"
      ],
      "text/plain": [
       "            mse       mae       mre    peakR2  maxAggR2  meanAggR2  minAggR2\n",
       "train  0.000004  0.001400  0.074304  0.942238  0.972997   0.847795       0.0\n",
       "test   0.000007  0.001609  0.083742  0.841736  0.936382   0.804915       0.0"
      ]
     },
     "execution_count": 13,
     "metadata": {},
     "output_type": "execute_result"
    }
   ],
   "source": [
    "gcn2 = FeaStNet()\n",
    "gcn2.loadModel('results/gcn01/checkpoint_94')\n",
    "trainRes = gcn2.testModel(trainData)\n",
    "testRes = gcn2.testModel(testData)\n",
    "pd.DataFrame([trainRes, testRes], index=['train', 'test'])"
   ]
  },
  {
   "cell_type": "code",
   "execution_count": 20,
   "metadata": {},
   "outputs": [
    {
     "data": {
      "text/plain": [
       "array([[98.55522923, 98.55522923],\n",
       "       [98.55522923, 98.55522923],\n",
       "       [98.55522923, 98.55522923],\n",
       "       [98.55522923, 98.55522923],\n",
       "       [98.55522923, 98.55522923],\n",
       "       [98.55522923, 98.55522923],\n",
       "       [98.55522923, 98.55522923],\n",
       "       [98.55522923, 98.55522923],\n",
       "       [98.55522923, 98.55522923],\n",
       "       [98.55522923, 98.55522923],\n",
       "       [98.55522923, 98.55522923],\n",
       "       [98.55522923, 98.55522923],\n",
       "       [98.55522923, 98.55522923],\n",
       "       [98.55522923, 98.55522923],\n",
       "       [98.55522923, 98.55522923]])"
      ]
     },
     "execution_count": 20,
     "metadata": {},
     "output_type": "execute_result"
    }
   ],
   "source": [
    "# predict\n",
    "import torch\n",
    "\n",
    "graph = allGraphs[0]\n",
    "\n",
    "a = np.ones((15,2))\n",
    "b = torch.from_numpy(a)\n",
    "\n",
    "gcn2.ss.transform(b)"
   ]
  },
  {
   "cell_type": "code",
   "execution_count": 22,
   "metadata": {},
   "outputs": [
    {
     "data": {
      "text/plain": [
       "array([-0.00366223])"
      ]
     },
     "execution_count": 22,
     "metadata": {},
     "output_type": "execute_result"
    }
   ],
   "source": [
    "gcn2.ss.mean_\n",
    "\n",
    "gcn2(input)"
   ]
  },
  {
   "cell_type": "markdown",
   "metadata": {},
   "source": [
    "## 4. Test the GCN"
   ]
  },
  {
   "cell_type": "code",
   "execution_count": 9,
   "metadata": {},
   "outputs": [
    {
     "data": {
      "text/html": [
       "<div>\n",
       "<style scoped>\n",
       "    .dataframe tbody tr th:only-of-type {\n",
       "        vertical-align: middle;\n",
       "    }\n",
       "\n",
       "    .dataframe tbody tr th {\n",
       "        vertical-align: top;\n",
       "    }\n",
       "\n",
       "    .dataframe thead th {\n",
       "        text-align: right;\n",
       "    }\n",
       "</style>\n",
       "<table border=\"1\" class=\"dataframe\">\n",
       "  <thead>\n",
       "    <tr style=\"text-align: right;\">\n",
       "      <th></th>\n",
       "      <th>mse</th>\n",
       "      <th>mae</th>\n",
       "      <th>mre</th>\n",
       "      <th>peakR2</th>\n",
       "      <th>maxAggR2</th>\n",
       "      <th>meanAggR2</th>\n",
       "      <th>minAggR2</th>\n",
       "    </tr>\n",
       "  </thead>\n",
       "  <tbody>\n",
       "    <tr>\n",
       "      <th>train</th>\n",
       "      <td>0.000004</td>\n",
       "      <td>0.001400</td>\n",
       "      <td>0.074304</td>\n",
       "      <td>0.942238</td>\n",
       "      <td>0.972997</td>\n",
       "      <td>0.847795</td>\n",
       "      <td>0.0</td>\n",
       "    </tr>\n",
       "    <tr>\n",
       "      <th>test</th>\n",
       "      <td>0.000007</td>\n",
       "      <td>0.001609</td>\n",
       "      <td>0.083742</td>\n",
       "      <td>0.841736</td>\n",
       "      <td>0.936382</td>\n",
       "      <td>0.804915</td>\n",
       "      <td>0.0</td>\n",
       "    </tr>\n",
       "  </tbody>\n",
       "</table>\n",
       "</div>"
      ],
      "text/plain": [
       "            mse       mae       mre    peakR2  maxAggR2  meanAggR2  minAggR2\n",
       "train  0.000004  0.001400  0.074304  0.942238  0.972997   0.847795       0.0\n",
       "test   0.000007  0.001609  0.083742  0.841736  0.936382   0.804915       0.0"
      ]
     },
     "execution_count": 9,
     "metadata": {},
     "output_type": "execute_result"
    }
   ],
   "source": [
    "trainRes = gcn.testModel(trainData)\n",
    "testRes = gcn.testModel(testData)\n",
    "pd.DataFrame([trainRes, testRes], index=['train', 'test'])"
   ]
  },
  {
   "cell_type": "markdown",
   "metadata": {},
   "source": [
    "## 5. Visualize some predictions"
   ]
  },
  {
   "cell_type": "code",
   "execution_count": 11,
   "metadata": {},
   "outputs": [
    {
     "data": {
      "text/html": [
       "\n",
       "<div id=\"altair-viz-fe37908151824751ba189ecd0d561a97\"></div>\n",
       "<script type=\"text/javascript\">\n",
       "  (function(spec, embedOpt){\n",
       "    let outputDiv = document.currentScript.previousElementSibling;\n",
       "    if (outputDiv.id !== \"altair-viz-fe37908151824751ba189ecd0d561a97\") {\n",
       "      outputDiv = document.getElementById(\"altair-viz-fe37908151824751ba189ecd0d561a97\");\n",
       "    }\n",
       "    const paths = {\n",
       "      \"vega\": \"https://cdn.jsdelivr.net/npm//vega@5?noext\",\n",
       "      \"vega-lib\": \"https://cdn.jsdelivr.net/npm//vega-lib?noext\",\n",
       "      \"vega-lite\": \"https://cdn.jsdelivr.net/npm//vega-lite@4.8.1?noext\",\n",
       "      \"vega-embed\": \"https://cdn.jsdelivr.net/npm//vega-embed@6?noext\",\n",
       "    };\n",
       "\n",
       "    function loadScript(lib) {\n",
       "      return new Promise(function(resolve, reject) {\n",
       "        var s = document.createElement('script');\n",
       "        s.src = paths[lib];\n",
       "        s.async = true;\n",
       "        s.onload = () => resolve(paths[lib]);\n",
       "        s.onerror = () => reject(`Error loading script: ${paths[lib]}`);\n",
       "        document.getElementsByTagName(\"head\")[0].appendChild(s);\n",
       "      });\n",
       "    }\n",
       "\n",
       "    function showError(err) {\n",
       "      outputDiv.innerHTML = `<div class=\"error\" style=\"color:red;\">${err}</div>`;\n",
       "      throw err;\n",
       "    }\n",
       "\n",
       "    function displayChart(vegaEmbed) {\n",
       "      vegaEmbed(outputDiv, spec, embedOpt)\n",
       "        .catch(err => showError(`Javascript Error: ${err.message}<br>This usually means there's a typo in your chart specification. See the javascript console for the full traceback.`));\n",
       "    }\n",
       "\n",
       "    if(typeof define === \"function\" && define.amd) {\n",
       "      requirejs.config({paths});\n",
       "      require([\"vega-embed\"], displayChart, err => showError(`Error loading script: ${err.message}`));\n",
       "    } else if (typeof vegaEmbed === \"function\") {\n",
       "      displayChart(vegaEmbed);\n",
       "    } else {\n",
       "      loadScript(\"vega\")\n",
       "        .then(() => loadScript(\"vega-lite\"))\n",
       "        .then(() => loadScript(\"vega-embed\"))\n",
       "        .catch(showError)\n",
       "        .then(() => displayChart(vegaEmbed));\n",
       "    }\n",
       "  })({\"config\": {\"view\": {\"continuousWidth\": 400, \"continuousHeight\": 300, \"strokeOpacity\": 0}}, \"layer\": [{\"data\": {\"name\": \"data-f8b79818681b58fd0328d0504794d26b\"}, \"mark\": \"circle\", \"encoding\": {\"color\": {\"value\": \"#C7D5E5\"}, \"opacity\": {\"value\": 0}, \"size\": {\"value\": 1}, \"x\": {\"type\": \"quantitative\", \"axis\": null, \"field\": \"x\", \"scale\": {\"domain\": [0.0, 50.0], \"nice\": false}}, \"y\": {\"type\": \"quantitative\", \"axis\": null, \"field\": \"y\", \"scale\": {\"domain\": [-8.022787094116211, 0.0], \"nice\": false}}}}, {\"data\": {\"name\": \"data-8b400ba0fcfc55a17aa8de6e589b5acd\"}, \"mark\": \"line\", \"encoding\": {\"color\": {\"value\": \"#C7D5E5\"}, \"opacity\": {\"value\": 1.0}, \"size\": {\"value\": 2.0}, \"x\": {\"type\": \"quantitative\", \"field\": \"x\"}, \"y\": {\"type\": \"quantitative\", \"field\": \"y\"}}}, {\"data\": {\"name\": \"data-36d3340744e024b89e9e43dba664d41c\"}, \"mark\": \"line\", \"encoding\": {\"color\": {\"value\": \"#C7D5E5\"}, \"opacity\": {\"value\": 1.0}, \"size\": {\"value\": 2.0}, \"x\": {\"type\": \"quantitative\", \"field\": \"x\"}, \"y\": {\"type\": \"quantitative\", \"field\": \"y\"}}}, {\"data\": {\"name\": \"data-515fc9bb58f1cae1e00fa8a1dc201630\"}, \"mark\": \"line\", \"encoding\": {\"color\": {\"value\": \"#C7D5E5\"}, \"opacity\": {\"value\": 1.0}, \"size\": {\"value\": 2.0}, \"x\": {\"type\": \"quantitative\", \"field\": \"x\"}, \"y\": {\"type\": \"quantitative\", \"field\": \"y\"}}}, {\"data\": {\"name\": \"data-d03d491c87ebe46facb8c9cb35712d97\"}, \"mark\": \"line\", \"encoding\": {\"color\": {\"value\": \"#C7D5E5\"}, \"opacity\": {\"value\": 1.0}, \"size\": {\"value\": 2.0}, \"x\": {\"type\": \"quantitative\", \"field\": \"x\"}, \"y\": {\"type\": \"quantitative\", \"field\": \"y\"}}}, {\"data\": {\"name\": \"data-0ced3b661f47168768b92379fac91a45\"}, \"mark\": \"line\", \"encoding\": {\"color\": {\"value\": \"#C7D5E5\"}, \"opacity\": {\"value\": 1.0}, \"size\": {\"value\": 2.0}, \"x\": {\"type\": \"quantitative\", \"field\": \"x\"}, \"y\": {\"type\": \"quantitative\", \"field\": \"y\"}}}, {\"data\": {\"name\": \"data-83a9a9a49c44b98d2247d6926da36461\"}, \"mark\": \"line\", \"encoding\": {\"color\": {\"value\": \"#C7D5E5\"}, \"opacity\": {\"value\": 1.0}, \"size\": {\"value\": 2.0}, \"x\": {\"type\": \"quantitative\", \"field\": \"x\"}, \"y\": {\"type\": \"quantitative\", \"field\": \"y\"}}}, {\"data\": {\"name\": \"data-e417c36aad1854a69d2bc658cd25f3f8\"}, \"mark\": \"line\", \"encoding\": {\"color\": {\"value\": \"#C7D5E5\"}, \"opacity\": {\"value\": 1.0}, \"size\": {\"value\": 2.0}, \"x\": {\"type\": \"quantitative\", \"field\": \"x\"}, \"y\": {\"type\": \"quantitative\", \"field\": \"y\"}}}, {\"data\": {\"name\": \"data-38d8b4ccb192b4ef8951aeca61b4d7a7\"}, \"mark\": \"line\", \"encoding\": {\"color\": {\"value\": \"#C7D5E5\"}, \"opacity\": {\"value\": 1.0}, \"size\": {\"value\": 2.0}, \"x\": {\"type\": \"quantitative\", \"field\": \"x\"}, \"y\": {\"type\": \"quantitative\", \"field\": \"y\"}}}, {\"data\": {\"name\": \"data-a3bbe2f942d9a018fe94dbf3bf17c361\"}, \"mark\": \"line\", \"encoding\": {\"color\": {\"value\": \"#C7D5E5\"}, \"opacity\": {\"value\": 1.0}, \"size\": {\"value\": 2.0}, \"x\": {\"type\": \"quantitative\", \"field\": \"x\"}, \"y\": {\"type\": \"quantitative\", \"field\": \"y\"}}}, {\"data\": {\"name\": \"data-2f1bef0e618fc2d31afab147913ab326\"}, \"mark\": \"line\", \"encoding\": {\"color\": {\"value\": \"#C7D5E5\"}, \"opacity\": {\"value\": 1.0}, \"size\": {\"value\": 2.0}, \"x\": {\"type\": \"quantitative\", \"field\": \"x\"}, \"y\": {\"type\": \"quantitative\", \"field\": \"y\"}}}, {\"data\": {\"name\": \"data-546a2a12ec4837d37fc04c52457a1d06\"}, \"mark\": \"line\", \"encoding\": {\"color\": {\"value\": \"#C7D5E5\"}, \"opacity\": {\"value\": 1.0}, \"size\": {\"value\": 2.0}, \"x\": {\"type\": \"quantitative\", \"field\": \"x\"}, \"y\": {\"type\": \"quantitative\", \"field\": \"y\"}}}, {\"data\": {\"name\": \"data-5725cc0e55d8831c744fb012b6a10822\"}, \"mark\": \"line\", \"encoding\": {\"color\": {\"value\": \"#C7D5E5\"}, \"opacity\": {\"value\": 1.0}, \"size\": {\"value\": 2.0}, \"x\": {\"type\": \"quantitative\", \"field\": \"x\"}, \"y\": {\"type\": \"quantitative\", \"field\": \"y\"}}}, {\"data\": {\"name\": \"data-fd75513a2cf854892ee2292035294252\"}, \"mark\": \"line\", \"encoding\": {\"color\": {\"value\": \"#C7D5E5\"}, \"opacity\": {\"value\": 1.0}, \"size\": {\"value\": 2.0}, \"x\": {\"type\": \"quantitative\", \"field\": \"x\"}, \"y\": {\"type\": \"quantitative\", \"field\": \"y\"}}}, {\"data\": {\"name\": \"data-591ec70dac9c5eed2e48baaee8370dfe\"}, \"mark\": \"line\", \"encoding\": {\"color\": {\"value\": \"#C7D5E5\"}, \"opacity\": {\"value\": 1.0}, \"size\": {\"value\": 2.0}, \"x\": {\"type\": \"quantitative\", \"field\": \"x\"}, \"y\": {\"type\": \"quantitative\", \"field\": \"y\"}}}, {\"data\": {\"name\": \"data-5a6d941763adbe3f8b5f23ae62e0472d\"}, \"mark\": \"line\", \"encoding\": {\"color\": {\"value\": \"#C7D5E5\"}, \"opacity\": {\"value\": 1.0}, \"size\": {\"value\": 2.0}, \"x\": {\"type\": \"quantitative\", \"field\": \"x\"}, \"y\": {\"type\": \"quantitative\", \"field\": \"y\"}}}, {\"data\": {\"name\": \"data-48377b24df5bed1c28e95347d1a9ae7e\"}, \"mark\": \"line\", \"encoding\": {\"color\": {\"value\": \"#C7D5E5\"}, \"opacity\": {\"value\": 1.0}, \"size\": {\"value\": 2.0}, \"x\": {\"type\": \"quantitative\", \"field\": \"x\"}, \"y\": {\"type\": \"quantitative\", \"field\": \"y\"}}}, {\"data\": {\"name\": \"data-c412f72dba4c68ea06d2aa337c467f02\"}, \"mark\": \"line\", \"encoding\": {\"color\": {\"value\": \"#C7D5E5\"}, \"opacity\": {\"value\": 1.0}, \"size\": {\"value\": 2.0}, \"x\": {\"type\": \"quantitative\", \"field\": \"x\"}, \"y\": {\"type\": \"quantitative\", \"field\": \"y\"}}}, {\"data\": {\"name\": \"data-b4b5e6cc1eb26d5f4d69e0d3cb22d6c0\"}, \"mark\": \"line\", \"encoding\": {\"color\": {\"value\": \"#C7D5E5\"}, \"opacity\": {\"value\": 1.0}, \"size\": {\"value\": 2.0}, \"x\": {\"type\": \"quantitative\", \"field\": \"x\"}, \"y\": {\"type\": \"quantitative\", \"field\": \"y\"}}}, {\"data\": {\"name\": \"data-af5c67bf8bf0bba5a35c43b27a45dbc8\"}, \"mark\": \"line\", \"encoding\": {\"color\": {\"value\": \"#C7D5E5\"}, \"opacity\": {\"value\": 1.0}, \"size\": {\"value\": 2.0}, \"x\": {\"type\": \"quantitative\", \"field\": \"x\"}, \"y\": {\"type\": \"quantitative\", \"field\": \"y\"}}}, {\"data\": {\"name\": \"data-9bd249047f9f0a8d551243ab30135cbd\"}, \"mark\": \"line\", \"encoding\": {\"color\": {\"value\": \"#C7D5E5\"}, \"opacity\": {\"value\": 1.0}, \"size\": {\"value\": 2.0}, \"x\": {\"type\": \"quantitative\", \"field\": \"x\"}, \"y\": {\"type\": \"quantitative\", \"field\": \"y\"}}}, {\"data\": {\"name\": \"data-15b0591d3db3229a4b9c0c217df94fd3\"}, \"mark\": \"line\", \"encoding\": {\"color\": {\"value\": \"#C7D5E5\"}, \"opacity\": {\"value\": 1.0}, \"size\": {\"value\": 2.0}, \"x\": {\"type\": \"quantitative\", \"field\": \"x\"}, \"y\": {\"type\": \"quantitative\", \"field\": \"y\"}}}, {\"data\": {\"name\": \"data-98cc23f5380ade804d75d27f8bd14b95\"}, \"mark\": \"line\", \"encoding\": {\"color\": {\"value\": \"#C7D5E5\"}, \"opacity\": {\"value\": 1.0}, \"size\": {\"value\": 2.0}, \"x\": {\"type\": \"quantitative\", \"field\": \"x\"}, \"y\": {\"type\": \"quantitative\", \"field\": \"y\"}}}, {\"data\": {\"name\": \"data-7c4f20302d6858c823ce607d7290f33f\"}, \"mark\": \"line\", \"encoding\": {\"color\": {\"value\": \"#C7D5E5\"}, \"opacity\": {\"value\": 1.0}, \"size\": {\"value\": 2.0}, \"x\": {\"type\": \"quantitative\", \"field\": \"x\"}, \"y\": {\"type\": \"quantitative\", \"field\": \"y\"}}}, {\"data\": {\"name\": \"data-075137daf8f656c4b4040ce0bbf603af\"}, \"mark\": \"line\", \"encoding\": {\"color\": {\"value\": \"#C7D5E5\"}, \"opacity\": {\"value\": 1.0}, \"size\": {\"value\": 2.0}, \"x\": {\"type\": \"quantitative\", \"field\": \"x\"}, \"y\": {\"type\": \"quantitative\", \"field\": \"y\"}}}, {\"data\": {\"name\": \"data-991525d725f525cb6c9af34e5acdfce9\"}, \"mark\": \"line\", \"encoding\": {\"color\": {\"value\": \"#C7D5E5\"}, \"opacity\": {\"value\": 1.0}, \"size\": {\"value\": 2.0}, \"x\": {\"type\": \"quantitative\", \"field\": \"x\"}, \"y\": {\"type\": \"quantitative\", \"field\": \"y\"}}}, {\"data\": {\"name\": \"data-3e6cdd5bf7841465015fa990e6895ea0\"}, \"mark\": \"line\", \"encoding\": {\"color\": {\"value\": \"#C7D5E5\"}, \"opacity\": {\"value\": 1.0}, \"size\": {\"value\": 2.0}, \"x\": {\"type\": \"quantitative\", \"field\": \"x\"}, \"y\": {\"type\": \"quantitative\", \"field\": \"y\"}}}, {\"data\": {\"name\": \"data-589fbd6c48dc37b0f8d35d6840670c52\"}, \"mark\": \"line\", \"encoding\": {\"color\": {\"value\": \"#C7D5E5\"}, \"opacity\": {\"value\": 1.0}, \"size\": {\"value\": 2.0}, \"x\": {\"type\": \"quantitative\", \"field\": \"x\"}, \"y\": {\"type\": \"quantitative\", \"field\": \"y\"}}}, {\"data\": {\"name\": \"data-42345571a4b5bc034ca3a887d2b035bd\"}, \"mark\": \"circle\", \"encoding\": {\"color\": {\"value\": \"#000000\"}, \"opacity\": {\"value\": 0}, \"size\": {\"value\": 1}, \"x\": {\"type\": \"quantitative\", \"axis\": null, \"field\": \"x\", \"scale\": {\"domain\": [0.0, 50.0], \"nice\": false}}, \"y\": {\"type\": \"quantitative\", \"axis\": null, \"field\": \"y\", \"scale\": {\"domain\": [-8.022787094116211, 0.0], \"nice\": false}}}}, {\"data\": {\"name\": \"data-838d83169aa92d269c99d867e6027f1d\"}, \"mark\": \"line\", \"encoding\": {\"color\": {\"value\": \"#000000\"}, \"opacity\": {\"value\": 1.0}, \"size\": {\"value\": 2.0}, \"x\": {\"type\": \"quantitative\", \"field\": \"x\"}, \"y\": {\"type\": \"quantitative\", \"field\": \"y\"}}}, {\"data\": {\"name\": \"data-afe61577d987659642bb49c6f9dfe30c\"}, \"mark\": \"line\", \"encoding\": {\"color\": {\"value\": \"#000000\"}, \"opacity\": {\"value\": 1.0}, \"size\": {\"value\": 2.0}, \"x\": {\"type\": \"quantitative\", \"field\": \"x\"}, \"y\": {\"type\": \"quantitative\", \"field\": \"y\"}}}, {\"data\": {\"name\": \"data-6b67fb9e8a572d7a78a459f6d1df3868\"}, \"mark\": \"line\", \"encoding\": {\"color\": {\"value\": \"#000000\"}, \"opacity\": {\"value\": 1.0}, \"size\": {\"value\": 2.0}, \"x\": {\"type\": \"quantitative\", \"field\": \"x\"}, \"y\": {\"type\": \"quantitative\", \"field\": \"y\"}}}, {\"data\": {\"name\": \"data-26d37bc494ae32281f6ad4c7a32525a4\"}, \"mark\": \"line\", \"encoding\": {\"color\": {\"value\": \"#000000\"}, \"opacity\": {\"value\": 1.0}, \"size\": {\"value\": 2.0}, \"x\": {\"type\": \"quantitative\", \"field\": \"x\"}, \"y\": {\"type\": \"quantitative\", \"field\": \"y\"}}}, {\"data\": {\"name\": \"data-9bcdfe02177718d4e429d8b812c44e05\"}, \"mark\": \"line\", \"encoding\": {\"color\": {\"value\": \"#000000\"}, \"opacity\": {\"value\": 1.0}, \"size\": {\"value\": 2.0}, \"x\": {\"type\": \"quantitative\", \"field\": \"x\"}, \"y\": {\"type\": \"quantitative\", \"field\": \"y\"}}}, {\"data\": {\"name\": \"data-bf4be286dc211e725a916574d0192cc9\"}, \"mark\": \"line\", \"encoding\": {\"color\": {\"value\": \"#000000\"}, \"opacity\": {\"value\": 1.0}, \"size\": {\"value\": 2.0}, \"x\": {\"type\": \"quantitative\", \"field\": \"x\"}, \"y\": {\"type\": \"quantitative\", \"field\": \"y\"}}}, {\"data\": {\"name\": \"data-1f714cedbe97a5dc86f755e519347e54\"}, \"mark\": \"line\", \"encoding\": {\"color\": {\"value\": \"#000000\"}, \"opacity\": {\"value\": 1.0}, \"size\": {\"value\": 2.0}, \"x\": {\"type\": \"quantitative\", \"field\": \"x\"}, \"y\": {\"type\": \"quantitative\", \"field\": \"y\"}}}, {\"data\": {\"name\": \"data-44616f029cb2d8544daee7acb7c335c2\"}, \"mark\": \"line\", \"encoding\": {\"color\": {\"value\": \"#000000\"}, \"opacity\": {\"value\": 1.0}, \"size\": {\"value\": 2.0}, \"x\": {\"type\": \"quantitative\", \"field\": \"x\"}, \"y\": {\"type\": \"quantitative\", \"field\": \"y\"}}}, {\"data\": {\"name\": \"data-4c149a9f7e36b638f1258640c7fe4282\"}, \"mark\": \"line\", \"encoding\": {\"color\": {\"value\": \"#000000\"}, \"opacity\": {\"value\": 1.0}, \"size\": {\"value\": 2.0}, \"x\": {\"type\": \"quantitative\", \"field\": \"x\"}, \"y\": {\"type\": \"quantitative\", \"field\": \"y\"}}}, {\"data\": {\"name\": \"data-df5469c9325f35f61d354156bd992dfc\"}, \"mark\": \"line\", \"encoding\": {\"color\": {\"value\": \"#000000\"}, \"opacity\": {\"value\": 1.0}, \"size\": {\"value\": 2.0}, \"x\": {\"type\": \"quantitative\", \"field\": \"x\"}, \"y\": {\"type\": \"quantitative\", \"field\": \"y\"}}}, {\"data\": {\"name\": \"data-96c91ef2620db541d549347b3c99d6cf\"}, \"mark\": \"line\", \"encoding\": {\"color\": {\"value\": \"#000000\"}, \"opacity\": {\"value\": 1.0}, \"size\": {\"value\": 2.0}, \"x\": {\"type\": \"quantitative\", \"field\": \"x\"}, \"y\": {\"type\": \"quantitative\", \"field\": \"y\"}}}, {\"data\": {\"name\": \"data-a1faef55c37cb8d6fe6f1c197bd75a3d\"}, \"mark\": \"line\", \"encoding\": {\"color\": {\"value\": \"#000000\"}, \"opacity\": {\"value\": 1.0}, \"size\": {\"value\": 2.0}, \"x\": {\"type\": \"quantitative\", \"field\": \"x\"}, \"y\": {\"type\": \"quantitative\", \"field\": \"y\"}}}, {\"data\": {\"name\": \"data-b0019abbe8f97dac4080201c2f54a0e9\"}, \"mark\": \"line\", \"encoding\": {\"color\": {\"value\": \"#000000\"}, \"opacity\": {\"value\": 1.0}, \"size\": {\"value\": 2.0}, \"x\": {\"type\": \"quantitative\", \"field\": \"x\"}, \"y\": {\"type\": \"quantitative\", \"field\": \"y\"}}}, {\"data\": {\"name\": \"data-df0137a46ee8782cd877401138c81c55\"}, \"mark\": \"line\", \"encoding\": {\"color\": {\"value\": \"#000000\"}, \"opacity\": {\"value\": 1.0}, \"size\": {\"value\": 2.0}, \"x\": {\"type\": \"quantitative\", \"field\": \"x\"}, \"y\": {\"type\": \"quantitative\", \"field\": \"y\"}}}, {\"data\": {\"name\": \"data-fe7f433a7be34ebf567c19aa46b32241\"}, \"mark\": \"line\", \"encoding\": {\"color\": {\"value\": \"#000000\"}, \"opacity\": {\"value\": 1.0}, \"size\": {\"value\": 2.0}, \"x\": {\"type\": \"quantitative\", \"field\": \"x\"}, \"y\": {\"type\": \"quantitative\", \"field\": \"y\"}}}, {\"data\": {\"name\": \"data-fb8dab64b2afb2dcf7c043b79a2cd3c4\"}, \"mark\": \"line\", \"encoding\": {\"color\": {\"value\": \"#000000\"}, \"opacity\": {\"value\": 1.0}, \"size\": {\"value\": 2.0}, \"x\": {\"type\": \"quantitative\", \"field\": \"x\"}, \"y\": {\"type\": \"quantitative\", \"field\": \"y\"}}}, {\"data\": {\"name\": \"data-42931bf6c563234179354010cffcee9c\"}, \"mark\": \"line\", \"encoding\": {\"color\": {\"value\": \"#000000\"}, \"opacity\": {\"value\": 1.0}, \"size\": {\"value\": 2.0}, \"x\": {\"type\": \"quantitative\", \"field\": \"x\"}, \"y\": {\"type\": \"quantitative\", \"field\": \"y\"}}}, {\"data\": {\"name\": \"data-0a67226f2ebf45c9bf69346f2f0b7680\"}, \"mark\": \"line\", \"encoding\": {\"color\": {\"value\": \"#000000\"}, \"opacity\": {\"value\": 1.0}, \"size\": {\"value\": 2.0}, \"x\": {\"type\": \"quantitative\", \"field\": \"x\"}, \"y\": {\"type\": \"quantitative\", \"field\": \"y\"}}}, {\"data\": {\"name\": \"data-f6b962772845ec183e8e87a8768f7d2a\"}, \"mark\": \"line\", \"encoding\": {\"color\": {\"value\": \"#000000\"}, \"opacity\": {\"value\": 1.0}, \"size\": {\"value\": 2.0}, \"x\": {\"type\": \"quantitative\", \"field\": \"x\"}, \"y\": {\"type\": \"quantitative\", \"field\": \"y\"}}}, {\"data\": {\"name\": \"data-d7a9835102f15a7a3435bcab8e72499e\"}, \"mark\": \"line\", \"encoding\": {\"color\": {\"value\": \"#000000\"}, \"opacity\": {\"value\": 1.0}, \"size\": {\"value\": 2.0}, \"x\": {\"type\": \"quantitative\", \"field\": \"x\"}, \"y\": {\"type\": \"quantitative\", \"field\": \"y\"}}}, {\"data\": {\"name\": \"data-80bac9a66b7427e3dbc70880185a81d8\"}, \"mark\": \"line\", \"encoding\": {\"color\": {\"value\": \"#000000\"}, \"opacity\": {\"value\": 1.0}, \"size\": {\"value\": 2.0}, \"x\": {\"type\": \"quantitative\", \"field\": \"x\"}, \"y\": {\"type\": \"quantitative\", \"field\": \"y\"}}}, {\"data\": {\"name\": \"data-b0ca03f0912337e950986fd6d9c9b0af\"}, \"mark\": \"line\", \"encoding\": {\"color\": {\"value\": \"#000000\"}, \"opacity\": {\"value\": 1.0}, \"size\": {\"value\": 2.0}, \"x\": {\"type\": \"quantitative\", \"field\": \"x\"}, \"y\": {\"type\": \"quantitative\", \"field\": \"y\"}}}, {\"data\": {\"name\": \"data-f6b179acbbbf56bcb9a5d897267750bc\"}, \"mark\": \"line\", \"encoding\": {\"color\": {\"value\": \"#000000\"}, \"opacity\": {\"value\": 1.0}, \"size\": {\"value\": 2.0}, \"x\": {\"type\": \"quantitative\", \"field\": \"x\"}, \"y\": {\"type\": \"quantitative\", \"field\": \"y\"}}}, {\"data\": {\"name\": \"data-da8f509e7b0ac213a01a5251ca41c7a6\"}, \"mark\": \"line\", \"encoding\": {\"color\": {\"value\": \"#000000\"}, \"opacity\": {\"value\": 1.0}, \"size\": {\"value\": 2.0}, \"x\": {\"type\": \"quantitative\", \"field\": \"x\"}, \"y\": {\"type\": \"quantitative\", \"field\": \"y\"}}}, {\"data\": {\"name\": \"data-d17a922348f9e544c529f8708e7e05fc\"}, \"mark\": \"line\", \"encoding\": {\"color\": {\"value\": \"#000000\"}, \"opacity\": {\"value\": 1.0}, \"size\": {\"value\": 2.0}, \"x\": {\"type\": \"quantitative\", \"field\": \"x\"}, \"y\": {\"type\": \"quantitative\", \"field\": \"y\"}}}, {\"data\": {\"name\": \"data-acfaaa139a8475110c3517fab2ea68aa\"}, \"mark\": \"line\", \"encoding\": {\"color\": {\"value\": \"#000000\"}, \"opacity\": {\"value\": 1.0}, \"size\": {\"value\": 2.0}, \"x\": {\"type\": \"quantitative\", \"field\": \"x\"}, \"y\": {\"type\": \"quantitative\", \"field\": \"y\"}}}, {\"data\": {\"name\": \"data-85a68578e006870528a7fedef471dd29\"}, \"mark\": \"line\", \"encoding\": {\"color\": {\"value\": \"#000000\"}, \"opacity\": {\"value\": 1.0}, \"size\": {\"value\": 2.0}, \"x\": {\"type\": \"quantitative\", \"field\": \"x\"}, \"y\": {\"type\": \"quantitative\", \"field\": \"y\"}}}, {\"data\": {\"name\": \"data-ea0545bd7b0b9b5e07624e6b730474bd\"}, \"mark\": \"circle\", \"encoding\": {\"color\": {\"value\": \"#0AD6FF\"}, \"opacity\": {\"value\": 0}, \"size\": {\"value\": 1}, \"x\": {\"type\": \"quantitative\", \"axis\": null, \"field\": \"x\", \"scale\": {\"domain\": [0.0, 50.0], \"nice\": false}}, \"y\": {\"type\": \"quantitative\", \"axis\": null, \"field\": \"y\", \"scale\": {\"domain\": [-8.022787094116211, 0.0], \"nice\": false}}}}, {\"data\": {\"name\": \"data-f41a8ad5ae218e02c9c3a562e33b884f\"}, \"mark\": \"line\", \"encoding\": {\"color\": {\"value\": \"#0AD6FF\"}, \"opacity\": {\"value\": 1.0}, \"size\": {\"value\": 2.0}, \"x\": {\"type\": \"quantitative\", \"field\": \"x\"}, \"y\": {\"type\": \"quantitative\", \"field\": \"y\"}}}, {\"data\": {\"name\": \"data-1b6f8c01e0ebe3236f23fe3bbafde38b\"}, \"mark\": \"line\", \"encoding\": {\"color\": {\"value\": \"#0AD6FF\"}, \"opacity\": {\"value\": 1.0}, \"size\": {\"value\": 2.0}, \"x\": {\"type\": \"quantitative\", \"field\": \"x\"}, \"y\": {\"type\": \"quantitative\", \"field\": \"y\"}}}, {\"data\": {\"name\": \"data-1f19fe8e6f7c6b70bbe7482546300e41\"}, \"mark\": \"line\", \"encoding\": {\"color\": {\"value\": \"#0AD6FF\"}, \"opacity\": {\"value\": 1.0}, \"size\": {\"value\": 2.0}, \"x\": {\"type\": \"quantitative\", \"field\": \"x\"}, \"y\": {\"type\": \"quantitative\", \"field\": \"y\"}}}, {\"data\": {\"name\": \"data-de32c9e32e6ad894616ddc5f1847b95d\"}, \"mark\": \"line\", \"encoding\": {\"color\": {\"value\": \"#0AD6FF\"}, \"opacity\": {\"value\": 1.0}, \"size\": {\"value\": 2.0}, \"x\": {\"type\": \"quantitative\", \"field\": \"x\"}, \"y\": {\"type\": \"quantitative\", \"field\": \"y\"}}}, {\"data\": {\"name\": \"data-8183ca480431dd6277ef6e001b2c99bb\"}, \"mark\": \"line\", \"encoding\": {\"color\": {\"value\": \"#0AD6FF\"}, \"opacity\": {\"value\": 1.0}, \"size\": {\"value\": 2.0}, \"x\": {\"type\": \"quantitative\", \"field\": \"x\"}, \"y\": {\"type\": \"quantitative\", \"field\": \"y\"}}}, {\"data\": {\"name\": \"data-40cf7a0abb527edc09bc48cb46449761\"}, \"mark\": \"line\", \"encoding\": {\"color\": {\"value\": \"#0AD6FF\"}, \"opacity\": {\"value\": 1.0}, \"size\": {\"value\": 2.0}, \"x\": {\"type\": \"quantitative\", \"field\": \"x\"}, \"y\": {\"type\": \"quantitative\", \"field\": \"y\"}}}, {\"data\": {\"name\": \"data-eb1b3949434acd6bc133643e66b30d93\"}, \"mark\": \"line\", \"encoding\": {\"color\": {\"value\": \"#0AD6FF\"}, \"opacity\": {\"value\": 1.0}, \"size\": {\"value\": 2.0}, \"x\": {\"type\": \"quantitative\", \"field\": \"x\"}, \"y\": {\"type\": \"quantitative\", \"field\": \"y\"}}}, {\"data\": {\"name\": \"data-3ba294980bf140a954ebd916cbf54a66\"}, \"mark\": \"line\", \"encoding\": {\"color\": {\"value\": \"#0AD6FF\"}, \"opacity\": {\"value\": 1.0}, \"size\": {\"value\": 2.0}, \"x\": {\"type\": \"quantitative\", \"field\": \"x\"}, \"y\": {\"type\": \"quantitative\", \"field\": \"y\"}}}, {\"data\": {\"name\": \"data-127528565fa56647bc3accacdc7f65b1\"}, \"mark\": \"line\", \"encoding\": {\"color\": {\"value\": \"#0AD6FF\"}, \"opacity\": {\"value\": 1.0}, \"size\": {\"value\": 2.0}, \"x\": {\"type\": \"quantitative\", \"field\": \"x\"}, \"y\": {\"type\": \"quantitative\", \"field\": \"y\"}}}, {\"data\": {\"name\": \"data-65d827e7954c1b3127c2ff44788b20e1\"}, \"mark\": \"line\", \"encoding\": {\"color\": {\"value\": \"#0AD6FF\"}, \"opacity\": {\"value\": 1.0}, \"size\": {\"value\": 2.0}, \"x\": {\"type\": \"quantitative\", \"field\": \"x\"}, \"y\": {\"type\": \"quantitative\", \"field\": \"y\"}}}, {\"data\": {\"name\": \"data-32e7cc02d240ee22b9f07724966e51d6\"}, \"mark\": \"line\", \"encoding\": {\"color\": {\"value\": \"#0AD6FF\"}, \"opacity\": {\"value\": 1.0}, \"size\": {\"value\": 2.0}, \"x\": {\"type\": \"quantitative\", \"field\": \"x\"}, \"y\": {\"type\": \"quantitative\", \"field\": \"y\"}}}, {\"data\": {\"name\": \"data-8c24bb7372da4d720ce18090c77850e7\"}, \"mark\": \"line\", \"encoding\": {\"color\": {\"value\": \"#0AD6FF\"}, \"opacity\": {\"value\": 1.0}, \"size\": {\"value\": 2.0}, \"x\": {\"type\": \"quantitative\", \"field\": \"x\"}, \"y\": {\"type\": \"quantitative\", \"field\": \"y\"}}}, {\"data\": {\"name\": \"data-421bcf67f2261e59f2ad3c73474b04e6\"}, \"mark\": \"line\", \"encoding\": {\"color\": {\"value\": \"#0AD6FF\"}, \"opacity\": {\"value\": 1.0}, \"size\": {\"value\": 2.0}, \"x\": {\"type\": \"quantitative\", \"field\": \"x\"}, \"y\": {\"type\": \"quantitative\", \"field\": \"y\"}}}, {\"data\": {\"name\": \"data-a3036eccd7ea05973293098d456b2731\"}, \"mark\": \"line\", \"encoding\": {\"color\": {\"value\": \"#0AD6FF\"}, \"opacity\": {\"value\": 1.0}, \"size\": {\"value\": 2.0}, \"x\": {\"type\": \"quantitative\", \"field\": \"x\"}, \"y\": {\"type\": \"quantitative\", \"field\": \"y\"}}}, {\"data\": {\"name\": \"data-288e88154034b4fefc943e7bdb10d29a\"}, \"mark\": \"line\", \"encoding\": {\"color\": {\"value\": \"#0AD6FF\"}, \"opacity\": {\"value\": 1.0}, \"size\": {\"value\": 2.0}, \"x\": {\"type\": \"quantitative\", \"field\": \"x\"}, \"y\": {\"type\": \"quantitative\", \"field\": \"y\"}}}, {\"data\": {\"name\": \"data-eec16df29094fad55527e4ad675a001d\"}, \"mark\": \"line\", \"encoding\": {\"color\": {\"value\": \"#0AD6FF\"}, \"opacity\": {\"value\": 1.0}, \"size\": {\"value\": 2.0}, \"x\": {\"type\": \"quantitative\", \"field\": \"x\"}, \"y\": {\"type\": \"quantitative\", \"field\": \"y\"}}}, {\"data\": {\"name\": \"data-232ad2458363e5312a69af3490397454\"}, \"mark\": \"line\", \"encoding\": {\"color\": {\"value\": \"#0AD6FF\"}, \"opacity\": {\"value\": 1.0}, \"size\": {\"value\": 2.0}, \"x\": {\"type\": \"quantitative\", \"field\": \"x\"}, \"y\": {\"type\": \"quantitative\", \"field\": \"y\"}}}, {\"data\": {\"name\": \"data-1e3ace404850e4c8ff57b5f27cb90d7c\"}, \"mark\": \"line\", \"encoding\": {\"color\": {\"value\": \"#0AD6FF\"}, \"opacity\": {\"value\": 1.0}, \"size\": {\"value\": 2.0}, \"x\": {\"type\": \"quantitative\", \"field\": \"x\"}, \"y\": {\"type\": \"quantitative\", \"field\": \"y\"}}}, {\"data\": {\"name\": \"data-f6bbc2c0edcd3d16e7c56f63381b834f\"}, \"mark\": \"line\", \"encoding\": {\"color\": {\"value\": \"#0AD6FF\"}, \"opacity\": {\"value\": 1.0}, \"size\": {\"value\": 2.0}, \"x\": {\"type\": \"quantitative\", \"field\": \"x\"}, \"y\": {\"type\": \"quantitative\", \"field\": \"y\"}}}, {\"data\": {\"name\": \"data-47ee964a68a0d08685be356f06b0eb5b\"}, \"mark\": \"line\", \"encoding\": {\"color\": {\"value\": \"#0AD6FF\"}, \"opacity\": {\"value\": 1.0}, \"size\": {\"value\": 2.0}, \"x\": {\"type\": \"quantitative\", \"field\": \"x\"}, \"y\": {\"type\": \"quantitative\", \"field\": \"y\"}}}, {\"data\": {\"name\": \"data-312f104e6fce4d092b46365b053ef031\"}, \"mark\": \"line\", \"encoding\": {\"color\": {\"value\": \"#0AD6FF\"}, \"opacity\": {\"value\": 1.0}, \"size\": {\"value\": 2.0}, \"x\": {\"type\": \"quantitative\", \"field\": \"x\"}, \"y\": {\"type\": \"quantitative\", \"field\": \"y\"}}}, {\"data\": {\"name\": \"data-9e219304b0f894a8eecd6ef74a4b91d7\"}, \"mark\": \"line\", \"encoding\": {\"color\": {\"value\": \"#0AD6FF\"}, \"opacity\": {\"value\": 1.0}, \"size\": {\"value\": 2.0}, \"x\": {\"type\": \"quantitative\", \"field\": \"x\"}, \"y\": {\"type\": \"quantitative\", \"field\": \"y\"}}}, {\"data\": {\"name\": \"data-1338b1a4ce0a637a428d820df252d3c6\"}, \"mark\": \"line\", \"encoding\": {\"color\": {\"value\": \"#0AD6FF\"}, \"opacity\": {\"value\": 1.0}, \"size\": {\"value\": 2.0}, \"x\": {\"type\": \"quantitative\", \"field\": \"x\"}, \"y\": {\"type\": \"quantitative\", \"field\": \"y\"}}}, {\"data\": {\"name\": \"data-066eb042b834a534016f642cede918a6\"}, \"mark\": \"line\", \"encoding\": {\"color\": {\"value\": \"#0AD6FF\"}, \"opacity\": {\"value\": 1.0}, \"size\": {\"value\": 2.0}, \"x\": {\"type\": \"quantitative\", \"field\": \"x\"}, \"y\": {\"type\": \"quantitative\", \"field\": \"y\"}}}, {\"data\": {\"name\": \"data-d8c4b437e969df8eb62515b6a229ad0b\"}, \"mark\": \"line\", \"encoding\": {\"color\": {\"value\": \"#0AD6FF\"}, \"opacity\": {\"value\": 1.0}, \"size\": {\"value\": 2.0}, \"x\": {\"type\": \"quantitative\", \"field\": \"x\"}, \"y\": {\"type\": \"quantitative\", \"field\": \"y\"}}}, {\"data\": {\"name\": \"data-c8f905e980128db53b06fa91fe1a2061\"}, \"mark\": \"line\", \"encoding\": {\"color\": {\"value\": \"#0AD6FF\"}, \"opacity\": {\"value\": 1.0}, \"size\": {\"value\": 2.0}, \"x\": {\"type\": \"quantitative\", \"field\": \"x\"}, \"y\": {\"type\": \"quantitative\", \"field\": \"y\"}}}, {\"data\": {\"name\": \"data-820ff75c7f8020d244f3021ed96bc9e9\"}, \"mark\": \"line\", \"encoding\": {\"color\": {\"value\": \"#0AD6FF\"}, \"opacity\": {\"value\": 1.0}, \"size\": {\"value\": 2.0}, \"x\": {\"type\": \"quantitative\", \"field\": \"x\"}, \"y\": {\"type\": \"quantitative\", \"field\": \"y\"}}}], \"autosize\": {\"contains\": \"padding\", \"type\": \"fit\"}, \"background\": \"white\", \"height\": 96.27344512939453, \"width\": 600, \"$schema\": \"https://vega.github.io/schema/vega-lite/v4.8.1.json\", \"datasets\": {\"data-f8b79818681b58fd0328d0504794d26b\": [{\"x\": 0.0, \"y\": 0.0}, {\"x\": 7.142857074737549, \"y\": 0.0}, {\"x\": 14.285714149475098, \"y\": 0.0}, {\"x\": 21.428571701049805, \"y\": 0.0}, {\"x\": 28.571428298950195, \"y\": 0.0}, {\"x\": 35.71428680419922, \"y\": 0.0}, {\"x\": 42.85714340209961, \"y\": 0.0}, {\"x\": 50.0, \"y\": 0.0}, {\"x\": 5.009262561798096, \"y\": -5.625515937805176}, {\"x\": 12.061055183410645, \"y\": -8.022787094116211}, {\"x\": 18.366317749023438, \"y\": -7.076478481292725}, {\"x\": 25.0, \"y\": -4.083333492279053}, {\"x\": 31.633682250976562, \"y\": -7.076478481292725}, {\"x\": 37.93894577026367, \"y\": -8.022787094116211}, {\"x\": 44.99073791503906, \"y\": -5.625515937805176}], \"data-8b400ba0fcfc55a17aa8de6e589b5acd\": [{\"x\": 0.0, \"y\": 0.0}, {\"x\": 7.142857074737549, \"y\": 0.0}], \"data-36d3340744e024b89e9e43dba664d41c\": [{\"x\": 0.0, \"y\": 0.0}, {\"x\": 5.009262561798096, \"y\": -5.625515937805176}], \"data-515fc9bb58f1cae1e00fa8a1dc201630\": [{\"x\": 7.142857074737549, \"y\": 0.0}, {\"x\": 14.285714149475098, \"y\": 0.0}], \"data-d03d491c87ebe46facb8c9cb35712d97\": [{\"x\": 7.142857074737549, \"y\": 0.0}, {\"x\": 5.009262561798096, \"y\": -5.625515937805176}], \"data-0ced3b661f47168768b92379fac91a45\": [{\"x\": 7.142857074737549, \"y\": 0.0}, {\"x\": 12.061055183410645, \"y\": -8.022787094116211}], \"data-83a9a9a49c44b98d2247d6926da36461\": [{\"x\": 14.285714149475098, \"y\": 0.0}, {\"x\": 21.428571701049805, \"y\": 0.0}], \"data-e417c36aad1854a69d2bc658cd25f3f8\": [{\"x\": 14.285714149475098, \"y\": 0.0}, {\"x\": 12.061055183410645, \"y\": -8.022787094116211}], \"data-38d8b4ccb192b4ef8951aeca61b4d7a7\": [{\"x\": 14.285714149475098, \"y\": 0.0}, {\"x\": 18.366317749023438, \"y\": -7.076478481292725}], \"data-a3bbe2f942d9a018fe94dbf3bf17c361\": [{\"x\": 21.428571701049805, \"y\": 0.0}, {\"x\": 28.571428298950195, \"y\": 0.0}], \"data-2f1bef0e618fc2d31afab147913ab326\": [{\"x\": 21.428571701049805, \"y\": 0.0}, {\"x\": 18.366317749023438, \"y\": -7.076478481292725}], \"data-546a2a12ec4837d37fc04c52457a1d06\": [{\"x\": 21.428571701049805, \"y\": 0.0}, {\"x\": 25.0, \"y\": -4.083333492279053}], \"data-5725cc0e55d8831c744fb012b6a10822\": [{\"x\": 28.571428298950195, \"y\": 0.0}, {\"x\": 35.71428680419922, \"y\": 0.0}], \"data-fd75513a2cf854892ee2292035294252\": [{\"x\": 28.571428298950195, \"y\": 0.0}, {\"x\": 25.0, \"y\": -4.083333492279053}], \"data-591ec70dac9c5eed2e48baaee8370dfe\": [{\"x\": 28.571428298950195, \"y\": 0.0}, {\"x\": 31.633682250976562, \"y\": -7.076478481292725}], \"data-5a6d941763adbe3f8b5f23ae62e0472d\": [{\"x\": 35.71428680419922, \"y\": 0.0}, {\"x\": 42.85714340209961, \"y\": 0.0}], \"data-48377b24df5bed1c28e95347d1a9ae7e\": [{\"x\": 35.71428680419922, \"y\": 0.0}, {\"x\": 31.633682250976562, \"y\": -7.076478481292725}], \"data-c412f72dba4c68ea06d2aa337c467f02\": [{\"x\": 35.71428680419922, \"y\": 0.0}, {\"x\": 37.93894577026367, \"y\": -8.022787094116211}], \"data-b4b5e6cc1eb26d5f4d69e0d3cb22d6c0\": [{\"x\": 42.85714340209961, \"y\": 0.0}, {\"x\": 50.0, \"y\": 0.0}], \"data-af5c67bf8bf0bba5a35c43b27a45dbc8\": [{\"x\": 42.85714340209961, \"y\": 0.0}, {\"x\": 37.93894577026367, \"y\": -8.022787094116211}], \"data-9bd249047f9f0a8d551243ab30135cbd\": [{\"x\": 42.85714340209961, \"y\": 0.0}, {\"x\": 44.99073791503906, \"y\": -5.625515937805176}], \"data-15b0591d3db3229a4b9c0c217df94fd3\": [{\"x\": 50.0, \"y\": 0.0}, {\"x\": 44.99073791503906, \"y\": -5.625515937805176}], \"data-98cc23f5380ade804d75d27f8bd14b95\": [{\"x\": 5.009262561798096, \"y\": -5.625515937805176}, {\"x\": 12.061055183410645, \"y\": -8.022787094116211}], \"data-7c4f20302d6858c823ce607d7290f33f\": [{\"x\": 12.061055183410645, \"y\": -8.022787094116211}, {\"x\": 18.366317749023438, \"y\": -7.076478481292725}], \"data-075137daf8f656c4b4040ce0bbf603af\": [{\"x\": 18.366317749023438, \"y\": -7.076478481292725}, {\"x\": 25.0, \"y\": -4.083333492279053}], \"data-991525d725f525cb6c9af34e5acdfce9\": [{\"x\": 25.0, \"y\": -4.083333492279053}, {\"x\": 31.633682250976562, \"y\": -7.076478481292725}], \"data-3e6cdd5bf7841465015fa990e6895ea0\": [{\"x\": 31.633682250976562, \"y\": -7.076478481292725}, {\"x\": 37.93894577026367, \"y\": -8.022787094116211}], \"data-589fbd6c48dc37b0f8d35d6840670c52\": [{\"x\": 37.93894577026367, \"y\": -8.022787094116211}, {\"x\": 44.99073791503906, \"y\": -5.625515937805176}], \"data-42345571a4b5bc034ca3a887d2b035bd\": [{\"x\": -0.16136281192302704, \"y\": -0.34070834517478943}, {\"x\": 6.998986721038818, \"y\": -0.14579521119594574}, {\"x\": 14.183418273925781, \"y\": -0.014918603003025055}, {\"x\": 21.3497314453125, \"y\": 0.0110060665756464}, {\"x\": 28.518505096435547, \"y\": 0.0110060665756464}, {\"x\": 35.684818267822266, \"y\": -0.014918605796992779}, {\"x\": 42.8692512512207, \"y\": -0.14579521119594574}, {\"x\": 50.029598236083984, \"y\": -0.34070834517478943}, {\"x\": 4.968173980712891, \"y\": -5.821983337402344}, {\"x\": 12.061055183410645, \"y\": -8.022787094116211}, {\"x\": 18.336462020874023, \"y\": -7.072239398956299}, {\"x\": 24.934118270874023, \"y\": -4.0497541427612305}, {\"x\": 31.531774520874023, \"y\": -7.072239398956299}, {\"x\": 37.80718231201172, \"y\": -8.022787094116211}, {\"x\": 44.900062561035156, \"y\": -5.821983814239502}], \"data-838d83169aa92d269c99d867e6027f1d\": [{\"x\": -0.16136281192302704, \"y\": -0.34070834517478943}, {\"x\": 6.998986721038818, \"y\": -0.14579521119594574}], \"data-afe61577d987659642bb49c6f9dfe30c\": [{\"x\": -0.16136281192302704, \"y\": -0.34070834517478943}, {\"x\": 4.968173980712891, \"y\": -5.821983337402344}], \"data-6b67fb9e8a572d7a78a459f6d1df3868\": [{\"x\": 6.998986721038818, \"y\": -0.14579521119594574}, {\"x\": 14.183418273925781, \"y\": -0.014918603003025055}], \"data-26d37bc494ae32281f6ad4c7a32525a4\": [{\"x\": 6.998986721038818, \"y\": -0.14579521119594574}, {\"x\": 4.968173980712891, \"y\": -5.821983337402344}], \"data-9bcdfe02177718d4e429d8b812c44e05\": [{\"x\": 6.998986721038818, \"y\": -0.14579521119594574}, {\"x\": 12.061055183410645, \"y\": -8.022787094116211}], \"data-bf4be286dc211e725a916574d0192cc9\": [{\"x\": 14.183418273925781, \"y\": -0.014918603003025055}, {\"x\": 21.3497314453125, \"y\": 0.0110060665756464}], \"data-1f714cedbe97a5dc86f755e519347e54\": [{\"x\": 14.183418273925781, \"y\": -0.014918603003025055}, {\"x\": 12.061055183410645, \"y\": -8.022787094116211}], \"data-44616f029cb2d8544daee7acb7c335c2\": [{\"x\": 14.183418273925781, \"y\": -0.014918603003025055}, {\"x\": 18.336462020874023, \"y\": -7.072239398956299}], \"data-4c149a9f7e36b638f1258640c7fe4282\": [{\"x\": 21.3497314453125, \"y\": 0.0110060665756464}, {\"x\": 28.518505096435547, \"y\": 0.0110060665756464}], \"data-df5469c9325f35f61d354156bd992dfc\": [{\"x\": 21.3497314453125, \"y\": 0.0110060665756464}, {\"x\": 18.336462020874023, \"y\": -7.072239398956299}], \"data-96c91ef2620db541d549347b3c99d6cf\": [{\"x\": 21.3497314453125, \"y\": 0.0110060665756464}, {\"x\": 24.934118270874023, \"y\": -4.0497541427612305}], \"data-a1faef55c37cb8d6fe6f1c197bd75a3d\": [{\"x\": 28.518505096435547, \"y\": 0.0110060665756464}, {\"x\": 35.684818267822266, \"y\": -0.014918605796992779}], \"data-b0019abbe8f97dac4080201c2f54a0e9\": [{\"x\": 28.518505096435547, \"y\": 0.0110060665756464}, {\"x\": 24.934118270874023, \"y\": -4.0497541427612305}], \"data-df0137a46ee8782cd877401138c81c55\": [{\"x\": 28.518505096435547, \"y\": 0.0110060665756464}, {\"x\": 31.531774520874023, \"y\": -7.072239398956299}], \"data-fe7f433a7be34ebf567c19aa46b32241\": [{\"x\": 35.684818267822266, \"y\": -0.014918605796992779}, {\"x\": 42.8692512512207, \"y\": -0.14579521119594574}], \"data-fb8dab64b2afb2dcf7c043b79a2cd3c4\": [{\"x\": 35.684818267822266, \"y\": -0.014918605796992779}, {\"x\": 31.531774520874023, \"y\": -7.072239398956299}], \"data-42931bf6c563234179354010cffcee9c\": [{\"x\": 35.684818267822266, \"y\": -0.014918605796992779}, {\"x\": 37.80718231201172, \"y\": -8.022787094116211}], \"data-0a67226f2ebf45c9bf69346f2f0b7680\": [{\"x\": 42.8692512512207, \"y\": -0.14579521119594574}, {\"x\": 50.029598236083984, \"y\": -0.34070834517478943}], \"data-f6b962772845ec183e8e87a8768f7d2a\": [{\"x\": 42.8692512512207, \"y\": -0.14579521119594574}, {\"x\": 37.80718231201172, \"y\": -8.022787094116211}], \"data-d7a9835102f15a7a3435bcab8e72499e\": [{\"x\": 42.8692512512207, \"y\": -0.14579521119594574}, {\"x\": 44.900062561035156, \"y\": -5.821983814239502}], \"data-80bac9a66b7427e3dbc70880185a81d8\": [{\"x\": 50.029598236083984, \"y\": -0.34070834517478943}, {\"x\": 44.900062561035156, \"y\": -5.821983814239502}], \"data-b0ca03f0912337e950986fd6d9c9b0af\": [{\"x\": 4.968173980712891, \"y\": -5.821983337402344}, {\"x\": 12.061055183410645, \"y\": -8.022787094116211}], \"data-f6b179acbbbf56bcb9a5d897267750bc\": [{\"x\": 12.061055183410645, \"y\": -8.022787094116211}, {\"x\": 18.336462020874023, \"y\": -7.072239398956299}], \"data-da8f509e7b0ac213a01a5251ca41c7a6\": [{\"x\": 18.336462020874023, \"y\": -7.072239398956299}, {\"x\": 24.934118270874023, \"y\": -4.0497541427612305}], \"data-d17a922348f9e544c529f8708e7e05fc\": [{\"x\": 24.934118270874023, \"y\": -4.0497541427612305}, {\"x\": 31.531774520874023, \"y\": -7.072239398956299}], \"data-acfaaa139a8475110c3517fab2ea68aa\": [{\"x\": 31.531774520874023, \"y\": -7.072239398956299}, {\"x\": 37.80718231201172, \"y\": -8.022787094116211}], \"data-85a68578e006870528a7fedef471dd29\": [{\"x\": 37.80718231201172, \"y\": -8.022787094116211}, {\"x\": 44.900062561035156, \"y\": -5.821983814239502}], \"data-ea0545bd7b0b9b5e07624e6b730474bd\": [{\"x\": -0.11141572892665863, \"y\": -0.25691527128219604}, {\"x\": 7.0486321449279785, \"y\": -0.10457389056682587}, {\"x\": 14.221616744995117, \"y\": -0.02093137428164482}, {\"x\": 21.384428024291992, \"y\": -0.03384403511881828}, {\"x\": 28.538928985595703, \"y\": -0.04569128155708313}, {\"x\": 35.69036865234375, \"y\": -0.022836636751890182}, {\"x\": 42.891910552978516, \"y\": -0.11371970176696777}, {\"x\": 50.05483627319336, \"y\": -0.2846321761608124}, {\"x\": 4.96652364730835, \"y\": -5.767503261566162}, {\"x\": 12.056404113769531, \"y\": -8.032166481018066}, {\"x\": 18.337932586669922, \"y\": -7.100991725921631}, {\"x\": 24.961795806884766, \"y\": -4.1199631690979}, {\"x\": 31.60732078552246, \"y\": -7.12160587310791}, {\"x\": 37.863983154296875, \"y\": -8.019950866699219}, {\"x\": 44.951026916503906, \"y\": -5.766229629516602}], \"data-f41a8ad5ae218e02c9c3a562e33b884f\": [{\"x\": -0.11141572892665863, \"y\": -0.25691527128219604}, {\"x\": 7.0486321449279785, \"y\": -0.10457389056682587}], \"data-1b6f8c01e0ebe3236f23fe3bbafde38b\": [{\"x\": -0.11141572892665863, \"y\": -0.25691527128219604}, {\"x\": 4.96652364730835, \"y\": -5.767503261566162}], \"data-1f19fe8e6f7c6b70bbe7482546300e41\": [{\"x\": 7.0486321449279785, \"y\": -0.10457389056682587}, {\"x\": 14.221616744995117, \"y\": -0.02093137428164482}], \"data-de32c9e32e6ad894616ddc5f1847b95d\": [{\"x\": 7.0486321449279785, \"y\": -0.10457389056682587}, {\"x\": 4.96652364730835, \"y\": -5.767503261566162}], \"data-8183ca480431dd6277ef6e001b2c99bb\": [{\"x\": 7.0486321449279785, \"y\": -0.10457389056682587}, {\"x\": 12.056404113769531, \"y\": -8.032166481018066}], \"data-40cf7a0abb527edc09bc48cb46449761\": [{\"x\": 14.221616744995117, \"y\": -0.02093137428164482}, {\"x\": 21.384428024291992, \"y\": -0.03384403511881828}], \"data-eb1b3949434acd6bc133643e66b30d93\": [{\"x\": 14.221616744995117, \"y\": -0.02093137428164482}, {\"x\": 12.056404113769531, \"y\": -8.032166481018066}], \"data-3ba294980bf140a954ebd916cbf54a66\": [{\"x\": 14.221616744995117, \"y\": -0.02093137428164482}, {\"x\": 18.337932586669922, \"y\": -7.100991725921631}], \"data-127528565fa56647bc3accacdc7f65b1\": [{\"x\": 21.384428024291992, \"y\": -0.03384403511881828}, {\"x\": 28.538928985595703, \"y\": -0.04569128155708313}], \"data-65d827e7954c1b3127c2ff44788b20e1\": [{\"x\": 21.384428024291992, \"y\": -0.03384403511881828}, {\"x\": 18.337932586669922, \"y\": -7.100991725921631}], \"data-32e7cc02d240ee22b9f07724966e51d6\": [{\"x\": 21.384428024291992, \"y\": -0.03384403511881828}, {\"x\": 24.961795806884766, \"y\": -4.1199631690979}], \"data-8c24bb7372da4d720ce18090c77850e7\": [{\"x\": 28.538928985595703, \"y\": -0.04569128155708313}, {\"x\": 35.69036865234375, \"y\": -0.022836636751890182}], \"data-421bcf67f2261e59f2ad3c73474b04e6\": [{\"x\": 28.538928985595703, \"y\": -0.04569128155708313}, {\"x\": 24.961795806884766, \"y\": -4.1199631690979}], \"data-a3036eccd7ea05973293098d456b2731\": [{\"x\": 28.538928985595703, \"y\": -0.04569128155708313}, {\"x\": 31.60732078552246, \"y\": -7.12160587310791}], \"data-288e88154034b4fefc943e7bdb10d29a\": [{\"x\": 35.69036865234375, \"y\": -0.022836636751890182}, {\"x\": 42.891910552978516, \"y\": -0.11371970176696777}], \"data-eec16df29094fad55527e4ad675a001d\": [{\"x\": 35.69036865234375, \"y\": -0.022836636751890182}, {\"x\": 31.60732078552246, \"y\": -7.12160587310791}], \"data-232ad2458363e5312a69af3490397454\": [{\"x\": 35.69036865234375, \"y\": -0.022836636751890182}, {\"x\": 37.863983154296875, \"y\": -8.019950866699219}], \"data-1e3ace404850e4c8ff57b5f27cb90d7c\": [{\"x\": 42.891910552978516, \"y\": -0.11371970176696777}, {\"x\": 50.05483627319336, \"y\": -0.2846321761608124}], \"data-f6bbc2c0edcd3d16e7c56f63381b834f\": [{\"x\": 42.891910552978516, \"y\": -0.11371970176696777}, {\"x\": 37.863983154296875, \"y\": -8.019950866699219}], \"data-47ee964a68a0d08685be356f06b0eb5b\": [{\"x\": 42.891910552978516, \"y\": -0.11371970176696777}, {\"x\": 44.951026916503906, \"y\": -5.766229629516602}], \"data-312f104e6fce4d092b46365b053ef031\": [{\"x\": 50.05483627319336, \"y\": -0.2846321761608124}, {\"x\": 44.951026916503906, \"y\": -5.766229629516602}], \"data-9e219304b0f894a8eecd6ef74a4b91d7\": [{\"x\": 4.96652364730835, \"y\": -5.767503261566162}, {\"x\": 12.056404113769531, \"y\": -8.032166481018066}], \"data-1338b1a4ce0a637a428d820df252d3c6\": [{\"x\": 12.056404113769531, \"y\": -8.032166481018066}, {\"x\": 18.337932586669922, \"y\": -7.100991725921631}], \"data-066eb042b834a534016f642cede918a6\": [{\"x\": 18.337932586669922, \"y\": -7.100991725921631}, {\"x\": 24.961795806884766, \"y\": -4.1199631690979}], \"data-d8c4b437e969df8eb62515b6a229ad0b\": [{\"x\": 24.961795806884766, \"y\": -4.1199631690979}, {\"x\": 31.60732078552246, \"y\": -7.12160587310791}], \"data-c8f905e980128db53b06fa91fe1a2061\": [{\"x\": 31.60732078552246, \"y\": -7.12160587310791}, {\"x\": 37.863983154296875, \"y\": -8.019950866699219}], \"data-820ff75c7f8020d244f3021ed96bc9e9\": [{\"x\": 37.863983154296875, \"y\": -8.019950866699219}, {\"x\": 44.951026916503906, \"y\": -5.766229629516602}]}}, {\"mode\": \"vega-lite\"});\n",
       "</script>"
      ],
      "text/plain": [
       "alt.LayerChart(...)"
      ]
     },
     "execution_count": 11,
     "metadata": {},
     "output_type": "execute_result"
    }
   ],
   "source": [
    "i = 4\n",
    "pred = gcn.predict([testData[i]])[0]\n",
    "plotTruss(testData[i], showDeformed=True, defScale=20, prediction=pred)"
   ]
  },
  {
   "cell_type": "code",
   "execution_count": 10,
   "metadata": {},
   "outputs": [],
   "source": [
    "# # interactive scatter plot\n",
    "# alt.data_transformers.enable('json')\n",
    "# allPreds = gcn.predict(testData)\n",
    "# display(interactiveErrorPlot(testData, allPreds))\n",
    "# alt.data_transformers.enable('default');"
   ]
  }
 ],
 "metadata": {
  "kernelspec": {
   "display_name": "ptgeom",
   "language": "python",
   "name": "ptgeom"
  },
  "language_info": {
   "codemirror_mode": {
    "name": "ipython",
    "version": 3
   },
   "file_extension": ".py",
   "mimetype": "text/x-python",
   "name": "python",
   "nbconvert_exporter": "python",
   "pygments_lexer": "ipython3",
   "version": "3.7.7"
  }
 },
 "nbformat": 4,
 "nbformat_minor": 2
}
