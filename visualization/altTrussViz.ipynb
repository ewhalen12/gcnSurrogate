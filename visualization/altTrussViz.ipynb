{
 "cells": [
  {
   "cell_type": "code",
   "execution_count": 1,
   "metadata": {},
   "outputs": [
    {
     "ename": "ModuleNotFoundError",
     "evalue": "No module named 'gcnSurrogateUtil'",
     "output_type": "error",
     "traceback": [
      "\u001b[0;31m---------------------------------------------------------------------------\u001b[0m",
      "\u001b[0;31mModuleNotFoundError\u001b[0m                       Traceback (most recent call last)",
      "\u001b[0;32m<ipython-input-1-d3fa26ea7886>\u001b[0m in \u001b[0;36m<module>\u001b[0;34m\u001b[0m\n\u001b[1;32m      6\u001b[0m \u001b[0msys\u001b[0m\u001b[0;34m.\u001b[0m\u001b[0mpath\u001b[0m\u001b[0;34m.\u001b[0m\u001b[0mappend\u001b[0m\u001b[0;34m(\u001b[0m\u001b[0;34m'../readers'\u001b[0m\u001b[0;34m)\u001b[0m\u001b[0;34m\u001b[0m\u001b[0;34m\u001b[0m\u001b[0m\n\u001b[1;32m      7\u001b[0m \u001b[0;32mfrom\u001b[0m \u001b[0mloadGhGraphs\u001b[0m \u001b[0;32mimport\u001b[0m \u001b[0mloadGhGraphs\u001b[0m\u001b[0;34m\u001b[0m\u001b[0;34m\u001b[0m\u001b[0m\n\u001b[0;32m----> 8\u001b[0;31m \u001b[0;32mfrom\u001b[0m \u001b[0maltTrussViz\u001b[0m \u001b[0;32mimport\u001b[0m \u001b[0mplotTruss\u001b[0m\u001b[0;34m\u001b[0m\u001b[0;34m\u001b[0m\u001b[0m\n\u001b[0m\u001b[1;32m      9\u001b[0m \u001b[0;32mfrom\u001b[0m \u001b[0msklearn\u001b[0m\u001b[0;34m.\u001b[0m\u001b[0mmodel_selection\u001b[0m \u001b[0;32mimport\u001b[0m \u001b[0mtrain_test_split\u001b[0m\u001b[0;34m\u001b[0m\u001b[0;34m\u001b[0m\u001b[0m\n",
      "\u001b[0;32m/data/home/ewhalen/projects/gcnSurrogate/visualization/altTrussViz.py\u001b[0m in \u001b[0;36m<module>\u001b[0;34m\u001b[0m\n\u001b[1;32m      5\u001b[0m \u001b[0;34m\u001b[0m\u001b[0m\n\u001b[1;32m      6\u001b[0m \u001b[0msys\u001b[0m\u001b[0;34m.\u001b[0m\u001b[0mpath\u001b[0m\u001b[0;34m.\u001b[0m\u001b[0mappend\u001b[0m\u001b[0;34m(\u001b[0m\u001b[0;34m'./util'\u001b[0m\u001b[0;34m)\u001b[0m\u001b[0;34m\u001b[0m\u001b[0;34m\u001b[0m\u001b[0m\n\u001b[0;32m----> 7\u001b[0;31m \u001b[0;32mfrom\u001b[0m \u001b[0mgcnSurrogateUtil\u001b[0m \u001b[0;32mimport\u001b[0m \u001b[0;34m*\u001b[0m\u001b[0;34m\u001b[0m\u001b[0;34m\u001b[0m\u001b[0m\n\u001b[0m\u001b[1;32m      8\u001b[0m \u001b[0;34m\u001b[0m\u001b[0m\n\u001b[1;32m      9\u001b[0m \u001b[0;31m###############################################################################\u001b[0m\u001b[0;34m\u001b[0m\u001b[0;34m\u001b[0m\u001b[0;34m\u001b[0m\u001b[0m\n",
      "\u001b[0;31mModuleNotFoundError\u001b[0m: No module named 'gcnSurrogateUtil'"
     ]
    }
   ],
   "source": [
    "import sys\n",
    "import glob\n",
    "import numpy as np\n",
    "import pandas as pd\n",
    "import altair as alt\n",
    "sys.path.append('../readers')\n",
    "from loadGhGraphs import loadGhGraphs\n",
    "from altTrussViz import plotTruss\n",
    "from sklearn.model_selection import train_test_split"
   ]
  },
  {
   "cell_type": "code",
   "execution_count": null,
   "metadata": {},
   "outputs": [],
   "source": [
    "doeFile = \"/home/ewhalen/projects/data/trusses/2D_Truss_v1.3/design_7_N_1000.csv\"\n",
    "allGraphs = loadGhGraphs(doeFile, NUM_DV=5)"
   ]
  },
  {
   "cell_type": "code",
   "execution_count": null,
   "metadata": {},
   "outputs": [],
   "source": [
    "plotTruss(allGraphs[0])"
   ]
  },
  {
   "cell_type": "code",
   "execution_count": null,
   "metadata": {},
   "outputs": [],
   "source": [
    "pred = allGraphs[0].y+0.1*np.random.rand()\n",
    "plotTruss(allGraphs[0], showDeformed=True, defScale=30, showUndeformed=True, prediction=pred.numpy())"
   ]
  },
  {
   "cell_type": "markdown",
   "metadata": {},
   "source": [
    "## Visualize the design space"
   ]
  },
  {
   "cell_type": "code",
   "execution_count": null,
   "metadata": {},
   "outputs": [],
   "source": [
    "alt.themes.enable('none')"
   ]
  },
  {
   "cell_type": "code",
   "execution_count": null,
   "metadata": {},
   "outputs": [],
   "source": [
    "doeFile = \"C:/Users/ewhalen/OneDrive - Massachusetts Institute of Technology/research/data/trusses/EW/v1.3/param_0_design_9_N_5.csv\"\n",
    "allGraphs = loadGhGraphs(doeFile, NUM_DV=1)\n",
    "opacities = np.linspace(0.1,0.6,5)\n",
    "opacities[-1] = 1\n",
    "plotList = [plotTruss(g, withoutConfigure=True, lineOpacity=o) for g,o in zip(allGraphs, opacities)]\n",
    "alt.layer(*plotList, background='none').configure_view(strokeOpacity=0)"
   ]
  },
  {
   "cell_type": "code",
   "execution_count": null,
   "metadata": {},
   "outputs": [],
   "source": [
    "doeFile = \"C:/Users/ewhalen/OneDrive - Massachusetts Institute of Technology/research/data/trusses/EW/v1.3/param_1_design_9_N_5.csv\"\n",
    "allGraphs = loadGhGraphs(doeFile, NUM_DV=1)\n",
    "plotList = [plotTruss(g, withoutConfigure=True, lineOpacity=o) for g,o in zip(allGraphs, opacities)]\n",
    "alt.layer(*plotList, background='none').configure_view(strokeOpacity=0)"
   ]
  },
  {
   "cell_type": "code",
   "execution_count": null,
   "metadata": {},
   "outputs": [],
   "source": [
    "doeFile = \"C:/Users/ewhalen/OneDrive - Massachusetts Institute of Technology/research/data/trusses/EW/v1.3/param_2_design_9_N_5.csv\"\n",
    "allGraphs = loadGhGraphs(doeFile, NUM_DV=1)\n",
    "plotList = [plotTruss(g, withoutConfigure=True, lineOpacity=o) for g,o in zip(allGraphs, opacities)]\n",
    "alt.layer(*plotList, background='none').configure_view(strokeOpacity=0)"
   ]
  },
  {
   "cell_type": "code",
   "execution_count": null,
   "metadata": {},
   "outputs": [],
   "source": [
    "doeFile = \"C:/Users/ewhalen/OneDrive - Massachusetts Institute of Technology/research/data/trusses/EW/v1.3/param_3_design_9_N_5.csv\"\n",
    "allGraphs = loadGhGraphs(doeFile, NUM_DV=1)\n",
    "plotList = [plotTruss(g, withoutConfigure=True, lineOpacity=o) for g,o in zip(allGraphs, opacities)]\n",
    "alt.layer(*plotList, background='none').configure_view(strokeOpacity=0)"
   ]
  },
  {
   "cell_type": "code",
   "execution_count": null,
   "metadata": {},
   "outputs": [],
   "source": [
    "doeFile = \"C:/Users/ewhalen/OneDrive - Massachusetts Institute of Technology/research/data/trusses/EW/v1.3/param_4_design_9_N_5.csv\"\n",
    "allGraphs = loadGhGraphs(doeFile, NUM_DV=1)\n",
    "plotList = [plotTruss(g, withoutConfigure=True, lineOpacity=o, background='none') for g,o in zip(allGraphs, opacities)]\n",
    "alt.layer(*plotList, background='none').configure_view(strokeOpacity=0)"
   ]
  },
  {
   "cell_type": "markdown",
   "metadata": {},
   "source": [
    "## Visualize one design"
   ]
  },
  {
   "cell_type": "code",
   "execution_count": null,
   "metadata": {},
   "outputs": [],
   "source": [
    "doeFile = \"C:/Users/ewhalen/OneDrive - Massachusetts Institute of Technology/research/data/trusses/EW/v1.3/param_0_design_9_N_5.csv\"\n",
    "allGraphs = loadGhGraphs(doeFile, NUM_DV=1)\n",
    "plotTruss(allGraphs[0], background='none', width=150, height=75, z=7, showPoints=True, pointSize=50)"
   ]
  },
  {
   "cell_type": "code",
   "execution_count": null,
   "metadata": {},
   "outputs": [],
   "source": [
    "plotTruss(allGraphs[0], showDeformed=True, defScale=80, background='none', width=150, height=75, z=7, prediction=allGraphs[0].y*(1+1.5*(np.random.rand()-0.5)))"
   ]
  },
  {
   "cell_type": "markdown",
   "metadata": {},
   "source": [
    "## Visualize a few designs"
   ]
  },
  {
   "cell_type": "code",
   "execution_count": null,
   "metadata": {},
   "outputs": [],
   "source": [
    "def filterbyDisp(graphList, pctCutoff):\n",
    "    maxes = [max(np.abs(graph.y.numpy().flatten())) for graph in allGraphsUnfiltered]\n",
    "    df = pd.DataFrame(maxes, columns=['maxes'])\n",
    "    mask = df['maxes'].rank(pct=True) <= pctCutoff\n",
    "    return [g for g,b in zip(graphList, mask) if b]\n",
    "\n",
    "def partitionGraphList(allGraphs):\n",
    "    allIds = list(range(len(allGraphs)))\n",
    "    other, testIds = train_test_split(allIds, test_size=0.2, shuffle=True, random_state=1234) # 20% test\n",
    "    trainIds, valIds = train_test_split(other, test_size=0.15, shuffle=True, random_state=1234) # 15% val 15% test\n",
    "    trainGraphs = [allGraphs[i] for i in trainIds]\n",
    "    valGraphs = [allGraphs[i] for i in valIds]\n",
    "    testGraphs = [allGraphs[i] for i in testIds]\n",
    "    return trainGraphs, valGraphs, testGraphs\n",
    "\n",
    "doeFile = \"C:/Users/ewhalen/OneDrive - Massachusetts Institute of Technology/research/data/trusses/EW/v1.3/design_9_N_1000.csv\"\n",
    "allGraphsUnfiltered = loadGhGraphs(doeFile, NUM_DV=5)\n",
    "allGraphs = filterbyDisp(allGraphsUnfiltered, 0.9)\n",
    "trainGraphs, valGraphs, testGraphs = partitionGraphList(allGraphs)"
   ]
  },
  {
   "cell_type": "code",
   "execution_count": null,
   "metadata": {},
   "outputs": [],
   "source": [
    "plotList = [plotTruss(g, height=215, width=500, lineWidth=3, z=7, withoutConfigure=True) for g in testGraphs[:36]]\n",
    "columnList = [alt.vconcat(*plotList[6*i:6*(i+1)], spacing=0) for i in range(6)]\n",
    "alt.hconcat(*columnList, spacing=0, background='none').configure_view(strokeOpacity=0)"
   ]
  },
  {
   "cell_type": "markdown",
   "metadata": {},
   "source": [
    "## Visualize several topologies"
   ]
  },
  {
   "cell_type": "code",
   "execution_count": null,
   "metadata": {},
   "outputs": [],
   "source": [
    "trainSets ,valSets ,testSets = {}, {}, {}\n",
    "\n",
    "doeFiles = np.sort(glob.glob(\"C:/Users/ewhalen/OneDrive - Massachusetts Institute of Technology/research/data/trusses/EW/v1.3/design*.csv\"))\n",
    "for doeFile in doeFiles:\n",
    "    designName = doeFile.split('\\\\')[-1].split('_N')[0]\n",
    "    print(f'loading {designName}')\n",
    "    allGraphsUnfiltered = loadGhGraphs(doeFile, NUM_DV=5)\n",
    "    allGraphs = filterbyDisp(allGraphsUnfiltered, 0.9)\n",
    "    trainData, valData, testData = partitionGraphList(allGraphs)\n",
    "    trainSets[designName] = trainData\n",
    "    valSets[designName] = valData\n",
    "    testSets[designName] = testData"
   ]
  },
  {
   "cell_type": "code",
   "execution_count": null,
   "metadata": {},
   "outputs": [],
   "source": [
    "columnList = []\n",
    "for groupName, testSet in testSets.items():\n",
    "    plotList = []\n",
    "    for graph in testSet[:5]:\n",
    "        plotList.append(plotTruss(graph, height=215, width=500, lineWidth=3, z=7, withoutConfigure=True, showPoints=True, pointSize=150))\n",
    "    col = alt.vconcat(*plotList, spacing=0)\n",
    "    columnList.append(col)\n",
    "alt.hconcat(*columnList, spacing=0).configure_view(strokeOpacity=0)"
   ]
  }
 ],
 "metadata": {
  "kernelspec": {
   "display_name": "ptgeom-cpu",
   "language": "python",
   "name": "ptgeom-cpu"
  },
  "language_info": {
   "codemirror_mode": {
    "name": "ipython",
    "version": 3
   },
   "file_extension": ".py",
   "mimetype": "text/x-python",
   "name": "python",
   "nbconvert_exporter": "python",
   "pygments_lexer": "ipython3",
   "version": "3.7.9"
  }
 },
 "nbformat": 4,
 "nbformat_minor": 4
}
