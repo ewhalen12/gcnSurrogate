{
 "cells": [
  {
   "cell_type": "code",
   "execution_count": 1,
   "metadata": {},
   "outputs": [],
   "source": [
    "import json\n",
    "import glob\n",
    "import os\n",
    "import sys\n",
    "from time import time\n",
    "import numpy as np\n",
    "import pandas as pd\n",
    "import torch\n",
    "import torch_geometric as tg\n",
    "import torch.nn.functional as F\n",
    "import pyvista as pv\n",
    "import altair as alt\n",
    "from sklearn.preprocessing import StandardScaler\n",
    "from sklearn.model_selection import train_test_split\n",
    "import pickle\n",
    "\n",
    "sys.path.append('C:/Users/ewhalen/OneDrive - Massachusetts Institute of Technology/research/toolbox/caeSurrogateUtility/')\n",
    "import caeUtility as cu\n",
    "\n",
    "sys.path.append('../readers')\n",
    "from loadGhGraphs import loadGhGraphs\n",
    "\n",
    "sys.path.append('../visualization')\n",
    "from trussViz2D import plotTruss"
   ]
  },
  {
   "cell_type": "code",
   "execution_count": 2,
   "metadata": {},
   "outputs": [],
   "source": [
    "# toss out the wost 10% of designs\n",
    "def filterbyDisp(graphList, pctCutoff):\n",
    "    maxes = [max(np.abs(graph.y.numpy().flatten())) for graph in allGraphsUnfiltered]\n",
    "    df = pd.DataFrame(maxes, columns=['maxes'])\n",
    "    mask = df['maxes'].rank(pct=True) <= pctCutoff\n",
    "    return [g for g,b in zip(graphList, mask) if b]\n",
    "\n",
    "# partition into train, validate and test\n",
    "def partitionGraphList(allGraphs):\n",
    "    allIds = list(range(len(allGraphs)))\n",
    "    other, testIds = train_test_split(allIds, test_size=0.2, shuffle=True, random_state=1234) # 20% test\n",
    "    trainIds, valIds = train_test_split(other, test_size=0.15, shuffle=True, random_state=1234) # 15% val 15% test\n",
    "    trainGraphs = [allGraphs[i] for i in trainIds]\n",
    "    valGraphs = [allGraphs[i] for i in valIds]\n",
    "    testGraphs = [allGraphs[i] for i in testIds]\n",
    "    return trainGraphs, valGraphs, testGraphs\n",
    "\n",
    "logTrans = lambda x: np.sign(x)*np.log(10.0*np.abs(x)+1.0)\n",
    "invLogTrans = lambda y: np.sign(y)*(np.exp(np.abs(y))-1.0)/10.0\n",
    "\n",
    "def fitSS(graphList, logTrans=True, ssTrans=True, flatten=False):\n",
    "    ss = StandardScaler()\n",
    "    if flatten:\n",
    "        allResponses = np.empty((0,1))\n",
    "        for graph in graphList:\n",
    "            allResponses = np.vstack([allResponses, graph.y.reshape(-1,1)])\n",
    "    else:\n",
    "        allResponses = np.empty((0,graphList[0].y.numpy().size))\n",
    "        for graph in graphList:\n",
    "            allResponses = np.vstack([allResponses, graph.y.reshape(1,-1)])\n",
    "    ss.fit(allResponses)\n",
    "    ss.logTrans = logTrans\n",
    "    ss.ssTrans = ssTrans\n",
    "    ss.flatten = flatten\n",
    "    return ss\n",
    "\n",
    "def applySS(ss, graphList):\n",
    "    transformedGraphList = [g.clone() for g in graphList] # deep copy\n",
    "    for graph in transformedGraphList:\n",
    "        if ss.ssTrans:\n",
    "            if ss.flatten:\n",
    "                graph.y = torch.as_tensor(ss.transform(graph.y.reshape(-1,1).cpu()).reshape(-1,2), dtype=torch.float)\n",
    "            else:\n",
    "                graph.y = torch.as_tensor(ss.transform(graph.y.reshape(1,-1).cpu()).reshape(-1,2), dtype=torch.float)\n",
    "        if ss.logTrans: \n",
    "            graph.y = logTrans(graph.y)\n",
    "    return transformedGraphList\n",
    "\n",
    "def applyInvSS(ss, out):\n",
    "    if ss.logTrans: \n",
    "        out = invLogTrans(out)\n",
    "    if ss.ssTrans:\n",
    "        if ss.flatten:\n",
    "            out = ss.inverse_transform(out.reshape(-1,1)).reshape(-1,2)\n",
    "        else:\n",
    "            out = ss.inverse_transform(out.reshape(1,-1)).reshape(-1,2)\n",
    "    return out\n",
    "\n",
    "## define network architecture\n",
    "#############################################################\n",
    "class FeaStNet(torch.nn.Module):\n",
    "    def __init__(self):\n",
    "        super(FeaStNet, self).__init__()\n",
    "        self.norm0 = tg.nn.BatchNorm(2, momentum=0.3, affine=True, track_running_stats=True)\n",
    "        self.lin0 = torch.nn.Linear(4, 16)\n",
    "        self.conv0 = tg.nn.FeaStConv(16, 32, heads=8) # The (translation-invariant) FeaStNet convolution\n",
    "        self.normc0 = tg.nn.BatchNorm(32, momentum=0.3, affine=True, track_running_stats=True)\n",
    "        self.conv1 = tg.nn.FeaStConv(32, 64, heads=8)\n",
    "        self.normc1 = tg.nn.BatchNorm(64, momentum=0.3, affine=True, track_running_stats=True)\n",
    "        self.conv2 = tg.nn.FeaStConv(64, 128, heads=8)\n",
    "        self.normc2 = tg.nn.BatchNorm(128, momentum=0.3, affine=True, track_running_stats=True)\n",
    "        self.conv3 = tg.nn.FeaStConv(128, 256, heads=8)\n",
    "        self.normc3 = tg.nn.BatchNorm(256, momentum=0.3, affine=True, track_running_stats=True)\n",
    "        self.conv4 = tg.nn.FeaStConv(256, 128, heads=8)\n",
    "        self.normc4 = tg.nn.BatchNorm(128, momentum=0.3, affine=True, track_running_stats=True)\n",
    "        self.conv5 = tg.nn.FeaStConv(128, 128, heads=8)\n",
    "        self.normc5 = tg.nn.BatchNorm(128, momentum=0.3, affine=True, track_running_stats=True)\n",
    "        self.lin1 = torch.nn.Linear(128, 64)\n",
    "        self.lin2 = torch.nn.Linear(64, 2)\n",
    "\n",
    "    def forward(self, data):\n",
    "        x = self.norm0(data.pos)\n",
    "        x = torch.cat([x, data.x.float()], 1)\n",
    "        x = self.lin0(x)\n",
    "        x = F.relu(x)\n",
    "        x = self.conv0(x, data.edge_index)\n",
    "        x = self.normc0(x)\n",
    "        x = F.relu(x)\n",
    "        x = self.conv1(x, data.edge_index)\n",
    "        x = self.normc1(x)\n",
    "        x = F.relu(x)        \n",
    "        x = self.conv2(x, data.edge_index)\n",
    "        x = self.normc2(x)\n",
    "        x = F.relu(x)\n",
    "        x = self.conv3(x, data.edge_index)\n",
    "        x = self.normc3(x)\n",
    "        x = F.relu(x)\n",
    "        x = self.conv4(x, data.edge_index)\n",
    "        x = self.normc4(x)\n",
    "        x = F.relu(x)\n",
    "        x = self.conv5(x, data.edge_index)\n",
    "        x = self.normc5(x)\n",
    "        x = F.relu(x)\n",
    "        x = self.lin1(x)\n",
    "        x = F.relu(x)\n",
    "        x = self.lin2(x)\n",
    "        return x\n",
    "    \n",
    "# configure training\n",
    "def train(model, trainGraphs, valGraphs, device, epochs=10, saveDir=None, batch_size=256, flatten=False, logTrans=True, ssTrans=True):\n",
    "    # prep train data\n",
    "    model.ss = fitSS(trainGraphs, flatten=flatten, logTrans=logTrans, ssTrans=ssTrans)\n",
    "    ssFile = None\n",
    "    modelFile = None\n",
    "    if saveDir:\n",
    "        if not os.path.exists(saveDir): os.mkdir(saveDir)\n",
    "        ssFile = os.path.join(saveDir, 'ss.pkl')\n",
    "        pickle.dump(model.ss, open(ssFile, 'wb'))\n",
    "    trainGraphsScaled = applySS(model.ss, trainGraphs)\n",
    "    loader = tg.data.DataLoader(trainGraphsScaled, batch_size=batch_size, shuffle=True)\n",
    "    \n",
    "    # prep validation data\n",
    "    valGraphsScaled = applySS(model.ss, valGraphs)\n",
    "    valLoader = tg.data.DataLoader(valGraphsScaled, batch_size=1, shuffle=False)\n",
    "    \n",
    "    # prep model\n",
    "    optimizer = torch.optim.Adam(model.parameters(), lr=0.0001, weight_decay=10e-4)\n",
    "    trainHist, valHist = [], []\n",
    "    model.to(device)\n",
    "\n",
    "    for epoch in range(epochs):\n",
    "\n",
    "        ### train ###\n",
    "        model.train()\n",
    "        t = time()\n",
    "        batchHist = []\n",
    "        for batch in loader:\n",
    "            batch.to(device)\n",
    "            optimizer.zero_grad()\n",
    "            out = model(batch)\n",
    "            loss = F.mse_loss(out, batch.y)\n",
    "            loss.backward()\n",
    "            optimizer.step()\n",
    "            batchHist.append(loss.item())\n",
    "\n",
    "        trainHist.append(np.mean(batchHist))\n",
    "        \n",
    "        ### validate ###\n",
    "        batchHist = []\n",
    "        model.eval()\n",
    "        with torch.no_grad():\n",
    "            for batch in valLoader:\n",
    "                batch.to(device)\n",
    "                out = model(batch)\n",
    "                loss = F.mse_loss(out, batch.y)\n",
    "                batchHist.append(loss.item())\n",
    "        valHist.append(np.mean(batchHist))\n",
    "\n",
    "        print(f'epoch: {epoch}   trainLoss: {trainHist[-1]:.4e}   time: {(time()-t):.2e}')\n",
    "              \n",
    "        if saveDir:\n",
    "            with open(os.path.join(saveDir, 'trainlog.csv'), 'a') as fp: \n",
    "                fp.write(f'{epoch},{trainHist[-1]},{valHist[-1]},{(time()-t)}\\n')\n",
    "                \n",
    "            if (np.argmin(valHist) == len(valHist)-1):\n",
    "                modelFile = os.path.join(saveDir, f'checkpoint_{epoch}')\n",
    "                torch.save(model.state_dict(), modelFile) # save best model    \n",
    "\n",
    "    return trainHist, valHist, modelFile, ssFile\n",
    "\n",
    "def predict(model, inputs, device):\n",
    "    # prep data\n",
    "    inputsScaled = applySS(model.ss, inputs)\n",
    "    testLoader = tg.data.DataLoader(inputsScaled, batch_size=1, shuffle=False)\n",
    "    \n",
    "    model.to(device)\n",
    "    preds = []\n",
    "    model.eval()\n",
    "    with torch.no_grad():\n",
    "        for batch in testLoader:\n",
    "            batch.to(device)\n",
    "            out = model(batch)\n",
    "            p = applyInvSS(model.ss, out.cpu().numpy())\n",
    "            preds.append(p)\n",
    "    return preds\n",
    "\n",
    "def test(model, inputs, outputs, baselineRef, device, level='set'):\n",
    "    preds = predict(model, inputs, device)\n",
    "    if baselineRef: baselineRef = [b.y.cpu().numpy() for b in baselineRef]\n",
    "    return cu.computeFieldLossMetrics([g.y.cpu().numpy() for g in outputs], \n",
    "                                      preds, \n",
    "                                      baselineRef=baselineRef, level=level)\n",
    "        \n",
    "def loadModelFromFile(modelFile, ssFile, device):\n",
    "    model = FeaStNet()\n",
    "#     model.load_state_dict(torch.load(modelFile)) # both methods work on VM\n",
    "    model.load_state_dict(torch.load(modelFile, map_location=device), strict=False)\n",
    "    ss = pickle.load(open(ssFile, 'rb'))\n",
    "    model.ss = ss\n",
    "    return model\n",
    "\n",
    "def plotHistory(trainHist, valHist):\n",
    "    histDf = pd.DataFrame({'train': trainHist, 'val': valHist})\n",
    "    return alt.Chart(histDf.reset_index()).transform_fold(\n",
    "            ['train', 'val'],\n",
    "            as_=['metric', 'value']\n",
    "        ).mark_line().encode(\n",
    "            alt.X('index:Q'),\n",
    "            alt.Y('value:Q', axis=alt.Axis(title='loss')),\n",
    "            color=alt.Color('metric:N'),\n",
    "            tooltip=['epoch:Q', 'value:Q']\n",
    "        ).properties(width=400, height=200)"
   ]
  },
  {
   "cell_type": "markdown",
   "metadata": {},
   "source": [
    "## Load data"
   ]
  },
  {
   "cell_type": "code",
   "execution_count": 3,
   "metadata": {},
   "outputs": [
    {
     "name": "stdout",
     "output_type": "stream",
     "text": [
      "loaded 1000 graphs\n",
      "loaded 1000 graphs\n"
     ]
    }
   ],
   "source": [
    "# load group 5\n",
    "doeFile = 'C:/Users/ewhalen/OneDrive - Massachusetts Institute of Technology/research/data/trusses/EW/v1.3/design_5_N_1000.csv'\n",
    "allGraphsUnfiltered = loadGhGraphs(doeFile, NUM_DV=5)\n",
    "print(f'loaded {len(allGraphsUnfiltered)} graphs')\n",
    "all5Graphs = filterbyDisp(allGraphsUnfiltered, 0.9)\n",
    "trainGraphs5, valGraphs5, testGraphs5 = partitionGraphList(all5Graphs)\n",
    "\n",
    "# load group 9\n",
    "doeFile = 'C:/Users/ewhalen/OneDrive - Massachusetts Institute of Technology/research/data/trusses/EW/v1.3/design_9_N_1000.csv'\n",
    "allGraphsUnfiltered = loadGhGraphs(doeFile, NUM_DV=5)\n",
    "print(f'loaded {len(allGraphsUnfiltered)} graphs')\n",
    "all9Graphs = filterbyDisp(allGraphsUnfiltered, 0.9)\n",
    "trainGraphs9, valGraphs9, testGraphs9 = partitionGraphList(all9Graphs)\n",
    "\n",
    "# combine data sets\n",
    "trainSets = {'group 5':trainGraphs5, 'group 9':trainGraphs9, 'comb':trainGraphs5+trainGraphs9}\n",
    "valSets = {'group 5':valGraphs5, 'group 9':valGraphs9, 'comb':valGraphs5+valGraphs9}\n",
    "testSets = {'group 5':testGraphs5, 'group 9':testGraphs9, 'comb':testGraphs5+testGraphs9}"
   ]
  },
  {
   "cell_type": "markdown",
   "metadata": {},
   "source": [
    "## Load pretrained model"
   ]
  },
  {
   "cell_type": "code",
   "execution_count": 4,
   "metadata": {},
   "outputs": [],
   "source": [
    "modelFile = \"C:/Users/ewhalen/OneDrive - Massachusetts Institute of Technology/research/graphConvolutions/code/pretrained/topoTest04/group 5/SAVETEST\"\n",
    "ssFile = \"C:/Users/ewhalen/OneDrive - Massachusetts Institute of Technology/research/graphConvolutions/code/pretrained/topoTest04/group 5/ss.pkl\"\n",
    "device = torch.device('cpu')\n",
    "\n",
    "model = FeaStNet()\n",
    "model.load_state_dict(torch.load(modelFile, map_location=torch.device('cpu')), strict=False)\n",
    "ss = pickle.load(open(ssFile, 'rb'))\n",
    "model.ss = ss"
   ]
  },
  {
   "cell_type": "markdown",
   "metadata": {},
   "source": [
    "## Test"
   ]
  },
  {
   "cell_type": "code",
   "execution_count": 5,
   "metadata": {},
   "outputs": [
    {
     "data": {
      "text/plain": [
       "{'mse': 0.00054238434,\n",
       " 'mae': 0.01622535,\n",
       " 'mre': 0.45092005,\n",
       " 'peakR2': -1.2545875645651723,\n",
       " 'maxAggR2': 0.0,\n",
       " 'meanAggR2': -0.8566776207820888,\n",
       " 'minAggR2': -4.49214991687573}"
      ]
     },
     "execution_count": 5,
     "metadata": {},
     "output_type": "execute_result"
    }
   ],
   "source": [
    "test(model, testGraphs5, testGraphs5, None, device, level='set')"
   ]
  },
  {
   "cell_type": "code",
   "execution_count": 6,
   "metadata": {},
   "outputs": [
    {
     "data": {
      "text/plain": [
       "{'mse': 0.0013117781,\n",
       " 'mae': 0.025654143,\n",
       " 'mre': 0.62785804,\n",
       " 'peakR2': -0.9833166649288982,\n",
       " 'maxAggR2': -0.006759195897889203,\n",
       " 'meanAggR2': -1.6393759037360467,\n",
       " 'minAggR2': -15.809740297446474}"
      ]
     },
     "execution_count": 6,
     "metadata": {},
     "output_type": "execute_result"
    }
   ],
   "source": [
    "test(model, testGraphs9, testGraphs9, None, device, level='set')"
   ]
  },
  {
   "cell_type": "code",
   "execution_count": 8,
   "metadata": {},
   "outputs": [
    {
     "data": {
      "text/plain": [
       "tensor([[  0.0000,   0.0000],\n",
       "        [  7.4374,  -9.2669],\n",
       "        [ 10.0000,   0.0000],\n",
       "        [ 14.3194, -18.9210],\n",
       "        [ 20.0000,   0.0000],\n",
       "        [ 25.0000, -15.5000],\n",
       "        [ 30.0000,   0.0000],\n",
       "        [ 35.6806, -18.9210],\n",
       "        [ 40.0000,   0.0000],\n",
       "        [ 42.5626,  -9.2669],\n",
       "        [ 50.0000,   0.0000]])"
      ]
     },
     "execution_count": 8,
     "metadata": {},
     "output_type": "execute_result"
    }
   ],
   "source": [
    "testGraphs5[0].pos"
   ]
  },
  {
   "cell_type": "code",
   "execution_count": 9,
   "metadata": {},
   "outputs": [
    {
     "data": {
      "text/plain": [
       "[array([[-0.01566283, -0.01286156],\n",
       "        [-0.01566295, -0.01286184],\n",
       "        [-0.0156631 , -0.0128622 ],\n",
       "        [-0.0156634 , -0.01286291],\n",
       "        [-0.01566377, -0.01286377],\n",
       "        [-0.01566422, -0.01286475],\n",
       "        [-0.01566468, -0.01286576],\n",
       "        [-0.0156651 , -0.01286665],\n",
       "        [-0.01566546, -0.01286738],\n",
       "        [-0.01566566, -0.01286775],\n",
       "        [-0.01566581, -0.01286806]], dtype=float32)]"
      ]
     },
     "execution_count": 9,
     "metadata": {},
     "output_type": "execute_result"
    }
   ],
   "source": [
    "predict(model, testGraphs5[:1], device) # prediction is very wrong"
   ]
  },
  {
   "cell_type": "code",
   "execution_count": 11,
   "metadata": {},
   "outputs": [
    {
     "data": {
      "text/plain": [
       "tensor([[ 0.2909, -0.0914],\n",
       "        [ 0.5292,  0.3297],\n",
       "        [ 0.3854,  0.3584],\n",
       "        [ 0.6335,  0.6335],\n",
       "        [ 0.5013,  0.4813],\n",
       "        [ 0.5505,  0.5485],\n",
       "        [ 0.5997,  0.4813],\n",
       "        [ 0.4675,  0.6335],\n",
       "        [ 0.7156,  0.3584],\n",
       "        [ 0.5718,  0.3297],\n",
       "        [ 0.8100, -0.0914]])"
      ]
     },
     "execution_count": 11,
     "metadata": {},
     "output_type": "execute_result"
    }
   ],
   "source": [
    "applySS(model.ss, testGraphs5[:1])[0].y # scaling is correct"
   ]
  },
  {
   "cell_type": "code",
   "execution_count": 13,
   "metadata": {},
   "outputs": [
    {
     "data": {
      "text/plain": [
       "tensor([[-0.0596,  0.0644],\n",
       "        [-0.0596,  0.0644],\n",
       "        [-0.0596,  0.0644],\n",
       "        [-0.0596,  0.0643],\n",
       "        [-0.0596,  0.0643],\n",
       "        [-0.0596,  0.0642],\n",
       "        [-0.0597,  0.0642],\n",
       "        [-0.0597,  0.0642],\n",
       "        [-0.0597,  0.0641],\n",
       "        [-0.0597,  0.0641],\n",
       "        [-0.0597,  0.0641]], grad_fn=<AddmmBackward>)"
      ]
     },
     "execution_count": 13,
     "metadata": {},
     "output_type": "execute_result"
    }
   ],
   "source": [
    "g = applySS(model.ss, testGraphs5[:1])[0]\n",
    "model(g) # very wrong"
   ]
  }
 ],
 "metadata": {
  "kernelspec": {
   "display_name": "ptgeom-cpu",
   "language": "python",
   "name": "ptgeom-cpu"
  },
  "language_info": {
   "codemirror_mode": {
    "name": "ipython",
    "version": 3
   },
   "file_extension": ".py",
   "mimetype": "text/x-python",
   "name": "python",
   "nbconvert_exporter": "python",
   "pygments_lexer": "ipython3",
   "version": "3.7.9"
  }
 },
 "nbformat": 4,
 "nbformat_minor": 4
}
