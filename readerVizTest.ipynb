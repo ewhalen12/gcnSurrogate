{
 "cells": [
  {
   "cell_type": "code",
   "execution_count": 1,
   "metadata": {},
   "outputs": [],
   "source": [
    "import sys\n",
    "import numpy as np\n",
    "import pandas as pd\n",
    "\n",
    "from gcnSurrogate.readers.loadConmechGraphs import loadConmechGraphs, _loadConmechGraph\n",
    "from gcnSurrogate.readers.loadGhGraphs import loadGhGraphs\n",
    "from gcnSurrogate.visualization.altTrussViz import plotTruss"
   ]
  },
  {
   "cell_type": "code",
   "execution_count": 19,
   "metadata": {},
   "outputs": [
    {
     "name": "stdout",
     "output_type": "stream",
     "text": [
      "reading files from data/2D_Truss_v1.3/conmech/design_7_N_1000/\n"
     ]
    },
    {
     "data": {
      "text/html": [
       "<div>\n",
       "<style scoped>\n",
       "    .dataframe tbody tr th:only-of-type {\n",
       "        vertical-align: middle;\n",
       "    }\n",
       "\n",
       "    .dataframe tbody tr th {\n",
       "        vertical-align: top;\n",
       "    }\n",
       "\n",
       "    .dataframe thead th {\n",
       "        text-align: right;\n",
       "    }\n",
       "</style>\n",
       "<table border=\"1\" class=\"dataframe\">\n",
       "  <thead>\n",
       "    <tr style=\"text-align: right;\">\n",
       "      <th></th>\n",
       "      <th>maxes</th>\n",
       "    </tr>\n",
       "  </thead>\n",
       "  <tbody>\n",
       "    <tr>\n",
       "      <th>count</th>\n",
       "      <td>1000.000000</td>\n",
       "    </tr>\n",
       "    <tr>\n",
       "      <th>mean</th>\n",
       "      <td>0.137562</td>\n",
       "    </tr>\n",
       "    <tr>\n",
       "      <th>std</th>\n",
       "      <td>1.740254</td>\n",
       "    </tr>\n",
       "    <tr>\n",
       "      <th>min</th>\n",
       "      <td>0.004530</td>\n",
       "    </tr>\n",
       "    <tr>\n",
       "      <th>25%</th>\n",
       "      <td>0.010635</td>\n",
       "    </tr>\n",
       "    <tr>\n",
       "      <th>50%</th>\n",
       "      <td>0.016778</td>\n",
       "    </tr>\n",
       "    <tr>\n",
       "      <th>75%</th>\n",
       "      <td>0.032392</td>\n",
       "    </tr>\n",
       "    <tr>\n",
       "      <th>max</th>\n",
       "      <td>46.419552</td>\n",
       "    </tr>\n",
       "  </tbody>\n",
       "</table>\n",
       "</div>"
      ],
      "text/plain": [
       "             maxes\n",
       "count  1000.000000\n",
       "mean      0.137562\n",
       "std       1.740254\n",
       "min       0.004530\n",
       "25%       0.010635\n",
       "50%       0.016778\n",
       "75%       0.032392\n",
       "max      46.419552"
      ]
     },
     "metadata": {},
     "output_type": "display_data"
    },
    {
     "name": "stdout",
     "output_type": "stream",
     "text": [
      "reading data/2D_Truss_v1.3/conmech/design_7_N_1000.csv\n"
     ]
    },
    {
     "data": {
      "text/html": [
       "<div>\n",
       "<style scoped>\n",
       "    .dataframe tbody tr th:only-of-type {\n",
       "        vertical-align: middle;\n",
       "    }\n",
       "\n",
       "    .dataframe tbody tr th {\n",
       "        vertical-align: top;\n",
       "    }\n",
       "\n",
       "    .dataframe thead th {\n",
       "        text-align: right;\n",
       "    }\n",
       "</style>\n",
       "<table border=\"1\" class=\"dataframe\">\n",
       "  <thead>\n",
       "    <tr style=\"text-align: right;\">\n",
       "      <th></th>\n",
       "      <th>maxes</th>\n",
       "    </tr>\n",
       "  </thead>\n",
       "  <tbody>\n",
       "    <tr>\n",
       "      <th>count</th>\n",
       "      <td>1000.000000</td>\n",
       "    </tr>\n",
       "    <tr>\n",
       "      <th>mean</th>\n",
       "      <td>0.137562</td>\n",
       "    </tr>\n",
       "    <tr>\n",
       "      <th>std</th>\n",
       "      <td>1.740254</td>\n",
       "    </tr>\n",
       "    <tr>\n",
       "      <th>min</th>\n",
       "      <td>0.004530</td>\n",
       "    </tr>\n",
       "    <tr>\n",
       "      <th>25%</th>\n",
       "      <td>0.010635</td>\n",
       "    </tr>\n",
       "    <tr>\n",
       "      <th>50%</th>\n",
       "      <td>0.016778</td>\n",
       "    </tr>\n",
       "    <tr>\n",
       "      <th>75%</th>\n",
       "      <td>0.032392</td>\n",
       "    </tr>\n",
       "    <tr>\n",
       "      <th>max</th>\n",
       "      <td>46.419552</td>\n",
       "    </tr>\n",
       "  </tbody>\n",
       "</table>\n",
       "</div>"
      ],
      "text/plain": [
       "             maxes\n",
       "count  1000.000000\n",
       "mean      0.137562\n",
       "std       1.740254\n",
       "min       0.004530\n",
       "25%       0.010635\n",
       "50%       0.016778\n",
       "75%       0.032392\n",
       "max      46.419552"
      ]
     },
     "metadata": {},
     "output_type": "display_data"
    }
   ],
   "source": [
    "# baseName = 'data/2D_Truss_v1.3/MATCHdesign_7_N_1000'\n",
    "baseName = 'data/2D_Truss_v1.3/conmech/design_7_N_1000'\n",
    "\n",
    "dataDir = baseName+'/'\n",
    "print(f'reading files from {dataDir}')\n",
    "conmechGraphs = loadConmechGraphs(dataDir)\n",
    "maxes = [max(np.abs(graph.y.numpy().flatten())) for graph in conmechGraphs]\n",
    "source = pd.DataFrame(maxes, columns=['maxes'])\n",
    "display(source.describe())\n",
    "\n",
    "dataFile = baseName+'.csv'\n",
    "print(f'reading {dataFile}')\n",
    "ghGraphs = loadGhGraphs(dataFile)\n",
    "maxes = [max(np.abs(graph.y.numpy().flatten())) for graph in ghGraphs]\n",
    "source = pd.DataFrame(maxes, columns=['maxes'])\n",
    "display(source.describe())"
   ]
  },
  {
   "cell_type": "code",
   "execution_count": 20,
   "metadata": {},
   "outputs": [],
   "source": [
    "# is the result discrepancy with old data due to geometry?\n",
    "# no, all disps are off by a constant factor\n",
    "ghGraphsOld = loadGhGraphs('data/2D_Truss_v1.3/gh/design_7_N_1000.csv')"
   ]
  },
  {
   "cell_type": "code",
   "execution_count": 21,
   "metadata": {},
   "outputs": [
    {
     "data": {
      "text/plain": [
       "tensor([[  0.0000,   0.0000],\n",
       "        [  6.2457,  -9.5559],\n",
       "        [  7.1429,   0.0000],\n",
       "        [ 10.9957, -20.0149],\n",
       "        [ 14.2857,   0.0000],\n",
       "        [ 17.8343, -13.1152],\n",
       "        [ 21.4286,   0.0000],\n",
       "        [ 25.0000,  -4.8333],\n",
       "        [ 28.5714,   0.0000],\n",
       "        [ 32.1656, -13.1152],\n",
       "        [ 35.7143,   0.0000],\n",
       "        [ 39.0043, -20.0149],\n",
       "        [ 42.8571,   0.0000],\n",
       "        [ 43.7543,  -9.5559],\n",
       "        [ 50.0000,   0.0000]])"
      ]
     },
     "execution_count": 21,
     "metadata": {},
     "output_type": "execute_result"
    }
   ],
   "source": [
    "ghGraphs[0].pos"
   ]
  },
  {
   "cell_type": "code",
   "execution_count": 22,
   "metadata": {},
   "outputs": [
    {
     "data": {
      "text/plain": [
       "tensor([[  0.0000,   0.0000],\n",
       "        [  6.2457,  -9.5559],\n",
       "        [  7.1429,   0.0000],\n",
       "        [ 10.9957, -20.0149],\n",
       "        [ 14.2857,   0.0000],\n",
       "        [ 17.8343, -13.1152],\n",
       "        [ 21.4286,   0.0000],\n",
       "        [ 25.0000,  -4.8333],\n",
       "        [ 28.5714,   0.0000],\n",
       "        [ 32.1656, -13.1152],\n",
       "        [ 35.7143,   0.0000],\n",
       "        [ 39.0043, -20.0149],\n",
       "        [ 42.8571,   0.0000],\n",
       "        [ 43.7543,  -9.5559],\n",
       "        [ 50.0000,   0.0000]])"
      ]
     },
     "execution_count": 22,
     "metadata": {},
     "output_type": "execute_result"
    }
   ],
   "source": [
    "ghGraphsOld[0].pos"
   ]
  },
  {
   "cell_type": "code",
   "execution_count": 23,
   "metadata": {},
   "outputs": [
    {
     "data": {
      "text/plain": [
       "tensor([[ 0.0054, -0.0024],\n",
       "        [ 0.0054, -0.0001],\n",
       "        [ 0.0060, -0.0007],\n",
       "        [ 0.0000,  0.0000],\n",
       "        [ 0.0068, -0.0054],\n",
       "        [ 0.0055, -0.0068],\n",
       "        [ 0.0071, -0.0089],\n",
       "        [ 0.0072, -0.0087],\n",
       "        [ 0.0074, -0.0089],\n",
       "        [ 0.0090, -0.0068],\n",
       "        [ 0.0077, -0.0054],\n",
       "        [ 0.0145,  0.0000],\n",
       "        [ 0.0084, -0.0007],\n",
       "        [ 0.0091, -0.0001],\n",
       "        [ 0.0091, -0.0024]])"
      ]
     },
     "execution_count": 23,
     "metadata": {},
     "output_type": "execute_result"
    }
   ],
   "source": [
    "ghGraphs[0].y"
   ]
  },
  {
   "cell_type": "code",
   "execution_count": 32,
   "metadata": {},
   "outputs": [
    {
     "data": {
      "text/plain": [
       "tensor([[1.4504, 1.4504],\n",
       "        [1.4504, 1.4504],\n",
       "        [1.4504, 1.4504],\n",
       "        [1.4504, 1.4504],\n",
       "        [   nan,    nan],\n",
       "        [1.4504, 1.4504],\n",
       "        [1.4504, 1.4504],\n",
       "        [1.4504, 1.4504],\n",
       "        [1.4504, 1.4504],\n",
       "        [1.4504, 1.4504],\n",
       "        [1.4504,    nan],\n",
       "        [1.4504, 1.4504],\n",
       "        [1.4504, 1.4504],\n",
       "        [1.4504, 1.4504],\n",
       "        [1.4504, 1.4504]])"
      ]
     },
     "execution_count": 32,
     "metadata": {},
     "output_type": "execute_result"
    }
   ],
   "source": [
    "i = 3\n",
    "ghGraphsOld[i].y/ghGraphs[i].y"
   ]
  },
  {
   "cell_type": "code",
   "execution_count": 25,
   "metadata": {},
   "outputs": [
    {
     "data": {
      "text/plain": [
       "tensor([[ 0.0000,  0.0000, -2.5000],\n",
       "        [ 0.0000,  0.0000, -2.5000],\n",
       "        [ 0.0000,  0.0000, -2.5000],\n",
       "        [ 0.0000,  0.0000, -2.5000],\n",
       "        [ 0.0000,  0.0000, -2.5000],\n",
       "        [ 0.0000,  0.0000, -2.5000],\n",
       "        [ 0.0000,  0.0000, -2.5000],\n",
       "        [ 0.0000,  0.0000, -2.5000],\n",
       "        [ 0.0000,  0.0000,  0.0000],\n",
       "        [ 1.0000,  1.0000,  0.0000],\n",
       "        [ 0.0000,  0.0000,  0.0000],\n",
       "        [ 0.0000,  0.0000,  0.0000],\n",
       "        [ 0.0000,  0.0000,  0.0000],\n",
       "        [ 0.0000,  1.0000,  0.0000],\n",
       "        [ 0.0000,  0.0000,  0.0000]], dtype=torch.float64)"
      ]
     },
     "execution_count": 25,
     "metadata": {},
     "output_type": "execute_result"
    }
   ],
   "source": [
    "conmechGraphs[0].x"
   ]
  },
  {
   "cell_type": "code",
   "execution_count": 26,
   "metadata": {},
   "outputs": [
    {
     "data": {
      "text/plain": [
       "tensor([[0., 0., 1.],\n",
       "        [0., 0., 1.],\n",
       "        [0., 0., 1.],\n",
       "        [0., 0., 1.],\n",
       "        [0., 0., 1.],\n",
       "        [0., 0., 1.],\n",
       "        [0., 0., 1.],\n",
       "        [0., 0., 1.],\n",
       "        [0., 0., 0.],\n",
       "        [1., 1., 0.],\n",
       "        [0., 0., 0.],\n",
       "        [0., 0., 0.],\n",
       "        [0., 0., 0.],\n",
       "        [0., 1., 0.],\n",
       "        [0., 0., 0.]], dtype=torch.float64)"
      ]
     },
     "execution_count": 26,
     "metadata": {},
     "output_type": "execute_result"
    }
   ],
   "source": [
    "(conmechGraphs[0].x!=0).double()"
   ]
  }
 ],
 "metadata": {
  "kernelspec": {
   "display_name": "ptgeom",
   "language": "python",
   "name": "ptgeom"
  },
  "language_info": {
   "codemirror_mode": {
    "name": "ipython",
    "version": 3
   },
   "file_extension": ".py",
   "mimetype": "text/x-python",
   "name": "python",
   "nbconvert_exporter": "python",
   "pygments_lexer": "ipython3",
   "version": "3.7.7"
  }
 },
 "nbformat": 4,
 "nbformat_minor": 2
}
