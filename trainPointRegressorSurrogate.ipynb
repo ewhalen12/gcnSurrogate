{
 "cells": [
  {
   "cell_type": "markdown",
   "metadata": {},
   "source": [
    "# Point Regressor Surrogate Models\n",
    "Eamon Whalen"
   ]
  },
  {
   "cell_type": "code",
   "execution_count": 1,
   "metadata": {},
   "outputs": [],
   "source": [
    "import sys\n",
    "import numpy as np\n",
    "import pandas as pd\n",
    "import altair as alt\n",
    "\n",
    "sys.path.append('./models')\n",
    "from pointRegressorSurrogateModel import PointRegressor\n",
    "\n",
    "sys.path.append('./readers')\n",
    "from loadGhGraphs import loadGhGraphs\n",
    "\n",
    "sys.path.append('./visualization')\n",
    "from altTrussViz import plotTruss, interactiveErrorPlot\n",
    "\n",
    "sys.path.append('./util')\n",
    "from gcnSurrogateUtil import *"
   ]
  },
  {
   "cell_type": "markdown",
   "metadata": {},
   "source": [
    "## 1. Load simulation data"
   ]
  },
  {
   "cell_type": "code",
   "execution_count": 2,
   "metadata": {},
   "outputs": [
    {
     "data": {
      "text/html": [
       "<div>\n",
       "<style scoped>\n",
       "    .dataframe tbody tr th:only-of-type {\n",
       "        vertical-align: middle;\n",
       "    }\n",
       "\n",
       "    .dataframe tbody tr th {\n",
       "        vertical-align: top;\n",
       "    }\n",
       "\n",
       "    .dataframe thead th {\n",
       "        text-align: right;\n",
       "    }\n",
       "</style>\n",
       "<table border=\"1\" class=\"dataframe\">\n",
       "  <thead>\n",
       "    <tr style=\"text-align: right;\">\n",
       "      <th></th>\n",
       "      <th>maxes</th>\n",
       "    </tr>\n",
       "  </thead>\n",
       "  <tbody>\n",
       "    <tr>\n",
       "      <th>count</th>\n",
       "      <td>1000.000000</td>\n",
       "    </tr>\n",
       "    <tr>\n",
       "      <th>mean</th>\n",
       "      <td>0.199516</td>\n",
       "    </tr>\n",
       "    <tr>\n",
       "      <th>std</th>\n",
       "      <td>2.524026</td>\n",
       "    </tr>\n",
       "    <tr>\n",
       "      <th>min</th>\n",
       "      <td>0.006570</td>\n",
       "    </tr>\n",
       "    <tr>\n",
       "      <th>25%</th>\n",
       "      <td>0.015425</td>\n",
       "    </tr>\n",
       "    <tr>\n",
       "      <th>50%</th>\n",
       "      <td>0.024334</td>\n",
       "    </tr>\n",
       "    <tr>\n",
       "      <th>75%</th>\n",
       "      <td>0.046981</td>\n",
       "    </tr>\n",
       "    <tr>\n",
       "      <th>max</th>\n",
       "      <td>67.325867</td>\n",
       "    </tr>\n",
       "  </tbody>\n",
       "</table>\n",
       "</div>"
      ],
      "text/plain": [
       "             maxes\n",
       "count  1000.000000\n",
       "mean      0.199516\n",
       "std       2.524026\n",
       "min       0.006570\n",
       "25%       0.015425\n",
       "50%       0.024334\n",
       "75%       0.046981\n",
       "max      67.325867"
      ]
     },
     "execution_count": 2,
     "metadata": {},
     "output_type": "execute_result"
    }
   ],
   "source": [
    "doeFile = \"/home/ewhalen/projects/data/trusses/2D_Truss_v1.3/design_7_N_1000.csv\"\n",
    "allGraphsUnfiltered = loadGhGraphs(doeFile, NUM_DV=5)\n",
    "\n",
    "maxes = [max(np.abs(graph.y.numpy().flatten())) for graph in allGraphsUnfiltered]\n",
    "source = pd.DataFrame(maxes, columns=['maxes'])\n",
    "source.describe()"
   ]
  },
  {
   "cell_type": "code",
   "execution_count": 3,
   "metadata": {},
   "outputs": [
    {
     "data": {
      "text/html": [
       "\n",
       "<div id=\"altair-viz-77dda7722b6e45fdaa7226faca679937\"></div>\n",
       "<script type=\"text/javascript\">\n",
       "  (function(spec, embedOpt){\n",
       "    let outputDiv = document.currentScript.previousElementSibling;\n",
       "    if (outputDiv.id !== \"altair-viz-77dda7722b6e45fdaa7226faca679937\") {\n",
       "      outputDiv = document.getElementById(\"altair-viz-77dda7722b6e45fdaa7226faca679937\");\n",
       "    }\n",
       "    const paths = {\n",
       "      \"vega\": \"https://cdn.jsdelivr.net/npm//vega@5?noext\",\n",
       "      \"vega-lib\": \"https://cdn.jsdelivr.net/npm//vega-lib?noext\",\n",
       "      \"vega-lite\": \"https://cdn.jsdelivr.net/npm//vega-lite@4.8.1?noext\",\n",
       "      \"vega-embed\": \"https://cdn.jsdelivr.net/npm//vega-embed@6?noext\",\n",
       "    };\n",
       "\n",
       "    function loadScript(lib) {\n",
       "      return new Promise(function(resolve, reject) {\n",
       "        var s = document.createElement('script');\n",
       "        s.src = paths[lib];\n",
       "        s.async = true;\n",
       "        s.onload = () => resolve(paths[lib]);\n",
       "        s.onerror = () => reject(`Error loading script: ${paths[lib]}`);\n",
       "        document.getElementsByTagName(\"head\")[0].appendChild(s);\n",
       "      });\n",
       "    }\n",
       "\n",
       "    function showError(err) {\n",
       "      outputDiv.innerHTML = `<div class=\"error\" style=\"color:red;\">${err}</div>`;\n",
       "      throw err;\n",
       "    }\n",
       "\n",
       "    function displayChart(vegaEmbed) {\n",
       "      vegaEmbed(outputDiv, spec, embedOpt)\n",
       "        .catch(err => showError(`Javascript Error: ${err.message}<br>This usually means there's a typo in your chart specification. See the javascript console for the full traceback.`));\n",
       "    }\n",
       "\n",
       "    if(typeof define === \"function\" && define.amd) {\n",
       "      requirejs.config({paths});\n",
       "      require([\"vega-embed\"], displayChart, err => showError(`Error loading script: ${err.message}`));\n",
       "    } else if (typeof vegaEmbed === \"function\") {\n",
       "      displayChart(vegaEmbed);\n",
       "    } else {\n",
       "      loadScript(\"vega\")\n",
       "        .then(() => loadScript(\"vega-lite\"))\n",
       "        .then(() => loadScript(\"vega-embed\"))\n",
       "        .catch(showError)\n",
       "        .then(() => displayChart(vegaEmbed));\n",
       "    }\n",
       "  })({\"config\": {\"view\": {\"continuousWidth\": 400, \"continuousHeight\": 300, \"strokeOpacity\": 0}}, \"layer\": [{\"data\": {\"name\": \"data-c54843a9bf5c15962e09005606697f04\"}, \"mark\": \"circle\", \"encoding\": {\"color\": {\"value\": \"#C7D5E5\"}, \"opacity\": {\"value\": 0}, \"size\": {\"value\": 1}, \"x\": {\"type\": \"quantitative\", \"axis\": null, \"field\": \"x\", \"scale\": {\"domain\": [-5.000001907348633, 54.99999809265137]}}, \"y\": {\"type\": \"quantitative\", \"axis\": null, \"field\": \"y\", \"scale\": {\"domain\": [-21.01368474960327, 8.986315250396729]}}}}, {\"data\": {\"name\": \"data-4905735001ccef9b15d6b8ab6931b67b\"}, \"mark\": \"line\", \"encoding\": {\"color\": {\"value\": \"#C7D5E5\"}, \"opacity\": {\"value\": 1.0}, \"size\": {\"value\": 2.0}, \"x\": {\"type\": \"quantitative\", \"field\": \"x\"}, \"y\": {\"type\": \"quantitative\", \"field\": \"y\"}}}, {\"data\": {\"name\": \"data-8b400ba0fcfc55a17aa8de6e589b5acd\"}, \"mark\": \"line\", \"encoding\": {\"color\": {\"value\": \"#C7D5E5\"}, \"opacity\": {\"value\": 1.0}, \"size\": {\"value\": 2.0}, \"x\": {\"type\": \"quantitative\", \"field\": \"x\"}, \"y\": {\"type\": \"quantitative\", \"field\": \"y\"}}}, {\"data\": {\"name\": \"data-527886cc55d8a82c08429b02e0349b6d\"}, \"mark\": \"line\", \"encoding\": {\"color\": {\"value\": \"#C7D5E5\"}, \"opacity\": {\"value\": 1.0}, \"size\": {\"value\": 2.0}, \"x\": {\"type\": \"quantitative\", \"field\": \"x\"}, \"y\": {\"type\": \"quantitative\", \"field\": \"y\"}}}, {\"data\": {\"name\": \"data-796a6588aeccfd64e0a95eb04d176a26\"}, \"mark\": \"line\", \"encoding\": {\"color\": {\"value\": \"#C7D5E5\"}, \"opacity\": {\"value\": 1.0}, \"size\": {\"value\": 2.0}, \"x\": {\"type\": \"quantitative\", \"field\": \"x\"}, \"y\": {\"type\": \"quantitative\", \"field\": \"y\"}}}, {\"data\": {\"name\": \"data-1de376352550a0627b0ceea2fce4f25c\"}, \"mark\": \"line\", \"encoding\": {\"color\": {\"value\": \"#C7D5E5\"}, \"opacity\": {\"value\": 1.0}, \"size\": {\"value\": 2.0}, \"x\": {\"type\": \"quantitative\", \"field\": \"x\"}, \"y\": {\"type\": \"quantitative\", \"field\": \"y\"}}}, {\"data\": {\"name\": \"data-515fc9bb58f1cae1e00fa8a1dc201630\"}, \"mark\": \"line\", \"encoding\": {\"color\": {\"value\": \"#C7D5E5\"}, \"opacity\": {\"value\": 1.0}, \"size\": {\"value\": 2.0}, \"x\": {\"type\": \"quantitative\", \"field\": \"x\"}, \"y\": {\"type\": \"quantitative\", \"field\": \"y\"}}}, {\"data\": {\"name\": \"data-a138bbd12d8c2a2150beab748eb8c1c5\"}, \"mark\": \"line\", \"encoding\": {\"color\": {\"value\": \"#C7D5E5\"}, \"opacity\": {\"value\": 1.0}, \"size\": {\"value\": 2.0}, \"x\": {\"type\": \"quantitative\", \"field\": \"x\"}, \"y\": {\"type\": \"quantitative\", \"field\": \"y\"}}}, {\"data\": {\"name\": \"data-05f02cf1ff9c1f020eaa5ad29cda3223\"}, \"mark\": \"line\", \"encoding\": {\"color\": {\"value\": \"#C7D5E5\"}, \"opacity\": {\"value\": 1.0}, \"size\": {\"value\": 2.0}, \"x\": {\"type\": \"quantitative\", \"field\": \"x\"}, \"y\": {\"type\": \"quantitative\", \"field\": \"y\"}}}, {\"data\": {\"name\": \"data-40d29d3e692952458d9a1c6a761bcf45\"}, \"mark\": \"line\", \"encoding\": {\"color\": {\"value\": \"#C7D5E5\"}, \"opacity\": {\"value\": 1.0}, \"size\": {\"value\": 2.0}, \"x\": {\"type\": \"quantitative\", \"field\": \"x\"}, \"y\": {\"type\": \"quantitative\", \"field\": \"y\"}}}, {\"data\": {\"name\": \"data-83a9a9a49c44b98d2247d6926da36461\"}, \"mark\": \"line\", \"encoding\": {\"color\": {\"value\": \"#C7D5E5\"}, \"opacity\": {\"value\": 1.0}, \"size\": {\"value\": 2.0}, \"x\": {\"type\": \"quantitative\", \"field\": \"x\"}, \"y\": {\"type\": \"quantitative\", \"field\": \"y\"}}}, {\"data\": {\"name\": \"data-7a00bc7907b5f43b0ba3b4164145bd92\"}, \"mark\": \"line\", \"encoding\": {\"color\": {\"value\": \"#C7D5E5\"}, \"opacity\": {\"value\": 1.0}, \"size\": {\"value\": 2.0}, \"x\": {\"type\": \"quantitative\", \"field\": \"x\"}, \"y\": {\"type\": \"quantitative\", \"field\": \"y\"}}}, {\"data\": {\"name\": \"data-22a7c53b39b322df4e19ec1eb5c41f0c\"}, \"mark\": \"line\", \"encoding\": {\"color\": {\"value\": \"#C7D5E5\"}, \"opacity\": {\"value\": 1.0}, \"size\": {\"value\": 2.0}, \"x\": {\"type\": \"quantitative\", \"field\": \"x\"}, \"y\": {\"type\": \"quantitative\", \"field\": \"y\"}}}, {\"data\": {\"name\": \"data-a5f54abaf950aceb10af33ac0aae8af7\"}, \"mark\": \"line\", \"encoding\": {\"color\": {\"value\": \"#C7D5E5\"}, \"opacity\": {\"value\": 1.0}, \"size\": {\"value\": 2.0}, \"x\": {\"type\": \"quantitative\", \"field\": \"x\"}, \"y\": {\"type\": \"quantitative\", \"field\": \"y\"}}}, {\"data\": {\"name\": \"data-a3bbe2f942d9a018fe94dbf3bf17c361\"}, \"mark\": \"line\", \"encoding\": {\"color\": {\"value\": \"#C7D5E5\"}, \"opacity\": {\"value\": 1.0}, \"size\": {\"value\": 2.0}, \"x\": {\"type\": \"quantitative\", \"field\": \"x\"}, \"y\": {\"type\": \"quantitative\", \"field\": \"y\"}}}, {\"data\": {\"name\": \"data-bf2e7c29cf9b848a7b6a7c0718ca4bfa\"}, \"mark\": \"line\", \"encoding\": {\"color\": {\"value\": \"#C7D5E5\"}, \"opacity\": {\"value\": 1.0}, \"size\": {\"value\": 2.0}, \"x\": {\"type\": \"quantitative\", \"field\": \"x\"}, \"y\": {\"type\": \"quantitative\", \"field\": \"y\"}}}, {\"data\": {\"name\": \"data-f50d695f135da468e6bcdb4177ef38e2\"}, \"mark\": \"line\", \"encoding\": {\"color\": {\"value\": \"#C7D5E5\"}, \"opacity\": {\"value\": 1.0}, \"size\": {\"value\": 2.0}, \"x\": {\"type\": \"quantitative\", \"field\": \"x\"}, \"y\": {\"type\": \"quantitative\", \"field\": \"y\"}}}, {\"data\": {\"name\": \"data-58787370d19e48d194f5f640dbcebe12\"}, \"mark\": \"line\", \"encoding\": {\"color\": {\"value\": \"#C7D5E5\"}, \"opacity\": {\"value\": 1.0}, \"size\": {\"value\": 2.0}, \"x\": {\"type\": \"quantitative\", \"field\": \"x\"}, \"y\": {\"type\": \"quantitative\", \"field\": \"y\"}}}, {\"data\": {\"name\": \"data-5725cc0e55d8831c744fb012b6a10822\"}, \"mark\": \"line\", \"encoding\": {\"color\": {\"value\": \"#C7D5E5\"}, \"opacity\": {\"value\": 1.0}, \"size\": {\"value\": 2.0}, \"x\": {\"type\": \"quantitative\", \"field\": \"x\"}, \"y\": {\"type\": \"quantitative\", \"field\": \"y\"}}}, {\"data\": {\"name\": \"data-a5006c1171c47fba0be391a07f1f3fd4\"}, \"mark\": \"line\", \"encoding\": {\"color\": {\"value\": \"#C7D5E5\"}, \"opacity\": {\"value\": 1.0}, \"size\": {\"value\": 2.0}, \"x\": {\"type\": \"quantitative\", \"field\": \"x\"}, \"y\": {\"type\": \"quantitative\", \"field\": \"y\"}}}, {\"data\": {\"name\": \"data-a9a107e75e330d6dd18d2932a3c34ad6\"}, \"mark\": \"line\", \"encoding\": {\"color\": {\"value\": \"#C7D5E5\"}, \"opacity\": {\"value\": 1.0}, \"size\": {\"value\": 2.0}, \"x\": {\"type\": \"quantitative\", \"field\": \"x\"}, \"y\": {\"type\": \"quantitative\", \"field\": \"y\"}}}, {\"data\": {\"name\": \"data-1e7fcf51c2ebba8e57fd5dab5e156108\"}, \"mark\": \"line\", \"encoding\": {\"color\": {\"value\": \"#C7D5E5\"}, \"opacity\": {\"value\": 1.0}, \"size\": {\"value\": 2.0}, \"x\": {\"type\": \"quantitative\", \"field\": \"x\"}, \"y\": {\"type\": \"quantitative\", \"field\": \"y\"}}}, {\"data\": {\"name\": \"data-5a6d941763adbe3f8b5f23ae62e0472d\"}, \"mark\": \"line\", \"encoding\": {\"color\": {\"value\": \"#C7D5E5\"}, \"opacity\": {\"value\": 1.0}, \"size\": {\"value\": 2.0}, \"x\": {\"type\": \"quantitative\", \"field\": \"x\"}, \"y\": {\"type\": \"quantitative\", \"field\": \"y\"}}}, {\"data\": {\"name\": \"data-4fa8ed58fdadf570dccc64e262b0b800\"}, \"mark\": \"line\", \"encoding\": {\"color\": {\"value\": \"#C7D5E5\"}, \"opacity\": {\"value\": 1.0}, \"size\": {\"value\": 2.0}, \"x\": {\"type\": \"quantitative\", \"field\": \"x\"}, \"y\": {\"type\": \"quantitative\", \"field\": \"y\"}}}, {\"data\": {\"name\": \"data-d721b0a525ad725f3a7df69db3fbbc7d\"}, \"mark\": \"line\", \"encoding\": {\"color\": {\"value\": \"#C7D5E5\"}, \"opacity\": {\"value\": 1.0}, \"size\": {\"value\": 2.0}, \"x\": {\"type\": \"quantitative\", \"field\": \"x\"}, \"y\": {\"type\": \"quantitative\", \"field\": \"y\"}}}, {\"data\": {\"name\": \"data-c18cb48d67b0f2e3c33a91f8f069c9bd\"}, \"mark\": \"line\", \"encoding\": {\"color\": {\"value\": \"#C7D5E5\"}, \"opacity\": {\"value\": 1.0}, \"size\": {\"value\": 2.0}, \"x\": {\"type\": \"quantitative\", \"field\": \"x\"}, \"y\": {\"type\": \"quantitative\", \"field\": \"y\"}}}, {\"data\": {\"name\": \"data-b4b5e6cc1eb26d5f4d69e0d3cb22d6c0\"}, \"mark\": \"line\", \"encoding\": {\"color\": {\"value\": \"#C7D5E5\"}, \"opacity\": {\"value\": 1.0}, \"size\": {\"value\": 2.0}, \"x\": {\"type\": \"quantitative\", \"field\": \"x\"}, \"y\": {\"type\": \"quantitative\", \"field\": \"y\"}}}, {\"data\": {\"name\": \"data-171ca0c60e62f6b0e2a36f7a24d16954\"}, \"mark\": \"line\", \"encoding\": {\"color\": {\"value\": \"#C7D5E5\"}, \"opacity\": {\"value\": 1.0}, \"size\": {\"value\": 2.0}, \"x\": {\"type\": \"quantitative\", \"field\": \"x\"}, \"y\": {\"type\": \"quantitative\", \"field\": \"y\"}}}, {\"data\": {\"name\": \"data-6d2d28668b8a4494139f506fa5c40523\"}, \"mark\": \"circle\", \"encoding\": {\"color\": {\"value\": \"#4C78A8\"}, \"opacity\": {\"value\": 0}, \"size\": {\"value\": 1}, \"x\": {\"type\": \"quantitative\", \"axis\": null, \"field\": \"x\", \"scale\": {\"domain\": [-5.000001907348633, 54.99999809265137]}}, \"y\": {\"type\": \"quantitative\", \"axis\": null, \"field\": \"y\", \"scale\": {\"domain\": [-21.01368474960327, 8.986315250396729]}}}}, {\"data\": {\"name\": \"data-29e41fefc75e00627bdc46d2d8466216\"}, \"mark\": \"line\", \"encoding\": {\"color\": {\"value\": \"#4C78A8\"}, \"opacity\": {\"value\": 1.0}, \"size\": {\"value\": 2.0}, \"x\": {\"type\": \"quantitative\", \"field\": \"x\"}, \"y\": {\"type\": \"quantitative\", \"field\": \"y\"}}}, {\"data\": {\"name\": \"data-bcb91b1ab36a88dba782898cb1f82c18\"}, \"mark\": \"line\", \"encoding\": {\"color\": {\"value\": \"#4C78A8\"}, \"opacity\": {\"value\": 1.0}, \"size\": {\"value\": 2.0}, \"x\": {\"type\": \"quantitative\", \"field\": \"x\"}, \"y\": {\"type\": \"quantitative\", \"field\": \"y\"}}}, {\"data\": {\"name\": \"data-b1cd977fcd9dc142d14880e65268f733\"}, \"mark\": \"line\", \"encoding\": {\"color\": {\"value\": \"#4C78A8\"}, \"opacity\": {\"value\": 1.0}, \"size\": {\"value\": 2.0}, \"x\": {\"type\": \"quantitative\", \"field\": \"x\"}, \"y\": {\"type\": \"quantitative\", \"field\": \"y\"}}}, {\"data\": {\"name\": \"data-5868a337c06c145ab34e668ee8508219\"}, \"mark\": \"line\", \"encoding\": {\"color\": {\"value\": \"#4C78A8\"}, \"opacity\": {\"value\": 1.0}, \"size\": {\"value\": 2.0}, \"x\": {\"type\": \"quantitative\", \"field\": \"x\"}, \"y\": {\"type\": \"quantitative\", \"field\": \"y\"}}}, {\"data\": {\"name\": \"data-cb7b1935e895a3efc90678306195b374\"}, \"mark\": \"line\", \"encoding\": {\"color\": {\"value\": \"#4C78A8\"}, \"opacity\": {\"value\": 1.0}, \"size\": {\"value\": 2.0}, \"x\": {\"type\": \"quantitative\", \"field\": \"x\"}, \"y\": {\"type\": \"quantitative\", \"field\": \"y\"}}}, {\"data\": {\"name\": \"data-87a86415fa990314b8a08eabc0576a97\"}, \"mark\": \"line\", \"encoding\": {\"color\": {\"value\": \"#4C78A8\"}, \"opacity\": {\"value\": 1.0}, \"size\": {\"value\": 2.0}, \"x\": {\"type\": \"quantitative\", \"field\": \"x\"}, \"y\": {\"type\": \"quantitative\", \"field\": \"y\"}}}, {\"data\": {\"name\": \"data-2702efe224c69a44e416ee938715a06e\"}, \"mark\": \"line\", \"encoding\": {\"color\": {\"value\": \"#4C78A8\"}, \"opacity\": {\"value\": 1.0}, \"size\": {\"value\": 2.0}, \"x\": {\"type\": \"quantitative\", \"field\": \"x\"}, \"y\": {\"type\": \"quantitative\", \"field\": \"y\"}}}, {\"data\": {\"name\": \"data-f073a579a7aefb6a378ad17260623fac\"}, \"mark\": \"line\", \"encoding\": {\"color\": {\"value\": \"#4C78A8\"}, \"opacity\": {\"value\": 1.0}, \"size\": {\"value\": 2.0}, \"x\": {\"type\": \"quantitative\", \"field\": \"x\"}, \"y\": {\"type\": \"quantitative\", \"field\": \"y\"}}}, {\"data\": {\"name\": \"data-2c63532d7120c1e3b220a3b5fd8f4f74\"}, \"mark\": \"line\", \"encoding\": {\"color\": {\"value\": \"#4C78A8\"}, \"opacity\": {\"value\": 1.0}, \"size\": {\"value\": 2.0}, \"x\": {\"type\": \"quantitative\", \"field\": \"x\"}, \"y\": {\"type\": \"quantitative\", \"field\": \"y\"}}}, {\"data\": {\"name\": \"data-038ad2f4ab0f7aa9f697802e02c41f14\"}, \"mark\": \"line\", \"encoding\": {\"color\": {\"value\": \"#4C78A8\"}, \"opacity\": {\"value\": 1.0}, \"size\": {\"value\": 2.0}, \"x\": {\"type\": \"quantitative\", \"field\": \"x\"}, \"y\": {\"type\": \"quantitative\", \"field\": \"y\"}}}, {\"data\": {\"name\": \"data-15b8a895e079be6b19193e1729611ab3\"}, \"mark\": \"line\", \"encoding\": {\"color\": {\"value\": \"#4C78A8\"}, \"opacity\": {\"value\": 1.0}, \"size\": {\"value\": 2.0}, \"x\": {\"type\": \"quantitative\", \"field\": \"x\"}, \"y\": {\"type\": \"quantitative\", \"field\": \"y\"}}}, {\"data\": {\"name\": \"data-55d24137588c27fadb375e86f6adeeb5\"}, \"mark\": \"line\", \"encoding\": {\"color\": {\"value\": \"#4C78A8\"}, \"opacity\": {\"value\": 1.0}, \"size\": {\"value\": 2.0}, \"x\": {\"type\": \"quantitative\", \"field\": \"x\"}, \"y\": {\"type\": \"quantitative\", \"field\": \"y\"}}}, {\"data\": {\"name\": \"data-7e86d57d09123b28158ee605158fc3e7\"}, \"mark\": \"line\", \"encoding\": {\"color\": {\"value\": \"#4C78A8\"}, \"opacity\": {\"value\": 1.0}, \"size\": {\"value\": 2.0}, \"x\": {\"type\": \"quantitative\", \"field\": \"x\"}, \"y\": {\"type\": \"quantitative\", \"field\": \"y\"}}}, {\"data\": {\"name\": \"data-ab508ec1e5cd7f2431bbaa4cd6a90735\"}, \"mark\": \"line\", \"encoding\": {\"color\": {\"value\": \"#4C78A8\"}, \"opacity\": {\"value\": 1.0}, \"size\": {\"value\": 2.0}, \"x\": {\"type\": \"quantitative\", \"field\": \"x\"}, \"y\": {\"type\": \"quantitative\", \"field\": \"y\"}}}, {\"data\": {\"name\": \"data-0f95b17bb746c5356dbb0e6e8cd9482f\"}, \"mark\": \"line\", \"encoding\": {\"color\": {\"value\": \"#4C78A8\"}, \"opacity\": {\"value\": 1.0}, \"size\": {\"value\": 2.0}, \"x\": {\"type\": \"quantitative\", \"field\": \"x\"}, \"y\": {\"type\": \"quantitative\", \"field\": \"y\"}}}, {\"data\": {\"name\": \"data-62e284a919e53571f16340dfef957665\"}, \"mark\": \"line\", \"encoding\": {\"color\": {\"value\": \"#4C78A8\"}, \"opacity\": {\"value\": 1.0}, \"size\": {\"value\": 2.0}, \"x\": {\"type\": \"quantitative\", \"field\": \"x\"}, \"y\": {\"type\": \"quantitative\", \"field\": \"y\"}}}, {\"data\": {\"name\": \"data-7b657b48fcbce09aa2e051d53d81ffd3\"}, \"mark\": \"line\", \"encoding\": {\"color\": {\"value\": \"#4C78A8\"}, \"opacity\": {\"value\": 1.0}, \"size\": {\"value\": 2.0}, \"x\": {\"type\": \"quantitative\", \"field\": \"x\"}, \"y\": {\"type\": \"quantitative\", \"field\": \"y\"}}}, {\"data\": {\"name\": \"data-255122040398329f23e49cc02047e7c6\"}, \"mark\": \"line\", \"encoding\": {\"color\": {\"value\": \"#4C78A8\"}, \"opacity\": {\"value\": 1.0}, \"size\": {\"value\": 2.0}, \"x\": {\"type\": \"quantitative\", \"field\": \"x\"}, \"y\": {\"type\": \"quantitative\", \"field\": \"y\"}}}, {\"data\": {\"name\": \"data-8a05fb6e4f532e8081198f3ba3594bf5\"}, \"mark\": \"line\", \"encoding\": {\"color\": {\"value\": \"#4C78A8\"}, \"opacity\": {\"value\": 1.0}, \"size\": {\"value\": 2.0}, \"x\": {\"type\": \"quantitative\", \"field\": \"x\"}, \"y\": {\"type\": \"quantitative\", \"field\": \"y\"}}}, {\"data\": {\"name\": \"data-c2a4d70f4eae5dc20b3b327b41719396\"}, \"mark\": \"line\", \"encoding\": {\"color\": {\"value\": \"#4C78A8\"}, \"opacity\": {\"value\": 1.0}, \"size\": {\"value\": 2.0}, \"x\": {\"type\": \"quantitative\", \"field\": \"x\"}, \"y\": {\"type\": \"quantitative\", \"field\": \"y\"}}}, {\"data\": {\"name\": \"data-516bb1056e9975bbeaabcf3ec6e225e6\"}, \"mark\": \"line\", \"encoding\": {\"color\": {\"value\": \"#4C78A8\"}, \"opacity\": {\"value\": 1.0}, \"size\": {\"value\": 2.0}, \"x\": {\"type\": \"quantitative\", \"field\": \"x\"}, \"y\": {\"type\": \"quantitative\", \"field\": \"y\"}}}, {\"data\": {\"name\": \"data-248619215168e7b299c35a2b6d05924a\"}, \"mark\": \"line\", \"encoding\": {\"color\": {\"value\": \"#4C78A8\"}, \"opacity\": {\"value\": 1.0}, \"size\": {\"value\": 2.0}, \"x\": {\"type\": \"quantitative\", \"field\": \"x\"}, \"y\": {\"type\": \"quantitative\", \"field\": \"y\"}}}, {\"data\": {\"name\": \"data-5796cfb72d8930ea8b50868e74b7f0d1\"}, \"mark\": \"line\", \"encoding\": {\"color\": {\"value\": \"#4C78A8\"}, \"opacity\": {\"value\": 1.0}, \"size\": {\"value\": 2.0}, \"x\": {\"type\": \"quantitative\", \"field\": \"x\"}, \"y\": {\"type\": \"quantitative\", \"field\": \"y\"}}}, {\"data\": {\"name\": \"data-ef502464f371b13dbd709a2e524133db\"}, \"mark\": \"line\", \"encoding\": {\"color\": {\"value\": \"#4C78A8\"}, \"opacity\": {\"value\": 1.0}, \"size\": {\"value\": 2.0}, \"x\": {\"type\": \"quantitative\", \"field\": \"x\"}, \"y\": {\"type\": \"quantitative\", \"field\": \"y\"}}}, {\"data\": {\"name\": \"data-9aa5c930a5bb0a0af459d4e7705582d5\"}, \"mark\": \"line\", \"encoding\": {\"color\": {\"value\": \"#4C78A8\"}, \"opacity\": {\"value\": 1.0}, \"size\": {\"value\": 2.0}, \"x\": {\"type\": \"quantitative\", \"field\": \"x\"}, \"y\": {\"type\": \"quantitative\", \"field\": \"y\"}}}, {\"data\": {\"name\": \"data-9de1b685cddd9243f3488503ae45dd94\"}, \"mark\": \"line\", \"encoding\": {\"color\": {\"value\": \"#4C78A8\"}, \"opacity\": {\"value\": 1.0}, \"size\": {\"value\": 2.0}, \"x\": {\"type\": \"quantitative\", \"field\": \"x\"}, \"y\": {\"type\": \"quantitative\", \"field\": \"y\"}}}, {\"data\": {\"name\": \"data-2448aab21cc3137f9da6c41ac2a7a348\"}, \"mark\": \"line\", \"encoding\": {\"color\": {\"value\": \"#4C78A8\"}, \"opacity\": {\"value\": 1.0}, \"size\": {\"value\": 2.0}, \"x\": {\"type\": \"quantitative\", \"field\": \"x\"}, \"y\": {\"type\": \"quantitative\", \"field\": \"y\"}}}], \"background\": \"white\", \"height\": 300, \"width\": 600, \"$schema\": \"https://vega.github.io/schema/vega-lite/v4.8.1.json\", \"datasets\": {\"data-c54843a9bf5c15962e09005606697f04\": [{\"x\": 0.0, \"y\": 0.0}, {\"x\": 6.245683670043945, \"y\": -9.555878639221191}, {\"x\": 7.142857074737549, \"y\": 0.0}, {\"x\": 10.99565315246582, \"y\": -20.01490020751953}, {\"x\": 14.285714149475098, \"y\": 0.0}, {\"x\": 17.834348678588867, \"y\": -13.115190505981445}, {\"x\": 21.428571701049805, \"y\": 0.0}, {\"x\": 25.0, \"y\": -4.833333492279053}, {\"x\": 28.571428298950195, \"y\": 0.0}, {\"x\": 32.1656494140625, \"y\": -13.115190505981445}, {\"x\": 35.71428680419922, \"y\": 0.0}, {\"x\": 39.00434494018555, \"y\": -20.01490020751953}, {\"x\": 42.85714340209961, \"y\": 0.0}, {\"x\": 43.75431442260742, \"y\": -9.555878639221191}, {\"x\": 50.0, \"y\": 0.0}], \"data-4905735001ccef9b15d6b8ab6931b67b\": [{\"x\": 0.0, \"y\": 0.0}, {\"x\": 6.245683670043945, \"y\": -9.555878639221191}], \"data-8b400ba0fcfc55a17aa8de6e589b5acd\": [{\"x\": 0.0, \"y\": 0.0}, {\"x\": 7.142857074737549, \"y\": 0.0}], \"data-527886cc55d8a82c08429b02e0349b6d\": [{\"x\": 6.245683670043945, \"y\": -9.555878639221191}, {\"x\": 7.142857074737549, \"y\": 0.0}], \"data-796a6588aeccfd64e0a95eb04d176a26\": [{\"x\": 6.245683670043945, \"y\": -9.555878639221191}, {\"x\": 10.99565315246582, \"y\": -20.01490020751953}], \"data-1de376352550a0627b0ceea2fce4f25c\": [{\"x\": 7.142857074737549, \"y\": 0.0}, {\"x\": 10.99565315246582, \"y\": -20.01490020751953}], \"data-515fc9bb58f1cae1e00fa8a1dc201630\": [{\"x\": 7.142857074737549, \"y\": 0.0}, {\"x\": 14.285714149475098, \"y\": 0.0}], \"data-a138bbd12d8c2a2150beab748eb8c1c5\": [{\"x\": 10.99565315246582, \"y\": -20.01490020751953}, {\"x\": 14.285714149475098, \"y\": 0.0}], \"data-05f02cf1ff9c1f020eaa5ad29cda3223\": [{\"x\": 10.99565315246582, \"y\": -20.01490020751953}, {\"x\": 17.834348678588867, \"y\": -13.115190505981445}], \"data-40d29d3e692952458d9a1c6a761bcf45\": [{\"x\": 14.285714149475098, \"y\": 0.0}, {\"x\": 17.834348678588867, \"y\": -13.115190505981445}], \"data-83a9a9a49c44b98d2247d6926da36461\": [{\"x\": 14.285714149475098, \"y\": 0.0}, {\"x\": 21.428571701049805, \"y\": 0.0}], \"data-7a00bc7907b5f43b0ba3b4164145bd92\": [{\"x\": 17.834348678588867, \"y\": -13.115190505981445}, {\"x\": 21.428571701049805, \"y\": 0.0}], \"data-22a7c53b39b322df4e19ec1eb5c41f0c\": [{\"x\": 17.834348678588867, \"y\": -13.115190505981445}, {\"x\": 25.0, \"y\": -4.833333492279053}], \"data-a5f54abaf950aceb10af33ac0aae8af7\": [{\"x\": 21.428571701049805, \"y\": 0.0}, {\"x\": 25.0, \"y\": -4.833333492279053}], \"data-a3bbe2f942d9a018fe94dbf3bf17c361\": [{\"x\": 21.428571701049805, \"y\": 0.0}, {\"x\": 28.571428298950195, \"y\": 0.0}], \"data-bf2e7c29cf9b848a7b6a7c0718ca4bfa\": [{\"x\": 25.0, \"y\": -4.833333492279053}, {\"x\": 28.571428298950195, \"y\": 0.0}], \"data-f50d695f135da468e6bcdb4177ef38e2\": [{\"x\": 25.0, \"y\": -4.833333492279053}, {\"x\": 32.1656494140625, \"y\": -13.115190505981445}], \"data-58787370d19e48d194f5f640dbcebe12\": [{\"x\": 28.571428298950195, \"y\": 0.0}, {\"x\": 32.1656494140625, \"y\": -13.115190505981445}], \"data-5725cc0e55d8831c744fb012b6a10822\": [{\"x\": 28.571428298950195, \"y\": 0.0}, {\"x\": 35.71428680419922, \"y\": 0.0}], \"data-a5006c1171c47fba0be391a07f1f3fd4\": [{\"x\": 32.1656494140625, \"y\": -13.115190505981445}, {\"x\": 35.71428680419922, \"y\": 0.0}], \"data-a9a107e75e330d6dd18d2932a3c34ad6\": [{\"x\": 32.1656494140625, \"y\": -13.115190505981445}, {\"x\": 39.00434494018555, \"y\": -20.01490020751953}], \"data-1e7fcf51c2ebba8e57fd5dab5e156108\": [{\"x\": 35.71428680419922, \"y\": 0.0}, {\"x\": 39.00434494018555, \"y\": -20.01490020751953}], \"data-5a6d941763adbe3f8b5f23ae62e0472d\": [{\"x\": 35.71428680419922, \"y\": 0.0}, {\"x\": 42.85714340209961, \"y\": 0.0}], \"data-4fa8ed58fdadf570dccc64e262b0b800\": [{\"x\": 39.00434494018555, \"y\": -20.01490020751953}, {\"x\": 42.85714340209961, \"y\": 0.0}], \"data-d721b0a525ad725f3a7df69db3fbbc7d\": [{\"x\": 39.00434494018555, \"y\": -20.01490020751953}, {\"x\": 43.75431442260742, \"y\": -9.555878639221191}], \"data-c18cb48d67b0f2e3c33a91f8f069c9bd\": [{\"x\": 42.85714340209961, \"y\": 0.0}, {\"x\": 43.75431442260742, \"y\": -9.555878639221191}], \"data-b4b5e6cc1eb26d5f4d69e0d3cb22d6c0\": [{\"x\": 42.85714340209961, \"y\": 0.0}, {\"x\": 50.0, \"y\": 0.0}], \"data-171ca0c60e62f6b0e2a36f7a24d16954\": [{\"x\": 43.75431442260742, \"y\": -9.555878639221191}, {\"x\": 50.0, \"y\": 0.0}], \"data-6d2d28668b8a4494139f506fa5c40523\": [{\"x\": 0.782998263835907, \"y\": -0.34657931327819824}, {\"x\": 7.030220985412598, \"y\": -9.576507568359375}, {\"x\": 8.018965721130371, \"y\": -0.09950379282236099}, {\"x\": 10.99565315246582, \"y\": -20.01490020751953}, {\"x\": 15.267508506774902, \"y\": -0.7847335338592529}, {\"x\": 18.63006019592285, \"y\": -14.095780372619629}, {\"x\": 22.461631774902344, \"y\": -1.2948951721191406}, {\"x\": 26.049646377563477, \"y\": -6.089074611663818}, {\"x\": 29.63766098022461, \"y\": -1.2948951721191406}, {\"x\": 33.46923065185547, \"y\": -14.095780372619629}, {\"x\": 36.831787109375, \"y\": -0.7847334146499634}, {\"x\": 41.1036376953125, \"y\": -20.01490020751953}, {\"x\": 44.08032989501953, \"y\": -0.09950379282236099}, {\"x\": 45.069068908691406, \"y\": -9.576507568359375}, {\"x\": 51.3162956237793, \"y\": -0.34657931327819824}], \"data-29e41fefc75e00627bdc46d2d8466216\": [{\"x\": 0.782998263835907, \"y\": -0.34657931327819824}, {\"x\": 7.030220985412598, \"y\": -9.576507568359375}], \"data-bcb91b1ab36a88dba782898cb1f82c18\": [{\"x\": 0.782998263835907, \"y\": -0.34657931327819824}, {\"x\": 8.018965721130371, \"y\": -0.09950379282236099}], \"data-b1cd977fcd9dc142d14880e65268f733\": [{\"x\": 7.030220985412598, \"y\": -9.576507568359375}, {\"x\": 8.018965721130371, \"y\": -0.09950379282236099}], \"data-5868a337c06c145ab34e668ee8508219\": [{\"x\": 7.030220985412598, \"y\": -9.576507568359375}, {\"x\": 10.99565315246582, \"y\": -20.01490020751953}], \"data-cb7b1935e895a3efc90678306195b374\": [{\"x\": 8.018965721130371, \"y\": -0.09950379282236099}, {\"x\": 10.99565315246582, \"y\": -20.01490020751953}], \"data-87a86415fa990314b8a08eabc0576a97\": [{\"x\": 8.018965721130371, \"y\": -0.09950379282236099}, {\"x\": 15.267508506774902, \"y\": -0.7847335338592529}], \"data-2702efe224c69a44e416ee938715a06e\": [{\"x\": 10.99565315246582, \"y\": -20.01490020751953}, {\"x\": 15.267508506774902, \"y\": -0.7847335338592529}], \"data-f073a579a7aefb6a378ad17260623fac\": [{\"x\": 10.99565315246582, \"y\": -20.01490020751953}, {\"x\": 18.63006019592285, \"y\": -14.095780372619629}], \"data-2c63532d7120c1e3b220a3b5fd8f4f74\": [{\"x\": 15.267508506774902, \"y\": -0.7847335338592529}, {\"x\": 18.63006019592285, \"y\": -14.095780372619629}], \"data-038ad2f4ab0f7aa9f697802e02c41f14\": [{\"x\": 15.267508506774902, \"y\": -0.7847335338592529}, {\"x\": 22.461631774902344, \"y\": -1.2948951721191406}], \"data-15b8a895e079be6b19193e1729611ab3\": [{\"x\": 18.63006019592285, \"y\": -14.095780372619629}, {\"x\": 22.461631774902344, \"y\": -1.2948951721191406}], \"data-55d24137588c27fadb375e86f6adeeb5\": [{\"x\": 18.63006019592285, \"y\": -14.095780372619629}, {\"x\": 26.049646377563477, \"y\": -6.089074611663818}], \"data-7e86d57d09123b28158ee605158fc3e7\": [{\"x\": 22.461631774902344, \"y\": -1.2948951721191406}, {\"x\": 26.049646377563477, \"y\": -6.089074611663818}], \"data-ab508ec1e5cd7f2431bbaa4cd6a90735\": [{\"x\": 22.461631774902344, \"y\": -1.2948951721191406}, {\"x\": 29.63766098022461, \"y\": -1.2948951721191406}], \"data-0f95b17bb746c5356dbb0e6e8cd9482f\": [{\"x\": 26.049646377563477, \"y\": -6.089074611663818}, {\"x\": 29.63766098022461, \"y\": -1.2948951721191406}], \"data-62e284a919e53571f16340dfef957665\": [{\"x\": 26.049646377563477, \"y\": -6.089074611663818}, {\"x\": 33.46923065185547, \"y\": -14.095780372619629}], \"data-7b657b48fcbce09aa2e051d53d81ffd3\": [{\"x\": 29.63766098022461, \"y\": -1.2948951721191406}, {\"x\": 33.46923065185547, \"y\": -14.095780372619629}], \"data-255122040398329f23e49cc02047e7c6\": [{\"x\": 29.63766098022461, \"y\": -1.2948951721191406}, {\"x\": 36.831787109375, \"y\": -0.7847334146499634}], \"data-8a05fb6e4f532e8081198f3ba3594bf5\": [{\"x\": 33.46923065185547, \"y\": -14.095780372619629}, {\"x\": 36.831787109375, \"y\": -0.7847334146499634}], \"data-c2a4d70f4eae5dc20b3b327b41719396\": [{\"x\": 33.46923065185547, \"y\": -14.095780372619629}, {\"x\": 41.1036376953125, \"y\": -20.01490020751953}], \"data-516bb1056e9975bbeaabcf3ec6e225e6\": [{\"x\": 36.831787109375, \"y\": -0.7847334146499634}, {\"x\": 41.1036376953125, \"y\": -20.01490020751953}], \"data-248619215168e7b299c35a2b6d05924a\": [{\"x\": 36.831787109375, \"y\": -0.7847334146499634}, {\"x\": 44.08032989501953, \"y\": -0.09950379282236099}], \"data-5796cfb72d8930ea8b50868e74b7f0d1\": [{\"x\": 41.1036376953125, \"y\": -20.01490020751953}, {\"x\": 44.08032989501953, \"y\": -0.09950379282236099}], \"data-ef502464f371b13dbd709a2e524133db\": [{\"x\": 41.1036376953125, \"y\": -20.01490020751953}, {\"x\": 45.069068908691406, \"y\": -9.576507568359375}], \"data-9aa5c930a5bb0a0af459d4e7705582d5\": [{\"x\": 44.08032989501953, \"y\": -0.09950379282236099}, {\"x\": 45.069068908691406, \"y\": -9.576507568359375}], \"data-9de1b685cddd9243f3488503ae45dd94\": [{\"x\": 44.08032989501953, \"y\": -0.09950379282236099}, {\"x\": 51.3162956237793, \"y\": -0.34657931327819824}], \"data-2448aab21cc3137f9da6c41ac2a7a348\": [{\"x\": 45.069068908691406, \"y\": -9.576507568359375}, {\"x\": 51.3162956237793, \"y\": -0.34657931327819824}]}}, {\"mode\": \"vega-lite\"});\n",
       "</script>"
      ],
      "text/plain": [
       "alt.LayerChart(...)"
      ]
     },
     "execution_count": 3,
     "metadata": {},
     "output_type": "execute_result"
    }
   ],
   "source": [
    "plotTruss(allGraphsUnfiltered[0], showDeformed=True, defScale=100)"
   ]
  },
  {
   "cell_type": "markdown",
   "metadata": {},
   "source": [
    "## 2. Filter and partition"
   ]
  },
  {
   "cell_type": "code",
   "execution_count": 4,
   "metadata": {},
   "outputs": [
    {
     "data": {
      "text/html": [
       "<div>\n",
       "<style scoped>\n",
       "    .dataframe tbody tr th:only-of-type {\n",
       "        vertical-align: middle;\n",
       "    }\n",
       "\n",
       "    .dataframe tbody tr th {\n",
       "        vertical-align: top;\n",
       "    }\n",
       "\n",
       "    .dataframe thead th {\n",
       "        text-align: right;\n",
       "    }\n",
       "</style>\n",
       "<table border=\"1\" class=\"dataframe\">\n",
       "  <thead>\n",
       "    <tr style=\"text-align: right;\">\n",
       "      <th></th>\n",
       "      <th>maxes</th>\n",
       "    </tr>\n",
       "  </thead>\n",
       "  <tbody>\n",
       "    <tr>\n",
       "      <th>count</th>\n",
       "      <td>900.000000</td>\n",
       "    </tr>\n",
       "    <tr>\n",
       "      <th>mean</th>\n",
       "      <td>0.028952</td>\n",
       "    </tr>\n",
       "    <tr>\n",
       "      <th>std</th>\n",
       "      <td>0.019071</td>\n",
       "    </tr>\n",
       "    <tr>\n",
       "      <th>min</th>\n",
       "      <td>0.006570</td>\n",
       "    </tr>\n",
       "    <tr>\n",
       "      <th>25%</th>\n",
       "      <td>0.014951</td>\n",
       "    </tr>\n",
       "    <tr>\n",
       "      <th>50%</th>\n",
       "      <td>0.021719</td>\n",
       "    </tr>\n",
       "    <tr>\n",
       "      <th>75%</th>\n",
       "      <td>0.038367</td>\n",
       "    </tr>\n",
       "    <tr>\n",
       "      <th>max</th>\n",
       "      <td>0.097861</td>\n",
       "    </tr>\n",
       "  </tbody>\n",
       "</table>\n",
       "</div>"
      ],
      "text/plain": [
       "            maxes\n",
       "count  900.000000\n",
       "mean     0.028952\n",
       "std      0.019071\n",
       "min      0.006570\n",
       "25%      0.014951\n",
       "50%      0.021719\n",
       "75%      0.038367\n",
       "max      0.097861"
      ]
     },
     "execution_count": 4,
     "metadata": {},
     "output_type": "execute_result"
    }
   ],
   "source": [
    "allGraphs = filterbyDisp(allGraphsUnfiltered, 0.9)\n",
    "trainData, valData, testData = partitionGraphList(allGraphs)\n",
    "\n",
    "maxes = [max(np.abs(graph.y.numpy().flatten())) for graph in allGraphs]\n",
    "source = pd.DataFrame(maxes, columns=['maxes'])\n",
    "source.describe()"
   ]
  },
  {
   "cell_type": "markdown",
   "metadata": {},
   "source": [
    "## 3. Train and test random forest point regressors"
   ]
  },
  {
   "cell_type": "code",
   "execution_count": 5,
   "metadata": {},
   "outputs": [
    {
     "name": "stdout",
     "output_type": "stream",
     "text": [
      "trained 30 random forest models in 14.14 seconds\n"
     ]
    },
    {
     "data": {
      "text/html": [
       "<div>\n",
       "<style scoped>\n",
       "    .dataframe tbody tr th:only-of-type {\n",
       "        vertical-align: middle;\n",
       "    }\n",
       "\n",
       "    .dataframe tbody tr th {\n",
       "        vertical-align: top;\n",
       "    }\n",
       "\n",
       "    .dataframe thead th {\n",
       "        text-align: right;\n",
       "    }\n",
       "</style>\n",
       "<table border=\"1\" class=\"dataframe\">\n",
       "  <thead>\n",
       "    <tr style=\"text-align: right;\">\n",
       "      <th></th>\n",
       "      <th>mse</th>\n",
       "      <th>mae</th>\n",
       "      <th>mre</th>\n",
       "      <th>peakR2</th>\n",
       "      <th>maxAggR2</th>\n",
       "      <th>meanAggR2</th>\n",
       "      <th>minAggR2</th>\n",
       "    </tr>\n",
       "  </thead>\n",
       "  <tbody>\n",
       "    <tr>\n",
       "      <th>train</th>\n",
       "      <td>0.000004</td>\n",
       "      <td>0.001045</td>\n",
       "      <td>0.043597</td>\n",
       "      <td>0.956961</td>\n",
       "      <td>0.998317</td>\n",
       "      <td>0.981528</td>\n",
       "      <td>0.961902</td>\n",
       "    </tr>\n",
       "    <tr>\n",
       "      <th>test</th>\n",
       "      <td>0.000021</td>\n",
       "      <td>0.002503</td>\n",
       "      <td>0.101589</td>\n",
       "      <td>0.677624</td>\n",
       "      <td>0.997297</td>\n",
       "      <td>0.878046</td>\n",
       "      <td>0.752604</td>\n",
       "    </tr>\n",
       "  </tbody>\n",
       "</table>\n",
       "</div>"
      ],
      "text/plain": [
       "            mse       mae       mre    peakR2  maxAggR2  meanAggR2  minAggR2\n",
       "train  0.000004  0.001045  0.043597  0.956961  0.998317   0.981528  0.961902\n",
       "test   0.000021  0.002503  0.101589  0.677624  0.997297   0.878046  0.752604"
      ]
     },
     "execution_count": 5,
     "metadata": {},
     "output_type": "execute_result"
    }
   ],
   "source": [
    "rf = PointRegressor('Random Forest')\n",
    "rf.trainModel(trainData, valData, \n",
    "             flatten=False, \n",
    "             logTrans=False, \n",
    "             ssTrans=True, \n",
    "             saveDir='./results/rf01/')\n",
    "\n",
    "trainRes = rf.testModel(trainData)\n",
    "testRes = rf.testModel(testData)\n",
    "pd.DataFrame([trainRes, testRes], index=['train', 'test'])"
   ]
  },
  {
   "cell_type": "markdown",
   "metadata": {},
   "source": [
    "## 4. Visualize some predictions"
   ]
  },
  {
   "cell_type": "code",
   "execution_count": 8,
   "metadata": {},
   "outputs": [
    {
     "data": {
      "text/html": [
       "\n",
       "<div id=\"altair-viz-4e2aeed5cada4be69e89ef016d70d6ef\"></div>\n",
       "<script type=\"text/javascript\">\n",
       "  (function(spec, embedOpt){\n",
       "    let outputDiv = document.currentScript.previousElementSibling;\n",
       "    if (outputDiv.id !== \"altair-viz-4e2aeed5cada4be69e89ef016d70d6ef\") {\n",
       "      outputDiv = document.getElementById(\"altair-viz-4e2aeed5cada4be69e89ef016d70d6ef\");\n",
       "    }\n",
       "    const paths = {\n",
       "      \"vega\": \"https://cdn.jsdelivr.net/npm//vega@5?noext\",\n",
       "      \"vega-lib\": \"https://cdn.jsdelivr.net/npm//vega-lib?noext\",\n",
       "      \"vega-lite\": \"https://cdn.jsdelivr.net/npm//vega-lite@4.8.1?noext\",\n",
       "      \"vega-embed\": \"https://cdn.jsdelivr.net/npm//vega-embed@6?noext\",\n",
       "    };\n",
       "\n",
       "    function loadScript(lib) {\n",
       "      return new Promise(function(resolve, reject) {\n",
       "        var s = document.createElement('script');\n",
       "        s.src = paths[lib];\n",
       "        s.async = true;\n",
       "        s.onload = () => resolve(paths[lib]);\n",
       "        s.onerror = () => reject(`Error loading script: ${paths[lib]}`);\n",
       "        document.getElementsByTagName(\"head\")[0].appendChild(s);\n",
       "      });\n",
       "    }\n",
       "\n",
       "    function showError(err) {\n",
       "      outputDiv.innerHTML = `<div class=\"error\" style=\"color:red;\">${err}</div>`;\n",
       "      throw err;\n",
       "    }\n",
       "\n",
       "    function displayChart(vegaEmbed) {\n",
       "      vegaEmbed(outputDiv, spec, embedOpt)\n",
       "        .catch(err => showError(`Javascript Error: ${err.message}<br>This usually means there's a typo in your chart specification. See the javascript console for the full traceback.`));\n",
       "    }\n",
       "\n",
       "    if(typeof define === \"function\" && define.amd) {\n",
       "      requirejs.config({paths});\n",
       "      require([\"vega-embed\"], displayChart, err => showError(`Error loading script: ${err.message}`));\n",
       "    } else if (typeof vegaEmbed === \"function\") {\n",
       "      displayChart(vegaEmbed);\n",
       "    } else {\n",
       "      loadScript(\"vega\")\n",
       "        .then(() => loadScript(\"vega-lite\"))\n",
       "        .then(() => loadScript(\"vega-embed\"))\n",
       "        .catch(showError)\n",
       "        .then(() => displayChart(vegaEmbed));\n",
       "    }\n",
       "  })({\"config\": {\"view\": {\"continuousWidth\": 400, \"continuousHeight\": 300, \"strokeOpacity\": 0}}, \"layer\": [{\"data\": {\"name\": \"data-a7f36a18c5a3060a53edcd8f30ad5fa3\"}, \"mark\": \"circle\", \"encoding\": {\"color\": {\"value\": \"#C7D5E5\"}, \"opacity\": {\"value\": 0}, \"size\": {\"value\": 1}, \"x\": {\"type\": \"quantitative\", \"axis\": null, \"field\": \"x\", \"scale\": {\"domain\": [-5.0, 55.0]}}, \"y\": {\"type\": \"quantitative\", \"axis\": null, \"field\": \"y\", \"scale\": {\"domain\": [-22.264954566955566, 7.735045433044434]}}}}, {\"data\": {\"name\": \"data-81d6c42b32924038d6d0b7efb9b50865\"}, \"mark\": \"line\", \"encoding\": {\"color\": {\"value\": \"#C7D5E5\"}, \"opacity\": {\"value\": 1.0}, \"size\": {\"value\": 2.0}, \"x\": {\"type\": \"quantitative\", \"field\": \"x\"}, \"y\": {\"type\": \"quantitative\", \"field\": \"y\"}}}, {\"data\": {\"name\": \"data-8b400ba0fcfc55a17aa8de6e589b5acd\"}, \"mark\": \"line\", \"encoding\": {\"color\": {\"value\": \"#C7D5E5\"}, \"opacity\": {\"value\": 1.0}, \"size\": {\"value\": 2.0}, \"x\": {\"type\": \"quantitative\", \"field\": \"x\"}, \"y\": {\"type\": \"quantitative\", \"field\": \"y\"}}}, {\"data\": {\"name\": \"data-cc6140d5beae0f0a38f0a198d9a02cdc\"}, \"mark\": \"line\", \"encoding\": {\"color\": {\"value\": \"#C7D5E5\"}, \"opacity\": {\"value\": 1.0}, \"size\": {\"value\": 2.0}, \"x\": {\"type\": \"quantitative\", \"field\": \"x\"}, \"y\": {\"type\": \"quantitative\", \"field\": \"y\"}}}, {\"data\": {\"name\": \"data-0c1061cee55ec52b2741f5898e822a8f\"}, \"mark\": \"line\", \"encoding\": {\"color\": {\"value\": \"#C7D5E5\"}, \"opacity\": {\"value\": 1.0}, \"size\": {\"value\": 2.0}, \"x\": {\"type\": \"quantitative\", \"field\": \"x\"}, \"y\": {\"type\": \"quantitative\", \"field\": \"y\"}}}, {\"data\": {\"name\": \"data-ce02da0821b973f6cf8a1a58f56c62e2\"}, \"mark\": \"line\", \"encoding\": {\"color\": {\"value\": \"#C7D5E5\"}, \"opacity\": {\"value\": 1.0}, \"size\": {\"value\": 2.0}, \"x\": {\"type\": \"quantitative\", \"field\": \"x\"}, \"y\": {\"type\": \"quantitative\", \"field\": \"y\"}}}, {\"data\": {\"name\": \"data-515fc9bb58f1cae1e00fa8a1dc201630\"}, \"mark\": \"line\", \"encoding\": {\"color\": {\"value\": \"#C7D5E5\"}, \"opacity\": {\"value\": 1.0}, \"size\": {\"value\": 2.0}, \"x\": {\"type\": \"quantitative\", \"field\": \"x\"}, \"y\": {\"type\": \"quantitative\", \"field\": \"y\"}}}, {\"data\": {\"name\": \"data-8dff23457de219e05c8c26acec91e583\"}, \"mark\": \"line\", \"encoding\": {\"color\": {\"value\": \"#C7D5E5\"}, \"opacity\": {\"value\": 1.0}, \"size\": {\"value\": 2.0}, \"x\": {\"type\": \"quantitative\", \"field\": \"x\"}, \"y\": {\"type\": \"quantitative\", \"field\": \"y\"}}}, {\"data\": {\"name\": \"data-0c7ad90e49509a54ba28d5d78723c18d\"}, \"mark\": \"line\", \"encoding\": {\"color\": {\"value\": \"#C7D5E5\"}, \"opacity\": {\"value\": 1.0}, \"size\": {\"value\": 2.0}, \"x\": {\"type\": \"quantitative\", \"field\": \"x\"}, \"y\": {\"type\": \"quantitative\", \"field\": \"y\"}}}, {\"data\": {\"name\": \"data-029945df03305689e48111971a92c146\"}, \"mark\": \"line\", \"encoding\": {\"color\": {\"value\": \"#C7D5E5\"}, \"opacity\": {\"value\": 1.0}, \"size\": {\"value\": 2.0}, \"x\": {\"type\": \"quantitative\", \"field\": \"x\"}, \"y\": {\"type\": \"quantitative\", \"field\": \"y\"}}}, {\"data\": {\"name\": \"data-83a9a9a49c44b98d2247d6926da36461\"}, \"mark\": \"line\", \"encoding\": {\"color\": {\"value\": \"#C7D5E5\"}, \"opacity\": {\"value\": 1.0}, \"size\": {\"value\": 2.0}, \"x\": {\"type\": \"quantitative\", \"field\": \"x\"}, \"y\": {\"type\": \"quantitative\", \"field\": \"y\"}}}, {\"data\": {\"name\": \"data-b8d9b71bf2b5923d419fbbf9a16ac637\"}, \"mark\": \"line\", \"encoding\": {\"color\": {\"value\": \"#C7D5E5\"}, \"opacity\": {\"value\": 1.0}, \"size\": {\"value\": 2.0}, \"x\": {\"type\": \"quantitative\", \"field\": \"x\"}, \"y\": {\"type\": \"quantitative\", \"field\": \"y\"}}}, {\"data\": {\"name\": \"data-1220426479ad77015034810331c7d12b\"}, \"mark\": \"line\", \"encoding\": {\"color\": {\"value\": \"#C7D5E5\"}, \"opacity\": {\"value\": 1.0}, \"size\": {\"value\": 2.0}, \"x\": {\"type\": \"quantitative\", \"field\": \"x\"}, \"y\": {\"type\": \"quantitative\", \"field\": \"y\"}}}, {\"data\": {\"name\": \"data-e82ca79554b9c1c70b00705aad08cc6e\"}, \"mark\": \"line\", \"encoding\": {\"color\": {\"value\": \"#C7D5E5\"}, \"opacity\": {\"value\": 1.0}, \"size\": {\"value\": 2.0}, \"x\": {\"type\": \"quantitative\", \"field\": \"x\"}, \"y\": {\"type\": \"quantitative\", \"field\": \"y\"}}}, {\"data\": {\"name\": \"data-a3bbe2f942d9a018fe94dbf3bf17c361\"}, \"mark\": \"line\", \"encoding\": {\"color\": {\"value\": \"#C7D5E5\"}, \"opacity\": {\"value\": 1.0}, \"size\": {\"value\": 2.0}, \"x\": {\"type\": \"quantitative\", \"field\": \"x\"}, \"y\": {\"type\": \"quantitative\", \"field\": \"y\"}}}, {\"data\": {\"name\": \"data-6d1fcd8edbf33a2112c230249b9b2451\"}, \"mark\": \"line\", \"encoding\": {\"color\": {\"value\": \"#C7D5E5\"}, \"opacity\": {\"value\": 1.0}, \"size\": {\"value\": 2.0}, \"x\": {\"type\": \"quantitative\", \"field\": \"x\"}, \"y\": {\"type\": \"quantitative\", \"field\": \"y\"}}}, {\"data\": {\"name\": \"data-55bf524d3207b888b5a63b7da57605c1\"}, \"mark\": \"line\", \"encoding\": {\"color\": {\"value\": \"#C7D5E5\"}, \"opacity\": {\"value\": 1.0}, \"size\": {\"value\": 2.0}, \"x\": {\"type\": \"quantitative\", \"field\": \"x\"}, \"y\": {\"type\": \"quantitative\", \"field\": \"y\"}}}, {\"data\": {\"name\": \"data-8cb6e32d63fcbe650c58b637520bb9a7\"}, \"mark\": \"line\", \"encoding\": {\"color\": {\"value\": \"#C7D5E5\"}, \"opacity\": {\"value\": 1.0}, \"size\": {\"value\": 2.0}, \"x\": {\"type\": \"quantitative\", \"field\": \"x\"}, \"y\": {\"type\": \"quantitative\", \"field\": \"y\"}}}, {\"data\": {\"name\": \"data-5725cc0e55d8831c744fb012b6a10822\"}, \"mark\": \"line\", \"encoding\": {\"color\": {\"value\": \"#C7D5E5\"}, \"opacity\": {\"value\": 1.0}, \"size\": {\"value\": 2.0}, \"x\": {\"type\": \"quantitative\", \"field\": \"x\"}, \"y\": {\"type\": \"quantitative\", \"field\": \"y\"}}}, {\"data\": {\"name\": \"data-a55c7403c7278949c57c9a11b8ea5ffd\"}, \"mark\": \"line\", \"encoding\": {\"color\": {\"value\": \"#C7D5E5\"}, \"opacity\": {\"value\": 1.0}, \"size\": {\"value\": 2.0}, \"x\": {\"type\": \"quantitative\", \"field\": \"x\"}, \"y\": {\"type\": \"quantitative\", \"field\": \"y\"}}}, {\"data\": {\"name\": \"data-d8489d90ce89ad41efb7100ad81174cc\"}, \"mark\": \"line\", \"encoding\": {\"color\": {\"value\": \"#C7D5E5\"}, \"opacity\": {\"value\": 1.0}, \"size\": {\"value\": 2.0}, \"x\": {\"type\": \"quantitative\", \"field\": \"x\"}, \"y\": {\"type\": \"quantitative\", \"field\": \"y\"}}}, {\"data\": {\"name\": \"data-382c795a0bc6c3d100b19753ee7d1099\"}, \"mark\": \"line\", \"encoding\": {\"color\": {\"value\": \"#C7D5E5\"}, \"opacity\": {\"value\": 1.0}, \"size\": {\"value\": 2.0}, \"x\": {\"type\": \"quantitative\", \"field\": \"x\"}, \"y\": {\"type\": \"quantitative\", \"field\": \"y\"}}}, {\"data\": {\"name\": \"data-5a6d941763adbe3f8b5f23ae62e0472d\"}, \"mark\": \"line\", \"encoding\": {\"color\": {\"value\": \"#C7D5E5\"}, \"opacity\": {\"value\": 1.0}, \"size\": {\"value\": 2.0}, \"x\": {\"type\": \"quantitative\", \"field\": \"x\"}, \"y\": {\"type\": \"quantitative\", \"field\": \"y\"}}}, {\"data\": {\"name\": \"data-6d90fee826d76a85079b8c6fc9e7a5c0\"}, \"mark\": \"line\", \"encoding\": {\"color\": {\"value\": \"#C7D5E5\"}, \"opacity\": {\"value\": 1.0}, \"size\": {\"value\": 2.0}, \"x\": {\"type\": \"quantitative\", \"field\": \"x\"}, \"y\": {\"type\": \"quantitative\", \"field\": \"y\"}}}, {\"data\": {\"name\": \"data-ff1776484ae2cd5c6e26b9b04d19e9fa\"}, \"mark\": \"line\", \"encoding\": {\"color\": {\"value\": \"#C7D5E5\"}, \"opacity\": {\"value\": 1.0}, \"size\": {\"value\": 2.0}, \"x\": {\"type\": \"quantitative\", \"field\": \"x\"}, \"y\": {\"type\": \"quantitative\", \"field\": \"y\"}}}, {\"data\": {\"name\": \"data-6d4014e0b236dc0cefa0557888778121\"}, \"mark\": \"line\", \"encoding\": {\"color\": {\"value\": \"#C7D5E5\"}, \"opacity\": {\"value\": 1.0}, \"size\": {\"value\": 2.0}, \"x\": {\"type\": \"quantitative\", \"field\": \"x\"}, \"y\": {\"type\": \"quantitative\", \"field\": \"y\"}}}, {\"data\": {\"name\": \"data-b4b5e6cc1eb26d5f4d69e0d3cb22d6c0\"}, \"mark\": \"line\", \"encoding\": {\"color\": {\"value\": \"#C7D5E5\"}, \"opacity\": {\"value\": 1.0}, \"size\": {\"value\": 2.0}, \"x\": {\"type\": \"quantitative\", \"field\": \"x\"}, \"y\": {\"type\": \"quantitative\", \"field\": \"y\"}}}, {\"data\": {\"name\": \"data-56dadf498ac1cedb521ee18f4cab749d\"}, \"mark\": \"line\", \"encoding\": {\"color\": {\"value\": \"#C7D5E5\"}, \"opacity\": {\"value\": 1.0}, \"size\": {\"value\": 2.0}, \"x\": {\"type\": \"quantitative\", \"field\": \"x\"}, \"y\": {\"type\": \"quantitative\", \"field\": \"y\"}}}, {\"data\": {\"name\": \"data-0b2361d209cebd40b475f47f30ff51b1\"}, \"mark\": \"circle\", \"encoding\": {\"color\": {\"value\": \"#4C78A8\"}, \"opacity\": {\"value\": 0}, \"size\": {\"value\": 1}, \"x\": {\"type\": \"quantitative\", \"axis\": null, \"field\": \"x\", \"scale\": {\"domain\": [-5.0, 55.0]}}, \"y\": {\"type\": \"quantitative\", \"axis\": null, \"field\": \"y\", \"scale\": {\"domain\": [-22.264954566955566, 7.735045433044434]}}}}, {\"data\": {\"name\": \"data-726bb3d6881ad8b81aef27c0216d41d2\"}, \"mark\": \"line\", \"encoding\": {\"color\": {\"value\": \"#4C78A8\"}, \"opacity\": {\"value\": 1.0}, \"size\": {\"value\": 2.0}, \"x\": {\"type\": \"quantitative\", \"field\": \"x\"}, \"y\": {\"type\": \"quantitative\", \"field\": \"y\"}}}, {\"data\": {\"name\": \"data-4fbcef5d000537723d721071a9a3c0f0\"}, \"mark\": \"line\", \"encoding\": {\"color\": {\"value\": \"#4C78A8\"}, \"opacity\": {\"value\": 1.0}, \"size\": {\"value\": 2.0}, \"x\": {\"type\": \"quantitative\", \"field\": \"x\"}, \"y\": {\"type\": \"quantitative\", \"field\": \"y\"}}}, {\"data\": {\"name\": \"data-9f52098ff2482f456de3ab7e8251d6e3\"}, \"mark\": \"line\", \"encoding\": {\"color\": {\"value\": \"#4C78A8\"}, \"opacity\": {\"value\": 1.0}, \"size\": {\"value\": 2.0}, \"x\": {\"type\": \"quantitative\", \"field\": \"x\"}, \"y\": {\"type\": \"quantitative\", \"field\": \"y\"}}}, {\"data\": {\"name\": \"data-1bd4100523310c1eb19beb2741266757\"}, \"mark\": \"line\", \"encoding\": {\"color\": {\"value\": \"#4C78A8\"}, \"opacity\": {\"value\": 1.0}, \"size\": {\"value\": 2.0}, \"x\": {\"type\": \"quantitative\", \"field\": \"x\"}, \"y\": {\"type\": \"quantitative\", \"field\": \"y\"}}}, {\"data\": {\"name\": \"data-6603e4fd24282399c0c2553ce0ca1678\"}, \"mark\": \"line\", \"encoding\": {\"color\": {\"value\": \"#4C78A8\"}, \"opacity\": {\"value\": 1.0}, \"size\": {\"value\": 2.0}, \"x\": {\"type\": \"quantitative\", \"field\": \"x\"}, \"y\": {\"type\": \"quantitative\", \"field\": \"y\"}}}, {\"data\": {\"name\": \"data-ac869134f4d1bfc20bb6d57d2f8ca59a\"}, \"mark\": \"line\", \"encoding\": {\"color\": {\"value\": \"#4C78A8\"}, \"opacity\": {\"value\": 1.0}, \"size\": {\"value\": 2.0}, \"x\": {\"type\": \"quantitative\", \"field\": \"x\"}, \"y\": {\"type\": \"quantitative\", \"field\": \"y\"}}}, {\"data\": {\"name\": \"data-f20e173cc64e4d334e1be531895ef152\"}, \"mark\": \"line\", \"encoding\": {\"color\": {\"value\": \"#4C78A8\"}, \"opacity\": {\"value\": 1.0}, \"size\": {\"value\": 2.0}, \"x\": {\"type\": \"quantitative\", \"field\": \"x\"}, \"y\": {\"type\": \"quantitative\", \"field\": \"y\"}}}, {\"data\": {\"name\": \"data-61b79bb550227618c294f54af1489367\"}, \"mark\": \"line\", \"encoding\": {\"color\": {\"value\": \"#4C78A8\"}, \"opacity\": {\"value\": 1.0}, \"size\": {\"value\": 2.0}, \"x\": {\"type\": \"quantitative\", \"field\": \"x\"}, \"y\": {\"type\": \"quantitative\", \"field\": \"y\"}}}, {\"data\": {\"name\": \"data-00ad4af1ec46cdde2882ffa2b454f84d\"}, \"mark\": \"line\", \"encoding\": {\"color\": {\"value\": \"#4C78A8\"}, \"opacity\": {\"value\": 1.0}, \"size\": {\"value\": 2.0}, \"x\": {\"type\": \"quantitative\", \"field\": \"x\"}, \"y\": {\"type\": \"quantitative\", \"field\": \"y\"}}}, {\"data\": {\"name\": \"data-73643ef5a81186803a7daff3fdce5c01\"}, \"mark\": \"line\", \"encoding\": {\"color\": {\"value\": \"#4C78A8\"}, \"opacity\": {\"value\": 1.0}, \"size\": {\"value\": 2.0}, \"x\": {\"type\": \"quantitative\", \"field\": \"x\"}, \"y\": {\"type\": \"quantitative\", \"field\": \"y\"}}}, {\"data\": {\"name\": \"data-8ec66321af7bb33ae9aa0e4a84457b78\"}, \"mark\": \"line\", \"encoding\": {\"color\": {\"value\": \"#4C78A8\"}, \"opacity\": {\"value\": 1.0}, \"size\": {\"value\": 2.0}, \"x\": {\"type\": \"quantitative\", \"field\": \"x\"}, \"y\": {\"type\": \"quantitative\", \"field\": \"y\"}}}, {\"data\": {\"name\": \"data-085abbaf2a97bc30bbf2f0fb91201c70\"}, \"mark\": \"line\", \"encoding\": {\"color\": {\"value\": \"#4C78A8\"}, \"opacity\": {\"value\": 1.0}, \"size\": {\"value\": 2.0}, \"x\": {\"type\": \"quantitative\", \"field\": \"x\"}, \"y\": {\"type\": \"quantitative\", \"field\": \"y\"}}}, {\"data\": {\"name\": \"data-4beef8f146b8eba595be57546b9fee7b\"}, \"mark\": \"line\", \"encoding\": {\"color\": {\"value\": \"#4C78A8\"}, \"opacity\": {\"value\": 1.0}, \"size\": {\"value\": 2.0}, \"x\": {\"type\": \"quantitative\", \"field\": \"x\"}, \"y\": {\"type\": \"quantitative\", \"field\": \"y\"}}}, {\"data\": {\"name\": \"data-780dd2971ffd015884d6f1282164336a\"}, \"mark\": \"line\", \"encoding\": {\"color\": {\"value\": \"#4C78A8\"}, \"opacity\": {\"value\": 1.0}, \"size\": {\"value\": 2.0}, \"x\": {\"type\": \"quantitative\", \"field\": \"x\"}, \"y\": {\"type\": \"quantitative\", \"field\": \"y\"}}}, {\"data\": {\"name\": \"data-8befabc0d18bb66a023ad385b8668174\"}, \"mark\": \"line\", \"encoding\": {\"color\": {\"value\": \"#4C78A8\"}, \"opacity\": {\"value\": 1.0}, \"size\": {\"value\": 2.0}, \"x\": {\"type\": \"quantitative\", \"field\": \"x\"}, \"y\": {\"type\": \"quantitative\", \"field\": \"y\"}}}, {\"data\": {\"name\": \"data-207579547fbb6c6b7cb8905765d2c959\"}, \"mark\": \"line\", \"encoding\": {\"color\": {\"value\": \"#4C78A8\"}, \"opacity\": {\"value\": 1.0}, \"size\": {\"value\": 2.0}, \"x\": {\"type\": \"quantitative\", \"field\": \"x\"}, \"y\": {\"type\": \"quantitative\", \"field\": \"y\"}}}, {\"data\": {\"name\": \"data-cf835f85249db822b8770a7ee30573c5\"}, \"mark\": \"line\", \"encoding\": {\"color\": {\"value\": \"#4C78A8\"}, \"opacity\": {\"value\": 1.0}, \"size\": {\"value\": 2.0}, \"x\": {\"type\": \"quantitative\", \"field\": \"x\"}, \"y\": {\"type\": \"quantitative\", \"field\": \"y\"}}}, {\"data\": {\"name\": \"data-b776f5fc8af4c52c59373855e1be86dc\"}, \"mark\": \"line\", \"encoding\": {\"color\": {\"value\": \"#4C78A8\"}, \"opacity\": {\"value\": 1.0}, \"size\": {\"value\": 2.0}, \"x\": {\"type\": \"quantitative\", \"field\": \"x\"}, \"y\": {\"type\": \"quantitative\", \"field\": \"y\"}}}, {\"data\": {\"name\": \"data-e0038aaf54964debd6633aa50acafd36\"}, \"mark\": \"line\", \"encoding\": {\"color\": {\"value\": \"#4C78A8\"}, \"opacity\": {\"value\": 1.0}, \"size\": {\"value\": 2.0}, \"x\": {\"type\": \"quantitative\", \"field\": \"x\"}, \"y\": {\"type\": \"quantitative\", \"field\": \"y\"}}}, {\"data\": {\"name\": \"data-bda2c58329f41a910e99a0994fddd560\"}, \"mark\": \"line\", \"encoding\": {\"color\": {\"value\": \"#4C78A8\"}, \"opacity\": {\"value\": 1.0}, \"size\": {\"value\": 2.0}, \"x\": {\"type\": \"quantitative\", \"field\": \"x\"}, \"y\": {\"type\": \"quantitative\", \"field\": \"y\"}}}, {\"data\": {\"name\": \"data-93485cedc5451d6645adb20774b0a902\"}, \"mark\": \"line\", \"encoding\": {\"color\": {\"value\": \"#4C78A8\"}, \"opacity\": {\"value\": 1.0}, \"size\": {\"value\": 2.0}, \"x\": {\"type\": \"quantitative\", \"field\": \"x\"}, \"y\": {\"type\": \"quantitative\", \"field\": \"y\"}}}, {\"data\": {\"name\": \"data-75cd5d200021e8d6dfaf93c2868aa5d2\"}, \"mark\": \"line\", \"encoding\": {\"color\": {\"value\": \"#4C78A8\"}, \"opacity\": {\"value\": 1.0}, \"size\": {\"value\": 2.0}, \"x\": {\"type\": \"quantitative\", \"field\": \"x\"}, \"y\": {\"type\": \"quantitative\", \"field\": \"y\"}}}, {\"data\": {\"name\": \"data-a9670545d9d2ec361582d94dae7bc365\"}, \"mark\": \"line\", \"encoding\": {\"color\": {\"value\": \"#4C78A8\"}, \"opacity\": {\"value\": 1.0}, \"size\": {\"value\": 2.0}, \"x\": {\"type\": \"quantitative\", \"field\": \"x\"}, \"y\": {\"type\": \"quantitative\", \"field\": \"y\"}}}, {\"data\": {\"name\": \"data-d2f7cf30c3da4ce66d2f3de0f877ec45\"}, \"mark\": \"line\", \"encoding\": {\"color\": {\"value\": \"#4C78A8\"}, \"opacity\": {\"value\": 1.0}, \"size\": {\"value\": 2.0}, \"x\": {\"type\": \"quantitative\", \"field\": \"x\"}, \"y\": {\"type\": \"quantitative\", \"field\": \"y\"}}}, {\"data\": {\"name\": \"data-3c6aa7e5de23f154ad32a35b67d30660\"}, \"mark\": \"line\", \"encoding\": {\"color\": {\"value\": \"#4C78A8\"}, \"opacity\": {\"value\": 1.0}, \"size\": {\"value\": 2.0}, \"x\": {\"type\": \"quantitative\", \"field\": \"x\"}, \"y\": {\"type\": \"quantitative\", \"field\": \"y\"}}}, {\"data\": {\"name\": \"data-b28c823c19787a7324f85ce485dd4c76\"}, \"mark\": \"line\", \"encoding\": {\"color\": {\"value\": \"#4C78A8\"}, \"opacity\": {\"value\": 1.0}, \"size\": {\"value\": 2.0}, \"x\": {\"type\": \"quantitative\", \"field\": \"x\"}, \"y\": {\"type\": \"quantitative\", \"field\": \"y\"}}}, {\"data\": {\"name\": \"data-f86e190e7177d3ab33d0afde12bcda49\"}, \"mark\": \"line\", \"encoding\": {\"color\": {\"value\": \"#4C78A8\"}, \"opacity\": {\"value\": 1.0}, \"size\": {\"value\": 2.0}, \"x\": {\"type\": \"quantitative\", \"field\": \"x\"}, \"y\": {\"type\": \"quantitative\", \"field\": \"y\"}}}, {\"data\": {\"name\": \"data-b758f07b54f7b0fc6227de2ffaef3f71\"}, \"mark\": \"circle\", \"encoding\": {\"color\": {\"value\": \"#0AD6FF\"}, \"opacity\": {\"value\": 0}, \"size\": {\"value\": 1}, \"x\": {\"type\": \"quantitative\", \"axis\": null, \"field\": \"x\", \"scale\": {\"domain\": [-5.0, 55.0]}}, \"y\": {\"type\": \"quantitative\", \"axis\": null, \"field\": \"y\", \"scale\": {\"domain\": [-22.264954566955566, 7.735045433044434]}}}}, {\"data\": {\"name\": \"data-5c9c2dd9b491e5f1aaef55588bfe59ff\"}, \"mark\": \"line\", \"encoding\": {\"color\": {\"value\": \"#0AD6FF\"}, \"opacity\": {\"value\": 1.0}, \"size\": {\"value\": 2.0}, \"x\": {\"type\": \"quantitative\", \"field\": \"x\"}, \"y\": {\"type\": \"quantitative\", \"field\": \"y\"}}}, {\"data\": {\"name\": \"data-b5477ceced4af9c56ba4cfd03933649c\"}, \"mark\": \"line\", \"encoding\": {\"color\": {\"value\": \"#0AD6FF\"}, \"opacity\": {\"value\": 1.0}, \"size\": {\"value\": 2.0}, \"x\": {\"type\": \"quantitative\", \"field\": \"x\"}, \"y\": {\"type\": \"quantitative\", \"field\": \"y\"}}}, {\"data\": {\"name\": \"data-c5e5c1e273749764ab6a09450eb48ac4\"}, \"mark\": \"line\", \"encoding\": {\"color\": {\"value\": \"#0AD6FF\"}, \"opacity\": {\"value\": 1.0}, \"size\": {\"value\": 2.0}, \"x\": {\"type\": \"quantitative\", \"field\": \"x\"}, \"y\": {\"type\": \"quantitative\", \"field\": \"y\"}}}, {\"data\": {\"name\": \"data-de8eead0e427b99d569e77bcb9a41470\"}, \"mark\": \"line\", \"encoding\": {\"color\": {\"value\": \"#0AD6FF\"}, \"opacity\": {\"value\": 1.0}, \"size\": {\"value\": 2.0}, \"x\": {\"type\": \"quantitative\", \"field\": \"x\"}, \"y\": {\"type\": \"quantitative\", \"field\": \"y\"}}}, {\"data\": {\"name\": \"data-7c99e48932f1e3190430aa9245d7d4fe\"}, \"mark\": \"line\", \"encoding\": {\"color\": {\"value\": \"#0AD6FF\"}, \"opacity\": {\"value\": 1.0}, \"size\": {\"value\": 2.0}, \"x\": {\"type\": \"quantitative\", \"field\": \"x\"}, \"y\": {\"type\": \"quantitative\", \"field\": \"y\"}}}, {\"data\": {\"name\": \"data-031b5cbfc8e3913ce02fd4160fcced5c\"}, \"mark\": \"line\", \"encoding\": {\"color\": {\"value\": \"#0AD6FF\"}, \"opacity\": {\"value\": 1.0}, \"size\": {\"value\": 2.0}, \"x\": {\"type\": \"quantitative\", \"field\": \"x\"}, \"y\": {\"type\": \"quantitative\", \"field\": \"y\"}}}, {\"data\": {\"name\": \"data-cd0607f0e9de96ecf194baa7907b5d3f\"}, \"mark\": \"line\", \"encoding\": {\"color\": {\"value\": \"#0AD6FF\"}, \"opacity\": {\"value\": 1.0}, \"size\": {\"value\": 2.0}, \"x\": {\"type\": \"quantitative\", \"field\": \"x\"}, \"y\": {\"type\": \"quantitative\", \"field\": \"y\"}}}, {\"data\": {\"name\": \"data-979ecba8b0c8158d5d149f7ed96d343f\"}, \"mark\": \"line\", \"encoding\": {\"color\": {\"value\": \"#0AD6FF\"}, \"opacity\": {\"value\": 1.0}, \"size\": {\"value\": 2.0}, \"x\": {\"type\": \"quantitative\", \"field\": \"x\"}, \"y\": {\"type\": \"quantitative\", \"field\": \"y\"}}}, {\"data\": {\"name\": \"data-dbcd9d226dc739c8a8f6e6f7c0e67a73\"}, \"mark\": \"line\", \"encoding\": {\"color\": {\"value\": \"#0AD6FF\"}, \"opacity\": {\"value\": 1.0}, \"size\": {\"value\": 2.0}, \"x\": {\"type\": \"quantitative\", \"field\": \"x\"}, \"y\": {\"type\": \"quantitative\", \"field\": \"y\"}}}, {\"data\": {\"name\": \"data-0fa22fee473844935be162642261148a\"}, \"mark\": \"line\", \"encoding\": {\"color\": {\"value\": \"#0AD6FF\"}, \"opacity\": {\"value\": 1.0}, \"size\": {\"value\": 2.0}, \"x\": {\"type\": \"quantitative\", \"field\": \"x\"}, \"y\": {\"type\": \"quantitative\", \"field\": \"y\"}}}, {\"data\": {\"name\": \"data-929c998b8bccd7d511b932237a6016a3\"}, \"mark\": \"line\", \"encoding\": {\"color\": {\"value\": \"#0AD6FF\"}, \"opacity\": {\"value\": 1.0}, \"size\": {\"value\": 2.0}, \"x\": {\"type\": \"quantitative\", \"field\": \"x\"}, \"y\": {\"type\": \"quantitative\", \"field\": \"y\"}}}, {\"data\": {\"name\": \"data-ca7f8496278196b21ba0e18308d4eab2\"}, \"mark\": \"line\", \"encoding\": {\"color\": {\"value\": \"#0AD6FF\"}, \"opacity\": {\"value\": 1.0}, \"size\": {\"value\": 2.0}, \"x\": {\"type\": \"quantitative\", \"field\": \"x\"}, \"y\": {\"type\": \"quantitative\", \"field\": \"y\"}}}, {\"data\": {\"name\": \"data-ee5c0911d62cd00a50c99e6e1761fa67\"}, \"mark\": \"line\", \"encoding\": {\"color\": {\"value\": \"#0AD6FF\"}, \"opacity\": {\"value\": 1.0}, \"size\": {\"value\": 2.0}, \"x\": {\"type\": \"quantitative\", \"field\": \"x\"}, \"y\": {\"type\": \"quantitative\", \"field\": \"y\"}}}, {\"data\": {\"name\": \"data-de3a309f945686ea394687d3391a6985\"}, \"mark\": \"line\", \"encoding\": {\"color\": {\"value\": \"#0AD6FF\"}, \"opacity\": {\"value\": 1.0}, \"size\": {\"value\": 2.0}, \"x\": {\"type\": \"quantitative\", \"field\": \"x\"}, \"y\": {\"type\": \"quantitative\", \"field\": \"y\"}}}, {\"data\": {\"name\": \"data-df08395c4e3d4b4c47764ca5cefeb00e\"}, \"mark\": \"line\", \"encoding\": {\"color\": {\"value\": \"#0AD6FF\"}, \"opacity\": {\"value\": 1.0}, \"size\": {\"value\": 2.0}, \"x\": {\"type\": \"quantitative\", \"field\": \"x\"}, \"y\": {\"type\": \"quantitative\", \"field\": \"y\"}}}, {\"data\": {\"name\": \"data-10d74c38a59a423a9ed11533ba6dccf7\"}, \"mark\": \"line\", \"encoding\": {\"color\": {\"value\": \"#0AD6FF\"}, \"opacity\": {\"value\": 1.0}, \"size\": {\"value\": 2.0}, \"x\": {\"type\": \"quantitative\", \"field\": \"x\"}, \"y\": {\"type\": \"quantitative\", \"field\": \"y\"}}}, {\"data\": {\"name\": \"data-30dea3501a2063fb1c7bd33ec59adef9\"}, \"mark\": \"line\", \"encoding\": {\"color\": {\"value\": \"#0AD6FF\"}, \"opacity\": {\"value\": 1.0}, \"size\": {\"value\": 2.0}, \"x\": {\"type\": \"quantitative\", \"field\": \"x\"}, \"y\": {\"type\": \"quantitative\", \"field\": \"y\"}}}, {\"data\": {\"name\": \"data-be69204a24a652914e1b2e69c6013d6c\"}, \"mark\": \"line\", \"encoding\": {\"color\": {\"value\": \"#0AD6FF\"}, \"opacity\": {\"value\": 1.0}, \"size\": {\"value\": 2.0}, \"x\": {\"type\": \"quantitative\", \"field\": \"x\"}, \"y\": {\"type\": \"quantitative\", \"field\": \"y\"}}}, {\"data\": {\"name\": \"data-6de45a68f674244858396d81da2a8479\"}, \"mark\": \"line\", \"encoding\": {\"color\": {\"value\": \"#0AD6FF\"}, \"opacity\": {\"value\": 1.0}, \"size\": {\"value\": 2.0}, \"x\": {\"type\": \"quantitative\", \"field\": \"x\"}, \"y\": {\"type\": \"quantitative\", \"field\": \"y\"}}}, {\"data\": {\"name\": \"data-a3265576b48f9522feb96a6538348957\"}, \"mark\": \"line\", \"encoding\": {\"color\": {\"value\": \"#0AD6FF\"}, \"opacity\": {\"value\": 1.0}, \"size\": {\"value\": 2.0}, \"x\": {\"type\": \"quantitative\", \"field\": \"x\"}, \"y\": {\"type\": \"quantitative\", \"field\": \"y\"}}}, {\"data\": {\"name\": \"data-8490a181b3b86e9c59e4d27fb23501fc\"}, \"mark\": \"line\", \"encoding\": {\"color\": {\"value\": \"#0AD6FF\"}, \"opacity\": {\"value\": 1.0}, \"size\": {\"value\": 2.0}, \"x\": {\"type\": \"quantitative\", \"field\": \"x\"}, \"y\": {\"type\": \"quantitative\", \"field\": \"y\"}}}, {\"data\": {\"name\": \"data-993ba042867122bcbf0d4a0e31e89393\"}, \"mark\": \"line\", \"encoding\": {\"color\": {\"value\": \"#0AD6FF\"}, \"opacity\": {\"value\": 1.0}, \"size\": {\"value\": 2.0}, \"x\": {\"type\": \"quantitative\", \"field\": \"x\"}, \"y\": {\"type\": \"quantitative\", \"field\": \"y\"}}}, {\"data\": {\"name\": \"data-0b5cf97a53753cc8f5f4ba0cefc126bb\"}, \"mark\": \"line\", \"encoding\": {\"color\": {\"value\": \"#0AD6FF\"}, \"opacity\": {\"value\": 1.0}, \"size\": {\"value\": 2.0}, \"x\": {\"type\": \"quantitative\", \"field\": \"x\"}, \"y\": {\"type\": \"quantitative\", \"field\": \"y\"}}}, {\"data\": {\"name\": \"data-b49b11cc92c4738bfe8de5d7f9970a4c\"}, \"mark\": \"line\", \"encoding\": {\"color\": {\"value\": \"#0AD6FF\"}, \"opacity\": {\"value\": 1.0}, \"size\": {\"value\": 2.0}, \"x\": {\"type\": \"quantitative\", \"field\": \"x\"}, \"y\": {\"type\": \"quantitative\", \"field\": \"y\"}}}, {\"data\": {\"name\": \"data-699bb16b849bf9d6e55d4fba2a9756f7\"}, \"mark\": \"line\", \"encoding\": {\"color\": {\"value\": \"#0AD6FF\"}, \"opacity\": {\"value\": 1.0}, \"size\": {\"value\": 2.0}, \"x\": {\"type\": \"quantitative\", \"field\": \"x\"}, \"y\": {\"type\": \"quantitative\", \"field\": \"y\"}}}, {\"data\": {\"name\": \"data-8024b5519ac33081d4e047ed6dc92aa9\"}, \"mark\": \"line\", \"encoding\": {\"color\": {\"value\": \"#0AD6FF\"}, \"opacity\": {\"value\": 1.0}, \"size\": {\"value\": 2.0}, \"x\": {\"type\": \"quantitative\", \"field\": \"x\"}, \"y\": {\"type\": \"quantitative\", \"field\": \"y\"}}}, {\"data\": {\"name\": \"data-6acde17bab73ee69633b90b99f888156\"}, \"mark\": \"line\", \"encoding\": {\"color\": {\"value\": \"#0AD6FF\"}, \"opacity\": {\"value\": 1.0}, \"size\": {\"value\": 2.0}, \"x\": {\"type\": \"quantitative\", \"field\": \"x\"}, \"y\": {\"type\": \"quantitative\", \"field\": \"y\"}}}], \"background\": \"white\", \"height\": 300, \"width\": 600, \"$schema\": \"https://vega.github.io/schema/vega-lite/v4.8.1.json\", \"datasets\": {\"data-a7f36a18c5a3060a53edcd8f30ad5fa3\": [{\"x\": 0.0, \"y\": 0.0}, {\"x\": 6.048788547515869, \"y\": -6.6911468505859375}, {\"x\": 7.142857074737549, \"y\": 0.0}, {\"x\": 9.682497024536133, \"y\": -15.180288314819336}, {\"x\": 14.285714149475098, \"y\": 0.0}, {\"x\": 15.868325233459473, \"y\": -21.57405662536621}, {\"x\": 21.428571701049805, \"y\": 0.0}, {\"x\": 25.0, \"y\": -22.08333396911621}, {\"x\": 28.571428298950195, \"y\": 0.0}, {\"x\": 34.131675720214844, \"y\": -21.57405662536621}, {\"x\": 35.71428680419922, \"y\": 0.0}, {\"x\": 40.317501068115234, \"y\": -15.180288314819336}, {\"x\": 42.85714340209961, \"y\": 0.0}, {\"x\": 43.951210021972656, \"y\": -6.6911468505859375}, {\"x\": 50.0, \"y\": 0.0}], \"data-81d6c42b32924038d6d0b7efb9b50865\": [{\"x\": 0.0, \"y\": 0.0}, {\"x\": 6.048788547515869, \"y\": -6.6911468505859375}], \"data-8b400ba0fcfc55a17aa8de6e589b5acd\": [{\"x\": 0.0, \"y\": 0.0}, {\"x\": 7.142857074737549, \"y\": 0.0}], \"data-cc6140d5beae0f0a38f0a198d9a02cdc\": [{\"x\": 6.048788547515869, \"y\": -6.6911468505859375}, {\"x\": 7.142857074737549, \"y\": 0.0}], \"data-0c1061cee55ec52b2741f5898e822a8f\": [{\"x\": 6.048788547515869, \"y\": -6.6911468505859375}, {\"x\": 9.682497024536133, \"y\": -15.180288314819336}], \"data-ce02da0821b973f6cf8a1a58f56c62e2\": [{\"x\": 7.142857074737549, \"y\": 0.0}, {\"x\": 9.682497024536133, \"y\": -15.180288314819336}], \"data-515fc9bb58f1cae1e00fa8a1dc201630\": [{\"x\": 7.142857074737549, \"y\": 0.0}, {\"x\": 14.285714149475098, \"y\": 0.0}], \"data-8dff23457de219e05c8c26acec91e583\": [{\"x\": 9.682497024536133, \"y\": -15.180288314819336}, {\"x\": 14.285714149475098, \"y\": 0.0}], \"data-0c7ad90e49509a54ba28d5d78723c18d\": [{\"x\": 9.682497024536133, \"y\": -15.180288314819336}, {\"x\": 15.868325233459473, \"y\": -21.57405662536621}], \"data-029945df03305689e48111971a92c146\": [{\"x\": 14.285714149475098, \"y\": 0.0}, {\"x\": 15.868325233459473, \"y\": -21.57405662536621}], \"data-83a9a9a49c44b98d2247d6926da36461\": [{\"x\": 14.285714149475098, \"y\": 0.0}, {\"x\": 21.428571701049805, \"y\": 0.0}], \"data-b8d9b71bf2b5923d419fbbf9a16ac637\": [{\"x\": 15.868325233459473, \"y\": -21.57405662536621}, {\"x\": 21.428571701049805, \"y\": 0.0}], \"data-1220426479ad77015034810331c7d12b\": [{\"x\": 15.868325233459473, \"y\": -21.57405662536621}, {\"x\": 25.0, \"y\": -22.08333396911621}], \"data-e82ca79554b9c1c70b00705aad08cc6e\": [{\"x\": 21.428571701049805, \"y\": 0.0}, {\"x\": 25.0, \"y\": -22.08333396911621}], \"data-a3bbe2f942d9a018fe94dbf3bf17c361\": [{\"x\": 21.428571701049805, \"y\": 0.0}, {\"x\": 28.571428298950195, \"y\": 0.0}], \"data-6d1fcd8edbf33a2112c230249b9b2451\": [{\"x\": 25.0, \"y\": -22.08333396911621}, {\"x\": 28.571428298950195, \"y\": 0.0}], \"data-55bf524d3207b888b5a63b7da57605c1\": [{\"x\": 25.0, \"y\": -22.08333396911621}, {\"x\": 34.131675720214844, \"y\": -21.57405662536621}], \"data-8cb6e32d63fcbe650c58b637520bb9a7\": [{\"x\": 28.571428298950195, \"y\": 0.0}, {\"x\": 34.131675720214844, \"y\": -21.57405662536621}], \"data-5725cc0e55d8831c744fb012b6a10822\": [{\"x\": 28.571428298950195, \"y\": 0.0}, {\"x\": 35.71428680419922, \"y\": 0.0}], \"data-a55c7403c7278949c57c9a11b8ea5ffd\": [{\"x\": 34.131675720214844, \"y\": -21.57405662536621}, {\"x\": 35.71428680419922, \"y\": 0.0}], \"data-d8489d90ce89ad41efb7100ad81174cc\": [{\"x\": 34.131675720214844, \"y\": -21.57405662536621}, {\"x\": 40.317501068115234, \"y\": -15.180288314819336}], \"data-382c795a0bc6c3d100b19753ee7d1099\": [{\"x\": 35.71428680419922, \"y\": 0.0}, {\"x\": 40.317501068115234, \"y\": -15.180288314819336}], \"data-5a6d941763adbe3f8b5f23ae62e0472d\": [{\"x\": 35.71428680419922, \"y\": 0.0}, {\"x\": 42.85714340209961, \"y\": 0.0}], \"data-6d90fee826d76a85079b8c6fc9e7a5c0\": [{\"x\": 40.317501068115234, \"y\": -15.180288314819336}, {\"x\": 42.85714340209961, \"y\": 0.0}], \"data-ff1776484ae2cd5c6e26b9b04d19e9fa\": [{\"x\": 40.317501068115234, \"y\": -15.180288314819336}, {\"x\": 43.951210021972656, \"y\": -6.6911468505859375}], \"data-6d4014e0b236dc0cefa0557888778121\": [{\"x\": 42.85714340209961, \"y\": 0.0}, {\"x\": 43.951210021972656, \"y\": -6.6911468505859375}], \"data-b4b5e6cc1eb26d5f4d69e0d3cb22d6c0\": [{\"x\": 42.85714340209961, \"y\": 0.0}, {\"x\": 50.0, \"y\": 0.0}], \"data-56dadf498ac1cedb521ee18f4cab749d\": [{\"x\": 43.951210021972656, \"y\": -6.6911468505859375}, {\"x\": 50.0, \"y\": 0.0}], \"data-0b2361d209cebd40b475f47f30ff51b1\": [{\"x\": -1.258213996887207, \"y\": -1.9136193990707397}, {\"x\": 6.166543960571289, \"y\": -7.033982753753662}, {\"x\": 6.013425827026367, \"y\": -0.25061550736427307}, {\"x\": 9.682497024536133, \"y\": -15.180288314819336}, {\"x\": 13.270980834960938, \"y\": -0.43723252415657043}, {\"x\": 14.841545104980469, \"y\": -22.51374053955078}, {\"x\": 20.423301696777344, \"y\": -1.4140969514846802}, {\"x\": 23.98141860961914, \"y\": -23.494768142700195}, {\"x\": 27.539533615112305, \"y\": -1.4140969514846802}, {\"x\": 33.12129211425781, \"y\": -22.51374053955078}, {\"x\": 34.691856384277344, \"y\": -0.43723252415657043}, {\"x\": 38.280338287353516, \"y\": -15.180288314819336}, {\"x\": 41.94940948486328, \"y\": -0.2506154477596283}, {\"x\": 41.79629135131836, \"y\": -7.033982753753662}, {\"x\": 49.22105026245117, \"y\": -1.9136192798614502}], \"data-726bb3d6881ad8b81aef27c0216d41d2\": [{\"x\": -1.258213996887207, \"y\": -1.9136193990707397}, {\"x\": 6.166543960571289, \"y\": -7.033982753753662}], \"data-4fbcef5d000537723d721071a9a3c0f0\": [{\"x\": -1.258213996887207, \"y\": -1.9136193990707397}, {\"x\": 6.013425827026367, \"y\": -0.25061550736427307}], \"data-9f52098ff2482f456de3ab7e8251d6e3\": [{\"x\": 6.166543960571289, \"y\": -7.033982753753662}, {\"x\": 6.013425827026367, \"y\": -0.25061550736427307}], \"data-1bd4100523310c1eb19beb2741266757\": [{\"x\": 6.166543960571289, \"y\": -7.033982753753662}, {\"x\": 9.682497024536133, \"y\": -15.180288314819336}], \"data-6603e4fd24282399c0c2553ce0ca1678\": [{\"x\": 6.013425827026367, \"y\": -0.25061550736427307}, {\"x\": 9.682497024536133, \"y\": -15.180288314819336}], \"data-ac869134f4d1bfc20bb6d57d2f8ca59a\": [{\"x\": 6.013425827026367, \"y\": -0.25061550736427307}, {\"x\": 13.270980834960938, \"y\": -0.43723252415657043}], \"data-f20e173cc64e4d334e1be531895ef152\": [{\"x\": 9.682497024536133, \"y\": -15.180288314819336}, {\"x\": 13.270980834960938, \"y\": -0.43723252415657043}], \"data-61b79bb550227618c294f54af1489367\": [{\"x\": 9.682497024536133, \"y\": -15.180288314819336}, {\"x\": 14.841545104980469, \"y\": -22.51374053955078}], \"data-00ad4af1ec46cdde2882ffa2b454f84d\": [{\"x\": 13.270980834960938, \"y\": -0.43723252415657043}, {\"x\": 14.841545104980469, \"y\": -22.51374053955078}], \"data-73643ef5a81186803a7daff3fdce5c01\": [{\"x\": 13.270980834960938, \"y\": -0.43723252415657043}, {\"x\": 20.423301696777344, \"y\": -1.4140969514846802}], \"data-8ec66321af7bb33ae9aa0e4a84457b78\": [{\"x\": 14.841545104980469, \"y\": -22.51374053955078}, {\"x\": 20.423301696777344, \"y\": -1.4140969514846802}], \"data-085abbaf2a97bc30bbf2f0fb91201c70\": [{\"x\": 14.841545104980469, \"y\": -22.51374053955078}, {\"x\": 23.98141860961914, \"y\": -23.494768142700195}], \"data-4beef8f146b8eba595be57546b9fee7b\": [{\"x\": 20.423301696777344, \"y\": -1.4140969514846802}, {\"x\": 23.98141860961914, \"y\": -23.494768142700195}], \"data-780dd2971ffd015884d6f1282164336a\": [{\"x\": 20.423301696777344, \"y\": -1.4140969514846802}, {\"x\": 27.539533615112305, \"y\": -1.4140969514846802}], \"data-8befabc0d18bb66a023ad385b8668174\": [{\"x\": 23.98141860961914, \"y\": -23.494768142700195}, {\"x\": 27.539533615112305, \"y\": -1.4140969514846802}], \"data-207579547fbb6c6b7cb8905765d2c959\": [{\"x\": 23.98141860961914, \"y\": -23.494768142700195}, {\"x\": 33.12129211425781, \"y\": -22.51374053955078}], \"data-cf835f85249db822b8770a7ee30573c5\": [{\"x\": 27.539533615112305, \"y\": -1.4140969514846802}, {\"x\": 33.12129211425781, \"y\": -22.51374053955078}], \"data-b776f5fc8af4c52c59373855e1be86dc\": [{\"x\": 27.539533615112305, \"y\": -1.4140969514846802}, {\"x\": 34.691856384277344, \"y\": -0.43723252415657043}], \"data-e0038aaf54964debd6633aa50acafd36\": [{\"x\": 33.12129211425781, \"y\": -22.51374053955078}, {\"x\": 34.691856384277344, \"y\": -0.43723252415657043}], \"data-bda2c58329f41a910e99a0994fddd560\": [{\"x\": 33.12129211425781, \"y\": -22.51374053955078}, {\"x\": 38.280338287353516, \"y\": -15.180288314819336}], \"data-93485cedc5451d6645adb20774b0a902\": [{\"x\": 34.691856384277344, \"y\": -0.43723252415657043}, {\"x\": 38.280338287353516, \"y\": -15.180288314819336}], \"data-75cd5d200021e8d6dfaf93c2868aa5d2\": [{\"x\": 34.691856384277344, \"y\": -0.43723252415657043}, {\"x\": 41.94940948486328, \"y\": -0.2506154477596283}], \"data-a9670545d9d2ec361582d94dae7bc365\": [{\"x\": 38.280338287353516, \"y\": -15.180288314819336}, {\"x\": 41.94940948486328, \"y\": -0.2506154477596283}], \"data-d2f7cf30c3da4ce66d2f3de0f877ec45\": [{\"x\": 38.280338287353516, \"y\": -15.180288314819336}, {\"x\": 41.79629135131836, \"y\": -7.033982753753662}], \"data-3c6aa7e5de23f154ad32a35b67d30660\": [{\"x\": 41.94940948486328, \"y\": -0.2506154477596283}, {\"x\": 41.79629135131836, \"y\": -7.033982753753662}], \"data-b28c823c19787a7324f85ce485dd4c76\": [{\"x\": 41.94940948486328, \"y\": -0.2506154477596283}, {\"x\": 49.22105026245117, \"y\": -1.9136192798614502}], \"data-f86e190e7177d3ab33d0afde12bcda49\": [{\"x\": 41.79629135131836, \"y\": -7.033982753753662}, {\"x\": 49.22105026245117, \"y\": -1.9136192798614502}], \"data-b758f07b54f7b0fc6227de2ffaef3f71\": [{\"x\": -0.9610474550524545, \"y\": -1.553504712715034}, {\"x\": 6.198369565181557, \"y\": -7.204182052567299}, {\"x\": 6.196757548992193, \"y\": -0.17178379863044624}, {\"x\": 9.682497024821712, \"y\": -15.180288315110507}, {\"x\": 13.502255950183715, \"y\": -0.5129232614158682}, {\"x\": 14.915794679230833, \"y\": -22.563222068411388}, {\"x\": 20.605292195048456, \"y\": -1.4371050704155972}, {\"x\": 24.19884611057037, \"y\": -23.52828523726291}, {\"x\": 27.790151518465905, \"y\": -1.4410792665696643}, {\"x\": 33.34773833676342, \"y\": -22.5838476694982}, {\"x\": 34.92848277127129, \"y\": -0.513868934499537}, {\"x\": 38.63638014218171, \"y\": -15.180288315097446}, {\"x\": 42.186767489331984, \"y\": -0.1654264059338417}, {\"x\": 42.30037007660463, \"y\": -7.229245361568549}, {\"x\": 49.3817260085195, \"y\": -1.5448869173536817}], \"data-5c9c2dd9b491e5f1aaef55588bfe59ff\": [{\"x\": -0.9610474550524545, \"y\": -1.553504712715034}, {\"x\": 6.198369565181557, \"y\": -7.204182052567299}], \"data-b5477ceced4af9c56ba4cfd03933649c\": [{\"x\": -0.9610474550524545, \"y\": -1.553504712715034}, {\"x\": 6.196757548992193, \"y\": -0.17178379863044624}], \"data-c5e5c1e273749764ab6a09450eb48ac4\": [{\"x\": 6.198369565181557, \"y\": -7.204182052567299}, {\"x\": 6.196757548992193, \"y\": -0.17178379863044624}], \"data-de8eead0e427b99d569e77bcb9a41470\": [{\"x\": 6.198369565181557, \"y\": -7.204182052567299}, {\"x\": 9.682497024821712, \"y\": -15.180288315110507}], \"data-7c99e48932f1e3190430aa9245d7d4fe\": [{\"x\": 6.196757548992193, \"y\": -0.17178379863044624}, {\"x\": 9.682497024821712, \"y\": -15.180288315110507}], \"data-031b5cbfc8e3913ce02fd4160fcced5c\": [{\"x\": 6.196757548992193, \"y\": -0.17178379863044624}, {\"x\": 13.502255950183715, \"y\": -0.5129232614158682}], \"data-cd0607f0e9de96ecf194baa7907b5d3f\": [{\"x\": 9.682497024821712, \"y\": -15.180288315110507}, {\"x\": 13.502255950183715, \"y\": -0.5129232614158682}], \"data-979ecba8b0c8158d5d149f7ed96d343f\": [{\"x\": 9.682497024821712, \"y\": -15.180288315110507}, {\"x\": 14.915794679230833, \"y\": -22.563222068411388}], \"data-dbcd9d226dc739c8a8f6e6f7c0e67a73\": [{\"x\": 13.502255950183715, \"y\": -0.5129232614158682}, {\"x\": 14.915794679230833, \"y\": -22.563222068411388}], \"data-0fa22fee473844935be162642261148a\": [{\"x\": 13.502255950183715, \"y\": -0.5129232614158682}, {\"x\": 20.605292195048456, \"y\": -1.4371050704155972}], \"data-929c998b8bccd7d511b932237a6016a3\": [{\"x\": 14.915794679230833, \"y\": -22.563222068411388}, {\"x\": 20.605292195048456, \"y\": -1.4371050704155972}], \"data-ca7f8496278196b21ba0e18308d4eab2\": [{\"x\": 14.915794679230833, \"y\": -22.563222068411388}, {\"x\": 24.19884611057037, \"y\": -23.52828523726291}], \"data-ee5c0911d62cd00a50c99e6e1761fa67\": [{\"x\": 20.605292195048456, \"y\": -1.4371050704155972}, {\"x\": 24.19884611057037, \"y\": -23.52828523726291}], \"data-de3a309f945686ea394687d3391a6985\": [{\"x\": 20.605292195048456, \"y\": -1.4371050704155972}, {\"x\": 27.790151518465905, \"y\": -1.4410792665696643}], \"data-df08395c4e3d4b4c47764ca5cefeb00e\": [{\"x\": 24.19884611057037, \"y\": -23.52828523726291}, {\"x\": 27.790151518465905, \"y\": -1.4410792665696643}], \"data-10d74c38a59a423a9ed11533ba6dccf7\": [{\"x\": 24.19884611057037, \"y\": -23.52828523726291}, {\"x\": 33.34773833676342, \"y\": -22.5838476694982}], \"data-30dea3501a2063fb1c7bd33ec59adef9\": [{\"x\": 27.790151518465905, \"y\": -1.4410792665696643}, {\"x\": 33.34773833676342, \"y\": -22.5838476694982}], \"data-be69204a24a652914e1b2e69c6013d6c\": [{\"x\": 27.790151518465905, \"y\": -1.4410792665696643}, {\"x\": 34.92848277127129, \"y\": -0.513868934499537}], \"data-6de45a68f674244858396d81da2a8479\": [{\"x\": 33.34773833676342, \"y\": -22.5838476694982}, {\"x\": 34.92848277127129, \"y\": -0.513868934499537}], \"data-a3265576b48f9522feb96a6538348957\": [{\"x\": 33.34773833676342, \"y\": -22.5838476694982}, {\"x\": 38.63638014218171, \"y\": -15.180288315097446}], \"data-8490a181b3b86e9c59e4d27fb23501fc\": [{\"x\": 34.92848277127129, \"y\": -0.513868934499537}, {\"x\": 38.63638014218171, \"y\": -15.180288315097446}], \"data-993ba042867122bcbf0d4a0e31e89393\": [{\"x\": 34.92848277127129, \"y\": -0.513868934499537}, {\"x\": 42.186767489331984, \"y\": -0.1654264059338417}], \"data-0b5cf97a53753cc8f5f4ba0cefc126bb\": [{\"x\": 38.63638014218171, \"y\": -15.180288315097446}, {\"x\": 42.186767489331984, \"y\": -0.1654264059338417}], \"data-b49b11cc92c4738bfe8de5d7f9970a4c\": [{\"x\": 38.63638014218171, \"y\": -15.180288315097446}, {\"x\": 42.30037007660463, \"y\": -7.229245361568549}], \"data-699bb16b849bf9d6e55d4fba2a9756f7\": [{\"x\": 42.186767489331984, \"y\": -0.1654264059338417}, {\"x\": 42.30037007660463, \"y\": -7.229245361568549}], \"data-8024b5519ac33081d4e047ed6dc92aa9\": [{\"x\": 42.186767489331984, \"y\": -0.1654264059338417}, {\"x\": 49.3817260085195, \"y\": -1.5448869173536817}], \"data-6acde17bab73ee69633b90b99f888156\": [{\"x\": 42.30037007660463, \"y\": -7.229245361568549}, {\"x\": 49.3817260085195, \"y\": -1.5448869173536817}]}}, {\"mode\": \"vega-lite\"});\n",
       "</script>"
      ],
      "text/plain": [
       "alt.LayerChart(...)"
      ]
     },
     "execution_count": 8,
     "metadata": {},
     "output_type": "execute_result"
    }
   ],
   "source": [
    "i = 8\n",
    "pred = rf.predict([testData[i]])[0]\n",
    "plotTruss(testData[i], showDeformed=True, defScale=100, prediction=pred)"
   ]
  },
  {
   "cell_type": "code",
   "execution_count": 7,
   "metadata": {},
   "outputs": [
    {
     "data": {
      "text/html": [
       "\n",
       "<div id=\"altair-viz-48dafcde23aa462ebbefa468b7379b50\"></div>\n",
       "<script type=\"text/javascript\">\n",
       "  (function(spec, embedOpt){\n",
       "    let outputDiv = document.currentScript.previousElementSibling;\n",
       "    if (outputDiv.id !== \"altair-viz-48dafcde23aa462ebbefa468b7379b50\") {\n",
       "      outputDiv = document.getElementById(\"altair-viz-48dafcde23aa462ebbefa468b7379b50\");\n",
       "    }\n",
       "    const paths = {\n",
       "      \"vega\": \"https://cdn.jsdelivr.net/npm//vega@5?noext\",\n",
       "      \"vega-lib\": \"https://cdn.jsdelivr.net/npm//vega-lib?noext\",\n",
       "      \"vega-lite\": \"https://cdn.jsdelivr.net/npm//vega-lite@4.8.1?noext\",\n",
       "      \"vega-embed\": \"https://cdn.jsdelivr.net/npm//vega-embed@6?noext\",\n",
       "    };\n",
       "\n",
       "    function loadScript(lib) {\n",
       "      return new Promise(function(resolve, reject) {\n",
       "        var s = document.createElement('script');\n",
       "        s.src = paths[lib];\n",
       "        s.async = true;\n",
       "        s.onload = () => resolve(paths[lib]);\n",
       "        s.onerror = () => reject(`Error loading script: ${paths[lib]}`);\n",
       "        document.getElementsByTagName(\"head\")[0].appendChild(s);\n",
       "      });\n",
       "    }\n",
       "\n",
       "    function showError(err) {\n",
       "      outputDiv.innerHTML = `<div class=\"error\" style=\"color:red;\">${err}</div>`;\n",
       "      throw err;\n",
       "    }\n",
       "\n",
       "    function displayChart(vegaEmbed) {\n",
       "      vegaEmbed(outputDiv, spec, embedOpt)\n",
       "        .catch(err => showError(`Javascript Error: ${err.message}<br>This usually means there's a typo in your chart specification. See the javascript console for the full traceback.`));\n",
       "    }\n",
       "\n",
       "    if(typeof define === \"function\" && define.amd) {\n",
       "      requirejs.config({paths});\n",
       "      require([\"vega-embed\"], displayChart, err => showError(`Error loading script: ${err.message}`));\n",
       "    } else if (typeof vegaEmbed === \"function\") {\n",
       "      displayChart(vegaEmbed);\n",
       "    } else {\n",
       "      loadScript(\"vega\")\n",
       "        .then(() => loadScript(\"vega-lite\"))\n",
       "        .then(() => loadScript(\"vega-embed\"))\n",
       "        .catch(showError)\n",
       "        .then(() => displayChart(vegaEmbed));\n",
       "    }\n",
       "  })({\"config\": {\"view\": {\"continuousWidth\": 400, \"continuousHeight\": 300, \"strokeOpacity\": 0}}, \"hconcat\": [{\"mark\": {\"type\": \"circle\", \"size\": 60}, \"encoding\": {\"color\": {\"condition\": {\"value\": \"#4C78A8\", \"selection\": \"selector001\"}, \"value\": \"lightgray\"}, \"opacity\": {\"value\": 0.02}, \"tooltip\": [{\"type\": \"ordinal\", \"field\": \"design\"}, {\"type\": \"quantitative\", \"field\": \"mse\"}], \"x\": {\"type\": \"quantitative\", \"axis\": {\"format\": \".0e\", \"tickCount\": 5}, \"field\": \"mse\", \"scale\": {\"type\": \"log\"}, \"title\": \"MSE\"}, \"y\": {\"type\": \"quantitative\", \"field\": \"Percentile\"}}, \"height\": 300, \"selection\": {\"selector001\": {\"type\": \"single\", \"empty\": \"all\", \"fields\": [\"design\"]}}, \"width\": 300}, {\"mark\": \"line\", \"encoding\": {\"color\": {\"type\": \"nominal\", \"field\": \"type\", \"legend\": {\"title\": \"\"}, \"scale\": {\"domain\": [\"undeformed\", \"deformed\", \"prediction\"], \"range\": [\"#C7D5E5\", \"#4C78A8\", \"#0AD6FF\"]}, \"sort\": [\"undeformed\", \"deformed\", \"prediction\"]}, \"detail\": {\"type\": \"quantitative\", \"field\": \"bar\"}, \"x\": {\"type\": \"quantitative\", \"axis\": null, \"field\": \"x\", \"scale\": {\"domain\": [2.406105340023778, 47.40610534002378]}}, \"y\": {\"type\": \"quantitative\", \"axis\": null, \"field\": \"y\", \"scale\": {\"domain\": [-21.302932696266115, 8.697067303733885]}}}, \"height\": 300, \"selection\": {\"selector001\": {\"type\": \"single\", \"empty\": \"all\", \"fields\": [\"design\"]}}, \"transform\": [{\"filter\": {\"selection\": \"selector001\"}}], \"width\": 450}], \"data\": {\"url\": \"altair-data-17851e005a1da8813e945a7c82afad56.json\", \"format\": {\"type\": \"json\"}}, \"$schema\": \"https://vega.github.io/schema/vega-lite/v4.8.1.json\"}, {\"mode\": \"vega-lite\"});\n",
       "</script>"
      ],
      "text/plain": [
       "alt.HConcatChart(...)"
      ]
     },
     "metadata": {},
     "output_type": "display_data"
    }
   ],
   "source": [
    "# interactive scatter plot\n",
    "alt.data_transformers.enable('json')\n",
    "allPreds = rf.predict(testData)\n",
    "display(interactiveErrorPlot(testData, allPreds))\n",
    "alt.data_transformers.enable('default');"
   ]
  }
 ],
 "metadata": {
  "kernelspec": {
   "display_name": "ptgeom",
   "language": "python",
   "name": "ptgeom"
  },
  "language_info": {
   "codemirror_mode": {
    "name": "ipython",
    "version": 3
   },
   "file_extension": ".py",
   "mimetype": "text/x-python",
   "name": "python",
   "nbconvert_exporter": "python",
   "pygments_lexer": "ipython3",
   "version": "3.7.7"
  }
 },
 "nbformat": 4,
 "nbformat_minor": 2
}
