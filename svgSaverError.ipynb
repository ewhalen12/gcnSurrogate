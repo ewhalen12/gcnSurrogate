{
 "cells": [
  {
   "cell_type": "code",
   "execution_count": 1,
   "metadata": {},
   "outputs": [
    {
     "data": {
      "text/html": [
       "\n",
       "<div id=\"altair-viz-27b89761666c4717b81dc1a89b80c634\"></div>\n",
       "<script type=\"text/javascript\">\n",
       "  (function(spec, embedOpt){\n",
       "    let outputDiv = document.currentScript.previousElementSibling;\n",
       "    if (outputDiv.id !== \"altair-viz-27b89761666c4717b81dc1a89b80c634\") {\n",
       "      outputDiv = document.getElementById(\"altair-viz-27b89761666c4717b81dc1a89b80c634\");\n",
       "    }\n",
       "    const paths = {\n",
       "      \"vega\": \"https://cdn.jsdelivr.net/npm//vega@5?noext\",\n",
       "      \"vega-lib\": \"https://cdn.jsdelivr.net/npm//vega-lib?noext\",\n",
       "      \"vega-lite\": \"https://cdn.jsdelivr.net/npm//vega-lite@4.8.1?noext\",\n",
       "      \"vega-embed\": \"https://cdn.jsdelivr.net/npm//vega-embed@6?noext\",\n",
       "    };\n",
       "\n",
       "    function loadScript(lib) {\n",
       "      return new Promise(function(resolve, reject) {\n",
       "        var s = document.createElement('script');\n",
       "        s.src = paths[lib];\n",
       "        s.async = true;\n",
       "        s.onload = () => resolve(paths[lib]);\n",
       "        s.onerror = () => reject(`Error loading script: ${paths[lib]}`);\n",
       "        document.getElementsByTagName(\"head\")[0].appendChild(s);\n",
       "      });\n",
       "    }\n",
       "\n",
       "    function showError(err) {\n",
       "      outputDiv.innerHTML = `<div class=\"error\" style=\"color:red;\">${err}</div>`;\n",
       "      throw err;\n",
       "    }\n",
       "\n",
       "    function displayChart(vegaEmbed) {\n",
       "      vegaEmbed(outputDiv, spec, embedOpt)\n",
       "        .catch(err => showError(`Javascript Error: ${err.message}<br>This usually means there's a typo in your chart specification. See the javascript console for the full traceback.`));\n",
       "    }\n",
       "\n",
       "    if(typeof define === \"function\" && define.amd) {\n",
       "      requirejs.config({paths});\n",
       "      require([\"vega-embed\"], displayChart, err => showError(`Error loading script: ${err.message}`));\n",
       "    } else if (typeof vegaEmbed === \"function\") {\n",
       "      displayChart(vegaEmbed);\n",
       "    } else {\n",
       "      loadScript(\"vega\")\n",
       "        .then(() => loadScript(\"vega-lite\"))\n",
       "        .then(() => loadScript(\"vega-embed\"))\n",
       "        .catch(showError)\n",
       "        .then(() => displayChart(vegaEmbed));\n",
       "    }\n",
       "  })({\"config\": {\"view\": {\"continuousWidth\": 400, \"continuousHeight\": 300, \"strokeOpacity\": 0}}, \"data\": {\"name\": \"data-632f61fef1e2fccc41daf02461a934b2\"}, \"mark\": \"circle\", \"background\": \"none\", \"encoding\": {\"x\": {\"type\": \"quantitative\", \"axis\": null, \"field\": \"x\"}, \"y\": {\"type\": \"quantitative\", \"axis\": null, \"field\": \"y\"}}, \"$schema\": \"https://vega.github.io/schema/vega-lite/v4.8.1.json\", \"datasets\": {\"data-632f61fef1e2fccc41daf02461a934b2\": [{\"x\": 0, \"y\": 0}]}}, {\"mode\": \"vega-lite\"});\n",
       "</script>"
      ],
      "text/plain": [
       "alt.Chart(...)"
      ]
     },
     "metadata": {},
     "output_type": "display_data"
    },
    {
     "data": {
      "text/plain": [
       "'<svg class=\"marks\" width=\"410\" height=\"310\" viewBox=\"0 0 410 310\" version=\"1.1\" xmlns=\"http://www.w3.org/2000/svg\" xmlns:xlink=\"http://www.w3.org/1999/xlink\"><g transform=\"translate(5,5)\"><g class=\"mark-group role-frame root\"><g transform=\"translate(0,0)\"><path class=\"background\" d=\"M0.5,0.5h400v300h-400Z\" style=\"fill: none; stroke: #ddd; stroke-opacity: 0;\"></path><g><g class=\"mark-symbol role-mark marks\"><path transform=\"translate(200,150)\" d=\"M2.7386127875258306,0A2.7386127875258306,2.7386127875258306,0,1,1,-2.7386127875258306,0A2.7386127875258306,2.7386127875258306,0,1,1,2.7386127875258306,0\" style=\"fill: #4c78a8; stroke-width: 2; opacity: 0.7;\"></path></g></g><path class=\"foreground\" d=\"\" style=\"display: none; fill: none;\"></path></g></g></g></svg>'"
      ]
     },
     "execution_count": 1,
     "metadata": {},
     "output_type": "execute_result"
    }
   ],
   "source": [
    "import numpy as np\n",
    "import pandas as pd\n",
    "import altair as alt\n",
    "import altair_saver\n",
    "\n",
    "# create a simple scatter plot with a single circulat point at the origin\n",
    "df = pd.DataFrame({'x':[0], 'y':[0]}, index=[0])\n",
    "circleChart = alt.Chart(df, background='none').mark_circle().encode(\n",
    "    x=alt.X('x', axis=None),\n",
    "    y=alt.Y('y', axis=None)\n",
    ").configure_view(strokeOpacity=0)\n",
    "\n",
    "display(circleChart)\n",
    "\n",
    "# export to SVG string\n",
    "altair_saver.save(circleChart, fmt='svg')"
   ]
  },
  {
   "cell_type": "code",
   "execution_count": 17,
   "metadata": {},
   "outputs": [
    {
     "data": {
      "text/html": [
       "\n",
       "<div id=\"altair-viz-b51563b24cab487ebe862d765030eba2\"></div>\n",
       "<script type=\"text/javascript\">\n",
       "  (function(spec, embedOpt){\n",
       "    let outputDiv = document.currentScript.previousElementSibling;\n",
       "    if (outputDiv.id !== \"altair-viz-b51563b24cab487ebe862d765030eba2\") {\n",
       "      outputDiv = document.getElementById(\"altair-viz-b51563b24cab487ebe862d765030eba2\");\n",
       "    }\n",
       "    const paths = {\n",
       "      \"vega\": \"https://cdn.jsdelivr.net/npm//vega@5?noext\",\n",
       "      \"vega-lib\": \"https://cdn.jsdelivr.net/npm//vega-lib?noext\",\n",
       "      \"vega-lite\": \"https://cdn.jsdelivr.net/npm//vega-lite@4.8.1?noext\",\n",
       "      \"vega-embed\": \"https://cdn.jsdelivr.net/npm//vega-embed@6?noext\",\n",
       "    };\n",
       "\n",
       "    function loadScript(lib) {\n",
       "      return new Promise(function(resolve, reject) {\n",
       "        var s = document.createElement('script');\n",
       "        s.src = paths[lib];\n",
       "        s.async = true;\n",
       "        s.onload = () => resolve(paths[lib]);\n",
       "        s.onerror = () => reject(`Error loading script: ${paths[lib]}`);\n",
       "        document.getElementsByTagName(\"head\")[0].appendChild(s);\n",
       "      });\n",
       "    }\n",
       "\n",
       "    function showError(err) {\n",
       "      outputDiv.innerHTML = `<div class=\"error\" style=\"color:red;\">${err}</div>`;\n",
       "      throw err;\n",
       "    }\n",
       "\n",
       "    function displayChart(vegaEmbed) {\n",
       "      vegaEmbed(outputDiv, spec, embedOpt)\n",
       "        .catch(err => showError(`Javascript Error: ${err.message}<br>This usually means there's a typo in your chart specification. See the javascript console for the full traceback.`));\n",
       "    }\n",
       "\n",
       "    if(typeof define === \"function\" && define.amd) {\n",
       "      requirejs.config({paths});\n",
       "      require([\"vega-embed\"], displayChart, err => showError(`Error loading script: ${err.message}`));\n",
       "    } else if (typeof vegaEmbed === \"function\") {\n",
       "      displayChart(vegaEmbed);\n",
       "    } else {\n",
       "      loadScript(\"vega\")\n",
       "        .then(() => loadScript(\"vega-lite\"))\n",
       "        .then(() => loadScript(\"vega-embed\"))\n",
       "        .catch(showError)\n",
       "        .then(() => displayChart(vegaEmbed));\n",
       "    }\n",
       "  })({\"config\": {\"view\": {\"continuousWidth\": 400, \"continuousHeight\": 300, \"strokeOpacity\": 0}}, \"data\": {\"name\": \"data-632f61fef1e2fccc41daf02461a934b2\"}, \"mark\": {\"type\": \"point\", \"fill\": \"#4c78a8\", \"shape\": \"M2.7386127875258306,0A2.7386127875258306,2.7386127875258306,0,1,1,-2.7386127875258306,0A2.7386127875258306,2.7386127875258306,0,1,1,2.7386127875258306,0\", \"stroke\": null}, \"background\": \"none\", \"encoding\": {\"x\": {\"type\": \"quantitative\", \"axis\": null, \"field\": \"x\"}, \"y\": {\"type\": \"quantitative\", \"axis\": null, \"field\": \"y\"}}, \"$schema\": \"https://vega.github.io/schema/vega-lite/v4.8.1.json\", \"datasets\": {\"data-632f61fef1e2fccc41daf02461a934b2\": [{\"x\": 0, \"y\": 0}]}}, {\"mode\": \"vega-lite\"});\n",
       "</script>"
      ],
      "text/plain": [
       "alt.Chart(...)"
      ]
     },
     "metadata": {},
     "output_type": "display_data"
    },
    {
     "data": {
      "text/plain": [
       "'<svg class=\"marks\" width=\"410\" height=\"310\" viewBox=\"0 0 410 310\" version=\"1.1\" xmlns=\"http://www.w3.org/2000/svg\" xmlns:xlink=\"http://www.w3.org/1999/xlink\"><g transform=\"translate(5,5)\"><g class=\"mark-group role-frame root\"><g transform=\"translate(0,0)\"><path class=\"background\" d=\"M0.5,0.5h400v300h-400Z\" style=\"fill: none; stroke: #ddd; stroke-opacity: 0;\"></path><g><g class=\"mark-symbol role-mark marks\"><path transform=\"translate(200,150)\" d=\"M7.5,0C7.5,4.142135623730951,4.142135623730952,7.5,4.592425496802575e-16,7.5C-4.14213562373095,7.5,-7.499999999999999,4.142135623730952,-7.5,9.18485099360515e-16C-7.5,-4.14213562373095,-4.142135623730953,-7.499999999999999,-1.3777276490407722e-15,-7.5C4.142135623730949,-7.5,7.499999999999999,-4.142135623730953,7.5,-1.83697019872103e-15\" style=\"fill: #4c78a8; stroke-width: 2; opacity: 0.7;\"></path></g></g><path class=\"foreground\" d=\"\" style=\"display: none; fill: none;\"></path></g></g></g></svg>'"
      ]
     },
     "execution_count": 17,
     "metadata": {},
     "output_type": "execute_result"
    }
   ],
   "source": [
    "# the exact mark-symbol SVG path produced by the first example\n",
    "customSymbolSvg = \"M2.7386127875258306,0A2.7386127875258306,2.7386127875258306,0,1,1,-2.7386127875258306,0A2.7386127875258306,2.7386127875258306,0,1,1,2.7386127875258306,0\"\n",
    "\n",
    "# create a new scatter plot with point shape defined by SVG string\n",
    "customSymbolChart = alt.Chart(df, background='none').mark_point(\n",
    "    fill='#4c78a8',\n",
    "    stroke=None,\n",
    "    shape=customSymbolSvg,\n",
    ").encode(\n",
    "    x=alt.X('x', axis=None), \n",
    "    y=alt.Y('y', axis=None),\n",
    ").configure_view(strokeOpacity=0)\n",
    "\n",
    "display(customSymbolChart)\n",
    "\n",
    "# export to SVG string\n",
    "altair_saver.save(customSymbolChart, fmt='svg')"
   ]
  }
 ],
 "metadata": {
  "kernelspec": {
   "display_name": "ptgeom",
   "language": "python",
   "name": "ptgeom"
  },
  "language_info": {
   "codemirror_mode": {
    "name": "ipython",
    "version": 3
   },
   "file_extension": ".py",
   "mimetype": "text/x-python",
   "name": "python",
   "nbconvert_exporter": "python",
   "pygments_lexer": "ipython3",
   "version": "3.7.7"
  }
 },
 "nbformat": 4,
 "nbformat_minor": 2
}
